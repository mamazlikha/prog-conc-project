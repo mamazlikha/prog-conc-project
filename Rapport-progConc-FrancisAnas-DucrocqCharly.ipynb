{
 "cells": [
  {
   "cell_type": "markdown",
   "metadata": {},
   "source": [
    "# Projet de gestion de concurrence"
   ]
  },
  {
   "cell_type": "markdown",
   "metadata": {},
   "source": [
    "- __Francis Anas : anas.francis@etu.univ-cotedazur.fr__\n",
    "- __Ducrocq Charly : charly.ducrocq@etu.univ-cotedazur.fr__"
   ]
  },
  {
   "cell_type": "markdown",
   "metadata": {},
   "source": [
    "## Objectif"
   ]
  },
  {
   "cell_type": "markdown",
   "metadata": {},
   "source": [
    "Mettre en évidence et analyser les différentes difficultés et les résolutions possibles de celles-ci de la programmation concurrentielle. \n",
    "Pour ce faire, nous utiliserons le langage de programmation python."
   ]
  },
  {
   "cell_type": "markdown",
   "metadata": {},
   "source": [
    "## Sommaire"
   ]
  },
  {
   "cell_type": "markdown",
   "metadata": {},
   "source": [
    "1. [Objectif](#Objectif)\n",
    "1. [Les différente bibliothèque de threading python](#Les-différente-bibliothèque-de-threading-python)\n",
    "1. [Les mécanismes de synchronisation en Python](#Les-mécanismes-de-synchronisation-en-Python)\n",
    "1. [Définitions de quelques procédures pour initialiser une grille à partir d'un fichier de configuration](#Définitions-de-quelques-procédures-pour-initialiser-une-grille-à-partir-d'un-fichier-de-configuration)\n",
    "    1. [Définition de la grille](#Définition-de-la-grille)\n",
    "    1. [Définition d'un obstacle](#Définition-d'un-obstacle)\n",
    "    1. [Définition d'une personne](#Définition-d'une-personne)\n",
    "    1. [Construction d'une image pour OpenCV](#Construction-d'une-image-pour-OpenCV)\n",
    "    1. [Utilisation des procédures précédentes pour créer une nouvelle grille qui sera sauvegardée dans un fichier](#Utilisation-des-procédures-précédentes-pour-créer-une-nouvelle-grille-qui-sera-sauvegardée-dans-un-fichier)\n",
    "1. [Solution itérative](#Solution-itérative)\n",
    "    1.  [Avec trace mais sans visualisation](#Avec-trace-mais-sans-visualisation)\n",
    "    1.  [Visualisation de chacune des itérations avec Matplotlib](#Visualisation-de-chacune-des-itérations-avec-Matplotlib)\n",
    "    1.  [Visualisation de chacune des itérations avec OpenCV](#Visualisation-de-chacune-des-itérations-avec-OpenCV)\n",
    "    1.  [Sans trace mais avec visualisation](#Sans-trace-mais-avec-visualisation)\n",
    "1. [Notre travail](#Notre-travail)\n",
    "    1. [Scénario 1](#Scénario-1---version-itérative)\n",
    "    1. [Scénario 2](#Scénario-2---version-1-thread-par-personne)\n",
    "    1. [Scénario 3](#Scénario-3---version-1-thread-pour-1/4-de-la-grille)\n",
    "    1. [Comparaison des trois approches](#Comparaison-des-trois-approches)\n",
    "1. [Export du notebook dans un fichier python](#Export-du-notebook-dans-un-fichier-python)"
   ]
  },
  {
   "cell_type": "markdown",
   "metadata": {},
   "source": [
    "## Les différente bibliothèque de threading python"
   ]
  },
  {
   "cell_type": "markdown",
   "metadata": {},
   "source": [
    "- *threading*\n",
    "    - Module le plus utilisé dans python pour l'utilisation de thread. Il élabore des interfaces haut-niveau de fils d'exécutions multiples. Ce module étant basé sur le module *_thread*, il fournit tous les outils et fonctionnalités que fournisse le module *_thread*.\n",
    "- *_thread*\n",
    "    - Ce module fournit les primitives de bas niveau pour travailler avec de multiples fils d'exécution; plusieurs fils d'exécution de contrôle partagent leur espace de données global. Pour la synchronisation, de simples verrous (aussi appelés des mutexes ou des binary semaphores) sont fournis.\n",
    "- *_dummy_thread*\n",
    "    - Ancêtre du module *_thread*. Aujourd'hui obsolète.\n",
    "- *dummy_threading*\n",
    "    - Ancêtre du module *threading*. Aujourd'hui obsolète.\n",
    "- Autre alternative : *multiprocessing & multiprocessing.shared_memory*\n",
    "    - La combinaison de ces deux module permet d'obtenir un équivalent d'une thread. Cependant, son utilisation ne ferait que compliquer le code inutilement.\n",
    "    \n",
    "En somme : nous utiliserons la bibliothèque *threading*. Ce module est complet et simple d'utilisation."
   ]
  },
  {
   "cell_type": "markdown",
   "metadata": {},
   "source": [
    " ### La bibliothèque \"threading\""
   ]
  },
  {
   "cell_type": "markdown",
   "metadata": {},
   "source": [
    "##### Création d'une thread :\n",
    "\n",
    "Les fonctions utilisées pour cela sont le constructeur Thread() et la fonction de demarrage start()."
   ]
  },
  {
   "cell_type": "markdown",
   "metadata": {},
   "source": [
    "#### Attente d'une thread\n",
    "\n",
    "La fonction join() permet d'attendre la fin du thread."
   ]
  },
  {
   "cell_type": "markdown",
   "metadata": {},
   "source": [
    "#### Exemple"
   ]
  },
  {
   "cell_type": "code",
   "execution_count": 1,
   "metadata": {
    "pycharm": {
     "is_executing": false
    }
   },
   "outputs": [
    {
     "name": "stdout",
     "output_type": "stream",
     "text": [
      "Hello world!\n",
      "\n"
     ]
    }
   ],
   "source": [
    "#!/usr/bin/python\n",
    "import threading\n",
    "import time\n",
    "\n",
    "# thread function to start\n",
    "\n",
    "def print_function():\n",
    "    print(\"Hello world!\\n\")\n",
    "\n",
    "\n",
    "x = threading.Thread(target=print_function, ) # creating and initializing thread\n",
    "x.start() "
   ]
  },
  {
   "cell_type": "markdown",
   "metadata": {},
   "source": [
    "## Les mécanismes de synchronisation en Python"
   ]
  },
  {
   "cell_type": "markdown",
   "metadata": {},
   "source": [
    "### Pourquoi avoir besoin de ces mécanisme ?\n",
    "L'utilisation de plusieurs threads ne permet pas de maitriser l'ordre d'exécution de celle-ci.\n",
    "#### Mise en évidence du flot d'execution de plusieur thread"
   ]
  },
  {
   "cell_type": "code",
   "execution_count": 60,
   "metadata": {
    "pycharm": {
     "is_executing": false
    }
   },
   "outputs": [
    {
     "name": "stdout",
     "output_type": "stream",
     "text": [
      "Lancement de  10  threads :\n",
      "10728514693"
     ]
    }
   ],
   "source": [
    "import threading\n",
    "import time\n",
    "\n",
    "N = 10;\n",
    "\n",
    "def thread_function(i):\n",
    "    time.sleep(2) #Necessaire à la mise en evidence\n",
    "    print(i, sep='', end='')\n",
    "\n",
    "\n",
    "print(\"Lancement de \", N ,\" threads :\")\n",
    "    \n",
    "i=0\n",
    "while i<N :\n",
    "    i=i+1\n",
    "    x = threading.Thread(target=thread_function, args=(i,))\n",
    "    x.start()"
   ]
  },
  {
   "cell_type": "markdown",
   "metadata": {},
   "source": [
    "### Les verrous\n",
    "Les verrous permettent de limiter l'accès à une zone sensible à une seul thread. Celles-ci devront acquérir ce verrou et finiront par le relâcher après avoir passé la zone sensible. Si, lorsqu'une une thread voudra acquérir un verrou, celui-ci serait déjà acquis par une autre thread, alors la thread courant ne pourra pas reprendre son exécution tant que le verrou ne sera pas relâché.\n",
    "#### Exemple - Mise en évidence de l'intérêt d'un verrou"
   ]
  },
  {
   "cell_type": "code",
   "execution_count": 61,
   "metadata": {
    "pycharm": {
     "is_executing": false
    }
   },
   "outputs": [
    {
     "name": "stdout",
     "output_type": "stream",
     "text": [
      "Lancement de  1000  threads :\n",
      "total expected = 4000\n",
      "total got = 1076\n"
     ]
    }
   ],
   "source": [
    "import threading\n",
    "import time\n",
    "\n",
    "N = 1000\n",
    "\n",
    "left = 0\n",
    "right = 0\n",
    "total = 0\n",
    "\n",
    "\n",
    "def incr_function(leftOrRight):\n",
    "    global total\n",
    "    global right\n",
    "    global left\n",
    "    i=0\n",
    "    while i<N :\n",
    "        i=i+1\n",
    "        save = total\n",
    "        print('',end='');\n",
    "        if leftOrRight :\n",
    "            left = left+1\n",
    "        else :\n",
    "            right = right+1\n",
    "        total = save +1\n",
    "\n",
    "print(\"Lancement de \", N ,\" threads :\")\n",
    "x = threading.Thread(target=incr_function, args=(0,))\n",
    "y = threading.Thread(target=incr_function, args=(1,))\n",
    "z = threading.Thread(target=incr_function, args=(0,))\n",
    "t = threading.Thread(target=incr_function, args=(1,))\n",
    "x.start()\n",
    "y.start()\n",
    "z.start()\n",
    "t.start()\n",
    "x.join()\n",
    "y.join()\n",
    "z.join()\n",
    "t.join()\n",
    "print(\"total expected =\",N+N+N+N)\n",
    "print(\"total got =\", total)"
   ]
  },
  {
   "cell_type": "markdown",
   "metadata": {},
   "source": [
    "#### Exemple - Avec un verrou"
   ]
  },
  {
   "cell_type": "code",
   "execution_count": 62,
   "metadata": {
    "pycharm": {
     "is_executing": false
    }
   },
   "outputs": [
    {
     "name": "stdout",
     "output_type": "stream",
     "text": [
      "Lancement de  4  threads :\n",
      "total expected = 4000\n",
      "total got = 4000\n"
     ]
    }
   ],
   "source": [
    "import threading\n",
    "import time\n",
    "\n",
    "N = 1000\n",
    "\n",
    "left = 0\n",
    "right = 0\n",
    "total = 0\n",
    "\n",
    "verrou = threading.Lock()\n",
    "\n",
    "\n",
    "def incr_function(leftOrRight):\n",
    "    global total\n",
    "    global right\n",
    "    global left\n",
    "    i=0\n",
    "    while i<N :\n",
    "        verrou.acquire()\n",
    "        i=i+1\n",
    "        save = total\n",
    "        print('',end='');\n",
    "        if leftOrRight :\n",
    "            left = left+1\n",
    "        else :\n",
    "            right = right+1\n",
    "        total = save +1\n",
    "        verrou.release()\n",
    "\n",
    "\n",
    "print(\"Lancement de \", 4 ,\" threads :\")\n",
    "x = threading.Thread(target=incr_function, args=(0,))\n",
    "y = threading.Thread(target=incr_function, args=(1,))\n",
    "z = threading.Thread(target=incr_function, args=(0,))\n",
    "t = threading.Thread(target=incr_function, args=(1,))\n",
    "x.start()\n",
    "y.start()\n",
    "z.start()\n",
    "t.start()\n",
    "x.join()\n",
    "y.join()\n",
    "z.join()\n",
    "t.join()\n",
    "print(\"total expected =\",N+N+N+N)\n",
    "print(\"total got =\", total)"
   ]
  },
  {
   "cell_type": "markdown",
   "metadata": {},
   "source": [
    "### Les Semaphores\n",
    "Les Sémaphores sont proches des verrous a la différence qu’ils permettent leur acquisition à plusieurs threads (alors que le verrou ne le permet qu'à une seule). \n",
    "\n",
    "Donc un sémaphore est un objet qu'on initialisera à une certaine valeur X entier. Cette valeur X correspond aux nombre de threads qui peuvent acquérir le sémaphore. Lorsque de son acquisition par une cette valeur va diminuer et elle augmentera lorsqu’elle sera relâchée. Si X=0, toutes threads qui souhaitera l'acquérir sera mis en pause jusqu'à ce que X augmente.\n",
    "\n",
    "#### Exemple"
   ]
  },
  {
   "cell_type": "code",
   "execution_count": 64,
   "metadata": {
    "pycharm": {
     "is_executing": false
    },
    "scrolled": true
   },
   "outputs": [
    {
     "name": "stdout",
     "output_type": "stream",
     "text": [
      "fun1 demarre\n",
      "fun1 en cours ... 1\n",
      "fun1 en cours ... 2\n",
      "fun1 en cours ... 3\n",
      "fun1 terminée\n",
      "fun2 demarre\n",
      "\n",
      " fun2() recoit Semphore \n",
      "\n",
      "Fun2 en cours ... 1\n",
      "Fun2 en cours ... 2\n",
      "Fun2 en cours ... 3\n"
     ]
    }
   ],
   "source": [
    "import threading\n",
    "\n",
    "sem = threading.Semaphore(1)\n",
    "\n",
    "def fun1():\n",
    "    print(\"fun1 demarre\")\n",
    "    sem.acquire()\n",
    "    for loop in range(1,4):\n",
    "        print(\"fun1 en cours ... {}\".format(loop))\n",
    "\n",
    "    sem.release()\n",
    "    print(\"fun1 terminée\")\n",
    "\n",
    "\n",
    "def fun2():\n",
    "    print(\"fun2 demarre\")\n",
    "    while not sem.acquire(blocking=False): # check tant qu'on ne peut pas recuperer le semapghore du t1 \n",
    "        print(\"Fun2 Pas de Semaphore dispo\") # on fait un affichage tant que la semaphore n'est pas libérer par la fun1() si \n",
    "        # fun()1 prend la semaphore avant fun2(). Dans l'autre cas on n'aura pas à entrer dans cette boucle quasi-infinie\n",
    "        \n",
    "    else:\n",
    "        print(\"\\n fun2() recoit Semphore \\n\")\n",
    "        for loop in range(1, 4): # une loop pour voir la progression de cette fonction\n",
    "            print(\"Fun2 en cours ... {}\".format(loop))\n",
    "            \n",
    "    sem.release()\n",
    "\n",
    "t1 = threading.Thread(target = fun1)\n",
    "t2 = threading.Thread(target = fun2)\n",
    "t1.start()\n",
    "t2.start()\n",
    "\n"
   ]
  },
  {
   "cell_type": "markdown",
   "metadata": {},
   "source": [
    "Dans l'exemple ci-dessus, nous avons créé un sémaphore initialisé à 1 qui va incrémenter et décrémenter selon le thread qui va l'utiliser en premier.\n",
    "On a 2 threads. Si le thread 1 commence et finis avant le commencement du thread 2 la phrase \"Fun2 Pas de Semaphore dispo\"  ne sera pas affichée. \n",
    "En revanche si la fonction fun1() prend le sémaphore et que la fonction fun2() démarre aussi, la fonction fun2() affichera cette  phrase tant que le sémaphore est utilisé.  "
   ]
  },
  {
   "cell_type": "markdown",
   "metadata": {},
   "source": [
    " ### Les Moniteurs\n",
    " Les moniteurs sont des classes qui permettent la synchronisation de plusieurs flots d'exécution. Ils fournissent des méthodes qui, selon certaine condition, mettront en attentes le thread courant. En python, cela ce fait avec l'appelle de la fonction *wait()* par le biais de la déclaration d'un objet de type *Condition*. Cet appel est réalisé dans une boucle *while* vérifiant une condition propre au moniteur, le tout après avoir utilisé un objet de type *Lock* qui fournira un équivalent au mot clé *SYNCHRONIZED* en Java.\n",
    "#### Exemple"
   ]
  },
  {
   "cell_type": "code",
   "execution_count": 65,
   "metadata": {
    "pycharm": {
     "is_executing": false
    }
   },
   "outputs": [
    {
     "name": "stdout",
     "output_type": "stream",
     "text": [
      "1 parked\n",
      "2 parked\n",
      "3 parked\n",
      "4 is waiting to park\n",
      "5 is waiting to park\n",
      "6 is waiting to park\n",
      "7 is waiting to park\n",
      "8 is waiting to park\n",
      "9 is waiting to park\n",
      "11 leaved\n",
      "8 parked\n",
      "12 leaved\n",
      "4 parked\n",
      "13 leaved\n",
      "7 parked\n",
      "14 leaved\n",
      "5 parked\n",
      "16 is waiting to leave\n",
      "16 leaved\n",
      "9 parked\n",
      "6 parked\n",
      "15 leaved\n",
      "17 leaved\n",
      "18 is waiting to leave\n",
      "18 leaved\n",
      "19 is waiting to leave\n",
      "19 leaved\n"
     ]
    }
   ],
   "source": [
    "import threading\n",
    "\n",
    "# Class monitor pour gérer un parking qui a une capacité, capacity\n",
    "# Nous avons pris l'exemple du TD qu'on a fait en cours.\n",
    "# Selon la variable freePlaces on bloquera la fonction tackPlace ou freePlace\n",
    "# Par exemple, la fonction tackPlace ne pourra pas incrémenter la variable freePlaces tant qu'il n'y a pas\n",
    "# de place libre, donc elle va faire wait(). Quand la fonction freePlace, décrémente cette variable, elle notifiera le thread\n",
    "# ayant executé la fonction takePlace afin qu'il continue son execution.\n",
    "\n",
    "class CarParkingMonitor :\n",
    "    def __init__(self, capacity) :\n",
    "        self.capacity = capacity\n",
    "        \n",
    "        self.freePlaces = capacity\n",
    "        self.useLock = threading.Lock() \n",
    "        self.useAvailable = threading.Condition(self.useLock)\n",
    "    \n",
    "    ## prend un place libre ou attend qu'une se libère\n",
    "    def takePlace(self) :\n",
    "        with self.useLock :\n",
    "            while self.freePlaces <=0 :\n",
    "                self.useAvailable.wait()\n",
    "            self.freePlaces=self.freePlaces-1\n",
    "            self.useAvailable.notifyAll()\n",
    "        \n",
    "    ## prend une voiture ou attend qu'une soit disponible\n",
    "    def freePlace(self) :\n",
    "        with self.useLock :\n",
    "            while self.freePlaces >= self.capacity :\n",
    "                self.useAvailable.wait()\n",
    "            self.freePlaces=self.freePlaces+1\n",
    "            self.useAvailable.notifyAll()\n",
    "\n",
    "monitor = CarParkingMonitor(3)\n",
    "## permet au différent appel à la fonction print() de ne pas entrer en concurrence\n",
    "printLock = threading.Lock()\n",
    "\n",
    "def whoArrive(i) :\n",
    "    global monitor\n",
    "    global printLock\n",
    "    \n",
    "    printLock.acquire()\n",
    "    if monitor.freePlaces==0 : \n",
    "        print(i,\"is waiting to park\")\n",
    "    printLock.release()\n",
    "    \n",
    "    monitor.takePlace()\n",
    "    \n",
    "    printLock.acquire()\n",
    "    print(i,\"parked\")\n",
    "    printLock.release()\n",
    "    \n",
    "    \n",
    "def whoLeave(i) :\n",
    "    global monitor\n",
    "    global printLock\n",
    "    \n",
    "    printLock.acquire()\n",
    "    if monitor.freePlaces!=0 : \n",
    "        print(i,\"is waiting to leave\")\n",
    "    printLock.release()\n",
    "    \n",
    "    monitor.freePlace()\n",
    "    \n",
    "    printLock.acquire()\n",
    "    print(i,\"leaved\")\n",
    "    printLock.release()\n",
    "\n",
    "# creation de 10 \"personne\" qui veulent rendre un véhicule\n",
    "for i in range(1,10) :\n",
    "    t1 = threading.Thread(target = whoArrive, args=(i,))\n",
    "    t1.start()\n",
    "\n",
    "# creation de 10 \"personne\" qui veulent emprunter un véhicule\n",
    "for i in range(1,10) :\n",
    "    t2 = threading.Thread(target = whoLeave, args=(10+i,))\n",
    "    t2.start()"
   ]
  },
  {
   "cell_type": "markdown",
   "metadata": {},
   "source": [
    "## Définitions de quelques procédures pour initialiser une grille à partir d'un fichier de configuration\n",
    "\n",
    "<span style=\"color:red\">Vous ne pouvez pas modifier les classes/procédures/fonctions suivantes</span>"
   ]
  },
  {
   "cell_type": "code",
   "execution_count": 8,
   "metadata": {
    "ExecuteTime": {
     "end_time": "2020-09-09T14:56:37.017896Z",
     "start_time": "2020-09-09T14:56:37.014070Z"
    },
    "pycharm": {
     "is_executing": false
    }
   },
   "outputs": [],
   "source": [
    "def is_running_from_ipython():\n",
    "    # Renvoie True si on execute le code depuis un notebook\n",
    "       from IPython import get_ipython\n",
    "       return get_ipython() is not None\n",
    "\n",
    "# Permet de savoir qui exécute le code\n",
    "import platform\n",
    "MICHEL = ('michel' in platform.node()) or ('charvin' in platform.node())"
   ]
  },
  {
   "cell_type": "code",
   "execution_count": 9,
   "metadata": {
    "pycharm": {
     "is_executing": false
    }
   },
   "outputs": [],
   "source": [
    "class Debug:\n",
    "    def __init__(self, debug=False):\n",
    "        self.debug = debug\n",
    "        \n",
    "    def affiche(self, *args):\n",
    "        if self.debug:\n",
    "            print(args)\n",
    "            \n",
    "class bcolors:\n",
    "    HEADER = '\\033[95m'\n",
    "    OKBLUE = '\\033[94m'\n",
    "    OKCYAN = '\\033[96m'\n",
    "    OKGREEN = '\\033[92m'\n",
    "    WARNING = '\\033[93m'\n",
    "    FAIL = '\\033[91m'\n",
    "    ENDC = '\\033[0m'\n",
    "    BOLD = '\\033[1m'\n",
    "    UNDERLINE = '\\033[4m'"
   ]
  },
  {
   "cell_type": "code",
   "execution_count": 66,
   "metadata": {
    "ExecuteTime": {
     "end_time": "2020-09-09T14:56:38.411155Z",
     "start_time": "2020-09-09T14:56:38.406363Z"
    },
    "pycharm": {
     "is_executing": false
    }
   },
   "outputs": [],
   "source": [
    "# Différents imports\n",
    "import copy\n",
    "import math\n",
    "import time\n",
    "import numpy as np\n",
    "\n",
    "%matplotlib inline\n",
    "import matplotlib.pyplot as plt"
   ]
  },
  {
   "cell_type": "code",
   "execution_count": 11,
   "metadata": {
    "ExecuteTime": {
     "end_time": "2020-09-09T14:56:40.469475Z",
     "start_time": "2020-09-09T14:56:39.487216Z"
    },
    "pycharm": {
     "is_executing": false
    },
    "scrolled": true
   },
   "outputs": [],
   "source": [
    "# Reglage de l'affichage\n",
    "\n",
    "# Définition des affichage possible définition\n",
    "try :\n",
    "    import affichage\n",
    "except :\n",
    "    !echo 'Aucun = 0' >affichage.py\n",
    "    !echo 'tkinter = 1' >>affichage.py # Not implemented\n",
    "    !echo 'OpenCV = 2' >> affichage.py # Not completly implemented\n",
    "\n",
    "    !echo 'PERSONNE = (0.0, 0.0, 1.0)' >>affichage.py\n",
    "    !echo 'IMMOBILE = (1.0, 0.0, 0.0)' >>affichage.py\n",
    "    !echo 'OBSTACLE = (0.0, 1.0, 0.0)' >>affichage.py\n",
    "    !echo 'EMPTY = (1.0, 1.0, 1.0)' >>affichage.py\n",
    "    !echo 'ARRIVEE = (0.0, 0.0, 0.0)' >>affichage.py # Not used\n",
    "    import affichage\n",
    "    \n",
    "import cv2\n",
    "\n",
    "UI = affichage.OpenCV"
   ]
  },
  {
   "cell_type": "code",
   "execution_count": 12,
   "metadata": {
    "ExecuteTime": {
     "end_time": "2020-09-09T14:56:40.476993Z",
     "start_time": "2020-09-09T14:56:40.472805Z"
    },
    "pycharm": {
     "is_executing": false
    }
   },
   "outputs": [],
   "source": [
    "if MICHEL:\n",
    "    petite_grille = \"maps/map-initial.txt\" # fichier décrivant une petite grille\n",
    "    grande_grille = \"maps/map-final.txt\"  # fichier décrivant une grande grille\n",
    "    debug = Debug(True)\n",
    "    \n",
    "petite_grille = \"maps/map-initial.txt\" # fichier décrivant une petite grille\n",
    "grande_grille = \"maps/map-final.txt\"  # fichier décrivant une grande grille\n",
    "debug = Debug(True)"
   ]
  },
  {
   "cell_type": "code",
   "execution_count": 13,
   "metadata": {
    "ExecuteTime": {
     "end_time": "2020-09-09T14:56:41.169989Z",
     "start_time": "2020-09-09T14:56:40.563847Z"
    },
    "pycharm": {
     "is_executing": false
    }
   },
   "outputs": [],
   "source": [
    "# Constant définition\n",
    "try :\n",
    "    import const\n",
    "except: \n",
    "    !echo 'EMPTY = 0' >const.py\n",
    "    !echo 'OBSTACLE = 1' >>const.py\n",
    "    !echo 'PERSONNE = 2' >> const.py\n",
    "    !echo 'IMMOBILE = 3' >> const.py\n",
    "    !echo 'ARRIVEE = 4' >> const.py\n",
    "    import const"
   ]
  },
  {
   "cell_type": "code",
   "execution_count": 14,
   "metadata": {
    "ExecuteTime": {
     "end_time": "2020-09-09T14:56:41.181031Z",
     "start_time": "2020-09-09T14:56:41.175015Z"
    },
    "pycharm": {
     "is_executing": false
    }
   },
   "outputs": [
    {
     "name": "stdout",
     "output_type": "stream",
     "text": [
      "('Ouverture du fichier', 'maps/map-initial.txt')\n"
     ]
    }
   ],
   "source": [
    "# Lecture du fichier de configuration\n",
    "def open_file(filename, debug):\n",
    "    debug.affiche(\"Ouverture du fichier\", filename)\n",
    "    fileMap = open(filename, 'r')\n",
    "    return fileMap\n",
    "\n",
    "file = open_file(petite_grille, debug)"
   ]
  },
  {
   "cell_type": "markdown",
   "metadata": {},
   "source": [
    "### Définition de la grille"
   ]
  },
  {
   "cell_type": "code",
   "execution_count": 15,
   "metadata": {
    "ExecuteTime": {
     "end_time": "2020-09-09T14:56:42.917234Z",
     "start_time": "2020-09-09T14:56:42.910654Z"
    },
    "pycharm": {
     "is_executing": false
    }
   },
   "outputs": [],
   "source": [
    "def read_grid_size(file, debug):\n",
    "    line = file.readline()\n",
    "    while line[0]=='#':\t# on saute les commentaires\n",
    "        line = file.readline()\n",
    "    \n",
    "    # Lecture de la taille de la grille\n",
    "    while line[0]!='#':\t# on lit jusqu'au prochain commentaires\n",
    "        if (line[0]=='X'):\n",
    "            X = int(line.split(' ')[1])\n",
    "        if (line[0]=='Y'):\n",
    "            Y = int(line.split(' ')[1])\n",
    "        line = file.readline()\n",
    "\n",
    "    debug.affiche(\"Simulation pour une grille:\", X, \"*\", Y)\n",
    "    \n",
    "    return X, Y"
   ]
  },
  {
   "cell_type": "code",
   "execution_count": 16,
   "metadata": {
    "pycharm": {
     "is_executing": false
    }
   },
   "outputs": [
    {
     "name": "stdout",
     "output_type": "stream",
     "text": [
      "('Simulation pour une grille:', 10, '*', 10)\n"
     ]
    }
   ],
   "source": [
    "X, Y = read_grid_size(file, debug)"
   ]
  },
  {
   "cell_type": "code",
   "execution_count": 17,
   "metadata": {
    "ExecuteTime": {
     "end_time": "2020-09-09T14:56:43.748661Z",
     "start_time": "2020-09-09T14:56:43.726699Z"
    },
    "pycharm": {
     "is_executing": false
    }
   },
   "outputs": [],
   "source": [
    "# Definition de la grille\n",
    "class Grille:\n",
    "    # Crée un objet list\n",
    "    def __init__(self, Xmax, Ymax, UI, debug):\n",
    "        debug.affiche(\"Initilisation de l'objet grille\")\n",
    "        self.Xmax = Xmax\n",
    "        self.Ymax = Ymax\n",
    "        if const.EMPTY==0:\n",
    "            self.map = np.zeros((Xmax, Ymax))\n",
    "        elif const.EMPTY==1:\n",
    "            self.map = np.ones((Xmax, Ymax))\n",
    "        else:\n",
    "            self.map = np.array(Xmax, Ymax)\n",
    "            for i in range(Xmax):\n",
    "                for j in range(Ymax):\n",
    "                    self.map[i,j] = const.EMPTY\n",
    "        self.mapList = []\n",
    "        self.obstacleList = []\n",
    "        self.personneList = []\n",
    "        self.debug = debug\n",
    "        self.UI = UI\n",
    "\n",
    "    def SetObstacle(self, obstacle):\n",
    "        for x in range(obstacle.Xmin, obstacle.Xmax+1):\n",
    "            for y in range(obstacle.Ymin, obstacle.Ymax+1):\n",
    "                self.map[x][y] = const.OBSTACLE\n",
    "        self.obstacleList += [obstacle]\n",
    "\n",
    "    def SetPersonne(self, personne):\n",
    "        if self.map[personne.X][personne.Y]==const.EMPTY:\n",
    "            # la case est vide\n",
    "            self.map[personne.X][personne.Y] = const.PERSONNE\n",
    "            self.personneList += [personne]\n",
    "            return True\n",
    "        else:\n",
    "            debug.affiche(\"Personne non créée, la place est occupée\", personne.X, personne.Y)\n",
    "            return False\n",
    "        \n",
    "    def removePersonne(self,personne):\n",
    "        self.personneList.remove(personne)\n",
    "        \n",
    "    def isCellEmpty(self, x, y):\n",
    "        return self.map[x][y]==const.EMPTY\n",
    "    \n",
    "    def Set(self, x, y, status):\n",
    "        self.map[x][y] = status\n",
    "        \n",
    "    def Save(self, name):\n",
    "        with open(name, 'w') as file:\n",
    "            file.write(\"# taille de la grille\\n\")\n",
    "            file.write(\"X \"+str(self.Xmax)+\"\\n\")\n",
    "            file.write(\"Y \"+str(self.Ymax)+\"\\n\")\n",
    "            file.write(\"# position des obstacles\\n\")\n",
    "            file.write(\"# Xmin Xmax Ymin Ymax\\n\")\n",
    "            file.write(\"# si pas obstacle : mettre -1 comme valeur\\n\")\n",
    "            file.write(\"# \"+str(len(self.obstacleList))+\" obstacles\\n\")\n",
    "            for o in self.obstacleList:\n",
    "                file.write(str(o.Xmin)+\" \"+str(o.Xmax)+\" \"+str(o.Ymin)+\" \"+str(o.Ymax)+\"\\n\")\n",
    "            file.write(\"# position initiale des personnes (X, Y) et case de sortie (X, Y)\\n\")\n",
    "            file.write(\"# \"+str(len(self.personneList))+\" personnes\\n\")\n",
    "            for p in self.personneList:\n",
    "                file.write(str(p.X)+\" \"+str(p.Y)+\" \"+str(p.Xsortie)+\" \"+str(p.Ysortie)+\"\\n\")\n",
    "                \n",
    "    # Solution imparfaite car une personne peut être bloquée par un obstacle\n",
    "    def Simulation(self):\n",
    "        if self.debug.debug or self.UI==affichage.OpenCV:\n",
    "            self.mapList.append(copy.copy(self.map))\n",
    "        if self.UI==affichage.OpenCV:\n",
    "            cv2.imshow(\"img\", createImage(self.map))\n",
    "            cv2.waitKey(500)\n",
    "    \n",
    "        while len(self.personneList)>0: # il y a encore une personne dans la liste qui peut bouger\n",
    "            for personne in self.personneList:\n",
    "                end, immobile = personne.deplacePersonne(self, self.debug)\n",
    "                if end:\n",
    "                    self.debug.affiche(\"Une personne vient de sortir, il reste\", len(self.personneList), \"personnes\")\n",
    "            if self.debug.debug or self.UI==affichage.OpenCV:\n",
    "                self.mapList.append(copy.copy(self.map))\n",
    "                if self.UI==affichage.OpenCV:\n",
    "                    cv2.imshow(\"img\", createImage(self.map))\n",
    "                    cv2.waitKey(500)\n",
    "    \n",
    "        if self.UI==affichage.OpenCV:\n",
    "            cv2.destroyAllWindows()"
   ]
  },
  {
   "cell_type": "code",
   "execution_count": 18,
   "metadata": {
    "ExecuteTime": {
     "end_time": "2020-09-09T14:56:44.483524Z",
     "start_time": "2020-09-09T14:56:44.478404Z"
    },
    "pycharm": {
     "is_executing": false
    }
   },
   "outputs": [
    {
     "name": "stdout",
     "output_type": "stream",
     "text": [
      "(\"Initilisation de l'objet grille\",)\n"
     ]
    }
   ],
   "source": [
    "# Creation de la grille\n",
    "grid = Grille(X, Y, affichage.Aucun, debug)"
   ]
  },
  {
   "cell_type": "markdown",
   "metadata": {},
   "source": [
    "### Définition d'un obstacle"
   ]
  },
  {
   "cell_type": "code",
   "execution_count": 19,
   "metadata": {
    "ExecuteTime": {
     "end_time": "2020-09-09T14:56:45.740092Z",
     "start_time": "2020-09-09T14:56:45.735268Z"
    },
    "pycharm": {
     "is_executing": false
    }
   },
   "outputs": [],
   "source": [
    "class Obstacle():\n",
    "    def __init__(self, grid,  Xmin, Xmax, Ymin, Ymax, debug):\n",
    "        self.Xmin = Xmin\n",
    "        self.Xmax = Xmax\n",
    "        self.Ymin = Ymin\n",
    "        self.Ymax = Ymax\n",
    "        self.debug = debug\n",
    "        grid.SetObstacle(self)\n",
    "        debug.affiche(\"Création de l'obstacle (\", Xmin, Xmax, \") - (\", Ymin, Ymax, \")\")"
   ]
  },
  {
   "cell_type": "code",
   "execution_count": 20,
   "metadata": {
    "ExecuteTime": {
     "end_time": "2020-09-09T14:56:46.248553Z",
     "start_time": "2020-09-09T14:56:46.238774Z"
    },
    "code_folding": [],
    "pycharm": {
     "is_executing": false
    }
   },
   "outputs": [],
   "source": [
    "def read_obstacles(file, grid, Obstacle, debug):\n",
    "    # Lecture de la liste des obstacles et placement sur la grille\n",
    "    line = file.readline()\n",
    "    while line[0]=='#':\t# on saute les commentaires\n",
    "        line = file.readline()\n",
    "\n",
    "    while line[0]!='#':\t# on lit jusqu'au prochain commentaires\n",
    "        coordonnee = line.strip().split(' ')\n",
    "        if int(coordonnee[0])>=0:\n",
    "            assert (int(coordonnee[0])>0 and int(coordonnee[2])>0)\n",
    "            assert (int(coordonnee[1])<X)\n",
    "            assert (int(coordonnee[3])<Y)\n",
    "            Obstacle(grid, int(coordonnee[0]), int(coordonnee[1]), int(coordonnee[2]), int(coordonnee[3]), debug)\n",
    "        else:\n",
    "            debug.affiche(\"obstacle non créé\", coordonnee)\n",
    "        line = file.readline()        \n",
    "\n",
    "    debug.affiche(len(grid.obstacleList), \"obstacles ont été créés\")"
   ]
  },
  {
   "cell_type": "code",
   "execution_count": 21,
   "metadata": {
    "pycharm": {
     "is_executing": false
    }
   },
   "outputs": [
    {
     "name": "stdout",
     "output_type": "stream",
     "text": [
      "('obstacle non créé', ['-1', '-1', '-1', '-1'])\n",
      "(\"Création de l'obstacle (\", 1, 1, ') - (', 2, 7, ')')\n",
      "(\"Création de l'obstacle (\", 1, 7, ') - (', 8, 8, ')')\n",
      "(2, 'obstacles ont été créés')\n"
     ]
    }
   ],
   "source": [
    "# On lit tous les obstacles contenus dans le fichier de configuration\n",
    "read_obstacles(file, grid, Obstacle, debug)"
   ]
  },
  {
   "cell_type": "code",
   "execution_count": 22,
   "metadata": {
    "ExecuteTime": {
     "end_time": "2020-09-09T14:56:46.829744Z",
     "start_time": "2020-09-09T14:56:46.734536Z"
    },
    "pycharm": {
     "is_executing": false
    }
   },
   "outputs": [
    {
     "data": {
      "image/png": "[encoded data removed]",
      "text/plain": [
       "<Figure size 432x288 with 1 Axes>"
      ]
     },
     "metadata": {
      "needs_background": "light"
     },
     "output_type": "display_data"
    }
   ],
   "source": [
    "# Affichage de la grille\n",
    "plt.imshow(grid.map, cmap='Paired', vmin=0, vmax=5)\n",
    "plt.show()"
   ]
  },
  {
   "cell_type": "markdown",
   "metadata": {},
   "source": [
    "### Définition d'une personne"
   ]
  },
  {
   "cell_type": "code",
   "execution_count": 23,
   "metadata": {
    "ExecuteTime": {
     "end_time": "2020-09-09T14:56:47.956152Z",
     "start_time": "2020-09-09T14:56:47.941709Z"
    },
    "pycharm": {
     "is_executing": false
    }
   },
   "outputs": [],
   "source": [
    "def distance(X, Y):\n",
    "    return int(np.abs(X[0]-Y[0])+np.abs(X[1]-Y[1]))\n",
    "\n",
    "class Personne():\n",
    "    def __init__(self, grid, Xinit, Yinit, Xsortie, Ysortie, debug):\n",
    "        self.X = Xinit\n",
    "        self.Y = Yinit\n",
    "        self.Xsortie = Xsortie\n",
    "        self.Ysortie = Ysortie\n",
    "        self.debug = debug\n",
    "        personneCrée = grid.SetPersonne(self)\n",
    "        if personneCrée:\n",
    "            debug.affiche(\"Création de la personne qui part de\", Xinit, Yinit, \"pour aller à\", Xsortie, Ysortie)\n",
    "    \n",
    "    def getAvailableMove(self, grid): # retourne la liste triée des déplacements possibles\n",
    "        # distance à la grille\n",
    "        dist_actuel = distance((self.X, self.Y), (self.Xsortie, self.Ysortie))\n",
    "        depl = []\n",
    "        # on calcule la distance entre les case adjacente et la sortie\n",
    "        for x in range(self.X-1, self.X+2):\n",
    "            for y in range (self.Y-1, self.Y+2):\n",
    "                if (x!=self.X or y!=self.Y) and (x==self.X or y==self.Y) and (x>=0 and y>=0 and x<grid.Xmax and y<grid.Ymax): # deplacement uniquement points cardinaux\n",
    "                    # on est sur une case adjacente et on est sur la grille\n",
    "                    if grid.isCellEmpty(x, y): # si la case est vide\n",
    "                        dist = distance((self.Xsortie, self.Ysortie), (x,y))\n",
    "                        if (dist<dist_actuel): # on se rappproche\n",
    "                             depl.append((dist, x, y))\n",
    "        return sorted(depl)\n",
    "\n",
    "    def getBetterMove(self, grid):\n",
    "        return self.getAvailableMove(grid)[0]\n",
    "\n",
    "    def Move(self, grid, depl):\n",
    "        debug.affiche(\"Déplacement de la personne de (\", self.X, self.Y, \") à (\", depl[1], depl[2], \")\")\n",
    "        grid.Set(self.X, self.Y, const.EMPTY)\n",
    "        self.X = depl[1]\n",
    "        self.Y = depl[2]\n",
    "        grid.Set(self.X, self.Y, const.PERSONNE)\n",
    "        \n",
    "    def deplacePersonne(self, grid, debug):\n",
    "        if self.X==self.Xsortie and self.Y==self.Ysortie:\n",
    "            # la personne est arrivée à la sortie\n",
    "            # on retire la personne de la liste\n",
    "            grid.removePersonne(self)\n",
    "            # on libere la case de sortie\n",
    "            grid.Set(self.X, self.Y, const.EMPTY)\n",
    "            return True, False\n",
    "    \n",
    "        # sinon on recherche les déplacements possibles\n",
    "        availableMove = self.getAvailableMove(grid)\n",
    "        debug.affiche(\"La personne (\", self.X, self.Y, \") peut se déplacer sur :\", availableMove)\n",
    "            \n",
    "        if len(availableMove)>0:\n",
    "            # on se déplace sure la nouvelle case\n",
    "            self.Move(grid, availableMove[0]) \n",
    "            return False, False\n",
    "        \n",
    "        # sinon aucun d\"éplacement n'est possible\n",
    "        if grid.UI==affichage.OpenCV:\n",
    "            grid.Set(self.X, self.Y, const.IMMOBILE)\n",
    "        debug.affiche(\"La personne (\", self.X, self.Y, \"ne peut pas se déplacer\")\n",
    "        return False, True"
   ]
  },
  {
   "cell_type": "code",
   "execution_count": 24,
   "metadata": {
    "ExecuteTime": {
     "end_time": "2020-09-09T14:56:48.629455Z",
     "start_time": "2020-09-09T14:56:48.617795Z"
    },
    "pycharm": {
     "is_executing": false
    }
   },
   "outputs": [],
   "source": [
    "def read_personnes(file, grid, Personne, nombre, debug):\n",
    "    # Lecture de la liste des personnes et placement sur la grille\n",
    "    # s'arrête quand le nombre de personnes souhaité est atteind\n",
    "    # Si nombre = -1, on lit jusqu'à la fin du fichier (idem si nombre est supérieur aux nombres de personnes dans le fichier)\n",
    "    line = file.readline()\n",
    "    while line[0]=='#':\t# on saute les commentaires\n",
    "        line = file.readline()\n",
    "        \n",
    "    while line:\t# on lit jusqu'à la fin du fichier\n",
    "        coordonnee = line.strip().split(' ')\n",
    "        if coordonnee[0]!='#':\n",
    "            assert (int(coordonnee[0])>0 and int(coordonnee[1])>0\n",
    "                and int(coordonnee[2])<X or int(coordonnee[3])<Y) # La personne est sur la grille\n",
    "            assert ((int(coordonnee[2])==0 or int(coordonnee[2])==X-1)  # elle sort sur un bord X\n",
    "                and                                                  # et\n",
    "                (int(coordonnee[3])==0 or int(coordonnee[3])==Y-1)) # elle sort sur un bord Y\n",
    "            Personne(grid, int(coordonnee[0]), int(coordonnee[1]), int(coordonnee[2]), int(coordonnee[3]), debug)\n",
    "            \n",
    "        if len(grid.personneList)==nombre:\n",
    "            debug.affiche(len(grid.personneList), \"personnes ont été créées\")\n",
    "            file.close()\n",
    "            return\n",
    "        line = file.readline()\n",
    "    debug.affiche(\"Fermeture du fichier\")\n",
    "    file.close()\n",
    "    \n",
    "    debug.affiche(\"On a lut tout le fichier,\", len(grid.personneList), \"personnes ont été créées\")"
   ]
  },
  {
   "cell_type": "code",
   "execution_count": 25,
   "metadata": {
    "pycharm": {
     "is_executing": false
    }
   },
   "outputs": [
    {
     "name": "stdout",
     "output_type": "stream",
     "text": [
      "('Création de la personne qui part de', 2, 2, 'pour aller à', 0, 0)\n",
      "('Création de la personne qui part de', 3, 3, 'pour aller à', 0, 9)\n",
      "('Création de la personne qui part de', 6, 6, 'pour aller à', 9, 0)\n",
      "('Création de la personne qui part de', 7, 7, 'pour aller à', 9, 9)\n",
      "('Fermeture du fichier',)\n",
      "('On a lut tout le fichier,', 4, 'personnes ont été créées')\n"
     ]
    }
   ],
   "source": [
    "# On lit toutes les personnes contenues dans le fichier de configuration\n",
    "read_personnes(file, grid, Personne, -1, debug)"
   ]
  },
  {
   "cell_type": "code",
   "execution_count": 26,
   "metadata": {
    "ExecuteTime": {
     "end_time": "2020-09-09T14:56:49.611918Z",
     "start_time": "2020-09-09T14:56:49.518984Z"
    },
    "pycharm": {
     "is_executing": false
    }
   },
   "outputs": [
    {
     "data": {
      "image/png": "[encoded data removed]",
      "text/plain": [
       "<Figure size 432x288 with 1 Axes>"
      ]
     },
     "metadata": {
      "needs_background": "light"
     },
     "output_type": "display_data"
    }
   ],
   "source": [
    "# Affichage de la grille\n",
    "plt.imshow(grid.map, cmap='Paired', vmin=0, vmax=5)\n",
    "plt.show()"
   ]
  },
  {
   "cell_type": "markdown",
   "metadata": {},
   "source": [
    "### Construction d'une image pour OpenCV"
   ]
  },
  {
   "cell_type": "code",
   "execution_count": 27,
   "metadata": {
    "ExecuteTime": {
     "end_time": "2020-09-09T14:56:52.548943Z",
     "start_time": "2020-09-09T14:56:52.539805Z"
    },
    "pycharm": {
     "is_executing": false
    }
   },
   "outputs": [],
   "source": [
    "# Uniquement nécessaire pour la visualisation en OpenCV\n",
    "def createImage(image):\n",
    "    X = image.shape[0]\n",
    "    Y = image.shape[1]\n",
    "    ZOOM = max(min(1024//X, 1024//Y), 1)\n",
    "    img = np.zeros((X*ZOOM, Y*ZOOM, 3), dtype=np.float)\n",
    "    for i in range(X):\n",
    "        for t in range(ZOOM):\n",
    "            for j in range(Y):\n",
    "                for u in range(ZOOM):\n",
    "                    if image[i][j]==const.EMPTY:\n",
    "                        img[ZOOM*i+t][ZOOM*j+u]=affichage.EMPTY\n",
    "                    elif image[i][j]==const.OBSTACLE:\n",
    "                        img[ZOOM*i+t][ZOOM*j+u]=affichage.OBSTACLE\n",
    "                    elif image[i][j]==const.PERSONNE:\n",
    "                        img[ZOOM*i+t][ZOOM*j+u]=affichage.PERSONNE\n",
    "                    elif image[i][j]==const.IMMOBILE:\n",
    "                        img[ZOOM*i+t][ZOOM*j+u]=affichage.IMMOBILE\n",
    "                    elif image[i][j]==const.ARRIVEE:  \n",
    "                        img[ZOOM*i+t][ZOOM*j+u]=affichage.ARRIVEE\n",
    "    return img"
   ]
  },
  {
   "cell_type": "code",
   "execution_count": 28,
   "metadata": {
    "pycharm": {
     "is_executing": false
    }
   },
   "outputs": [],
   "source": [
    "# Affichage en OpenCV de la grille créée\n",
    "if UI==affichage.OpenCV:\n",
    "    cv2.imshow(\"img\", createImage(grid.map))\n",
    "    cv2.waitKey(5000) # Affichage pendant 5 secondes\n",
    "    cv2.destroyAllWindows()"
   ]
  },
  {
   "cell_type": "markdown",
   "metadata": {},
   "source": [
    "## Utilisation des procédures précédentes pour créer une nouvelle grille qui sera sauvegardée dans un fichier"
   ]
  },
  {
   "cell_type": "code",
   "execution_count": 29,
   "metadata": {
    "pycharm": {
     "is_executing": false
    }
   },
   "outputs": [
    {
     "name": "stdout",
     "output_type": "stream",
     "text": [
      "(\"Initilisation de l'objet grille\",)\n"
     ]
    }
   ],
   "source": [
    "# Création d'une grille de 1024*1024\n",
    "debug = Debug(True)\n",
    "UI = affichage.Aucun\n",
    "\n",
    "X = 1024\n",
    "Y = 1024\n",
    "grid = Grille(X, Y, UI, debug)"
   ]
  },
  {
   "cell_type": "code",
   "execution_count": 30,
   "metadata": {
    "pycharm": {
     "is_executing": false
    }
   },
   "outputs": [
    {
     "name": "stdout",
     "output_type": "stream",
     "text": [
      "(\"Création de l'obstacle (\", 16, 53, ') - (', 11, 61, ')')\n",
      "(\"Création de l'obstacle (\", 60, 92, ') - (', 238, 331, ')')\n",
      "(\"Création de l'obstacle (\", 108, 175, ') - (', 286, 267, ')')\n",
      "(\"Création de l'obstacle (\", 153, 166, ') - (', 302, 429, ')')\n",
      "(\"Création de l'obstacle (\", 202, 248, ') - (', 263, 205, ')')\n",
      "(\"Création de l'obstacle (\", 252, 281, ') - (', 272, 313, ')')\n",
      "(\"Création de l'obstacle (\", 302, 380, ') - (', 470, 372, ')')\n",
      "(\"Création de l'obstacle (\", 355, 365, ') - (', 353, 597, ')')\n",
      "(\"Création de l'obstacle (\", 402, 423, ') - (', 473, 615, ')')\n",
      "(\"Création de l'obstacle (\", 454, 511, ') - (', 496, 642, ')')\n",
      "(\"Création de l'obstacle (\", 501, 562, ') - (', 572, 508, ')')\n",
      "(\"Création de l'obstacle (\", 554, 564, ') - (', 733, 554, ')')\n",
      "(\"Création de l'obstacle (\", 603, 674, ') - (', 684, 751, ')')\n",
      "(\"Création de l'obstacle (\", 653, 722, ') - (', 691, 712, ')')\n",
      "(\"Création de l'obstacle (\", 705, 741, ') - (', 701, 911, ')')\n",
      "(\"Création de l'obstacle (\", 755, 841, ') - (', 854, 844, ')')\n",
      "(16, 'obstacles ont été créés')\n"
     ]
    }
   ],
   "source": [
    "# La grille contient 2^4 obstacles\n",
    "nb_obs = np.power(2,4)\n",
    "\n",
    "coordonnee = np.zeros((4,1), dtype=np.int)\n",
    "for i in range(nb_obs):\n",
    "    for j in range(4):\n",
    "        val_min = 1+50*i+np.random.randint(10)*10*j\n",
    "        if j%2 == 0:\n",
    "            val_max = min(1+val_min+np.random.randint(20), grid.Xmax)\n",
    "        else:\n",
    "            val_max = min(1+val_min+np.random.randint(20), grid.Ymax)\n",
    "        coordonnee[j] = np.random.randint(val_min, val_max)\n",
    "    \n",
    "    assert (int(coordonnee[0])>0 and int(coordonnee[2])>0)\n",
    "    assert (int(coordonnee[1])<X)\n",
    "    assert (int(coordonnee[3])<Y)\n",
    "    Obstacle(grid, int(coordonnee[0]), int(coordonnee[1]), int(coordonnee[2]), int(coordonnee[3]), debug)\n",
    "    \n",
    "debug.affiche(len(grid.obstacleList), \"obstacles ont été créés\")"
   ]
  },
  {
   "cell_type": "code",
   "execution_count": 31,
   "metadata": {
    "pycharm": {
     "is_executing": false
    }
   },
   "outputs": [
    {
     "name": "stdout",
     "output_type": "stream",
     "text": [
      "('Création de la personne qui part de', 584, 694, 'pour aller à', 0, 0)\n",
      "('Création de la personne qui part de', 225, 194, 'pour aller à', 1023, 1023)\n",
      "('Création de la personne qui part de', 899, 195, 'pour aller à', 0, 0)\n",
      "('Création de la personne qui part de', 215, 116, 'pour aller à', 1023, 1023)\n",
      "('Création de la personne qui part de', 924, 498, 'pour aller à', 0, 0)\n",
      "('Création de la personne qui part de', 13, 465, 'pour aller à', 0, 1023)\n",
      "('Création de la personne qui part de', 653, 671, 'pour aller à', 1023, 0)\n",
      "('Création de la personne qui part de', 393, 684, 'pour aller à', 1023, 1023)\n",
      "('Création de la personne qui part de', 623, 779, 'pour aller à', 1023, 1023)\n",
      "('Création de la personne qui part de', 761, 880, 'pour aller à', 1023, 0)\n",
      "('Création de la personne qui part de', 21, 429, 'pour aller à', 1023, 1023)\n",
      "('Création de la personne qui part de', 142, 266, 'pour aller à', 0, 0)\n",
      "('Création de la personne qui part de', 160, 581, 'pour aller à', 0, 1023)\n",
      "('Création de la personne qui part de', 132, 822, 'pour aller à', 1023, 1023)\n",
      "('Création de la personne qui part de', 922, 747, 'pour aller à', 1023, 1023)\n",
      "('Création de la personne qui part de', 1001, 885, 'pour aller à', 1023, 1023)\n",
      "('Création de la personne qui part de', 208, 175, 'pour aller à', 1023, 0)\n",
      "('Création de la personne qui part de', 149, 739, 'pour aller à', 0, 0)\n",
      "('Création de la personne qui part de', 913, 994, 'pour aller à', 0, 1023)\n",
      "('Création de la personne qui part de', 986, 463, 'pour aller à', 0, 1023)\n",
      "('Création de la personne qui part de', 744, 601, 'pour aller à', 0, 0)\n",
      "('Création de la personne qui part de', 756, 882, 'pour aller à', 1023, 1023)\n",
      "('Création de la personne qui part de', 53, 660, 'pour aller à', 0, 0)\n",
      "('Création de la personne qui part de', 628, 801, 'pour aller à', 1023, 1023)\n",
      "('Création de la personne qui part de', 480, 912, 'pour aller à', 1023, 1023)\n",
      "('Création de la personne qui part de', 118, 497, 'pour aller à', 0, 0)\n",
      "('Création de la personne qui part de', 629, 171, 'pour aller à', 1023, 0)\n",
      "('Création de la personne qui part de', 401, 240, 'pour aller à', 1023, 0)\n",
      "('Création de la personne qui part de', 741, 203, 'pour aller à', 1023, 1023)\n",
      "('Création de la personne qui part de', 1003, 510, 'pour aller à', 0, 1023)\n",
      "('Création de la personne qui part de', 313, 350, 'pour aller à', 0, 1023)\n",
      "('Création de la personne qui part de', 373, 339, 'pour aller à', 1023, 0)\n",
      "('Création de la personne qui part de', 820, 569, 'pour aller à', 1023, 1023)\n",
      "('Personne non créée, la place est occupée', 670, 738)\n",
      "('Création de la personne qui part de', 629, 126, 'pour aller à', 1023, 0)\n",
      "('Création de la personne qui part de', 575, 663, 'pour aller à', 0, 0)\n",
      "('Création de la personne qui part de', 638, 368, 'pour aller à', 0, 1023)\n",
      "('Création de la personne qui part de', 431, 21, 'pour aller à', 1023, 0)\n",
      "('Personne non créée, la place est occupée', 507, 602)\n",
      "('Création de la personne qui part de', 82, 593, 'pour aller à', 1023, 0)\n",
      "('Création de la personne qui part de', 110, 25, 'pour aller à', 0, 0)\n",
      "('Création de la personne qui part de', 918, 301, 'pour aller à', 0, 1023)\n",
      "('Création de la personne qui part de', 661, 615, 'pour aller à', 0, 1023)\n",
      "('Création de la personne qui part de', 618, 1013, 'pour aller à', 0, 0)\n",
      "('Création de la personne qui part de', 437, 165, 'pour aller à', 0, 1023)\n",
      "('Création de la personne qui part de', 613, 96, 'pour aller à', 0, 1023)\n",
      "('Création de la personne qui part de', 1018, 721, 'pour aller à', 0, 0)\n",
      "('Création de la personne qui part de', 902, 832, 'pour aller à', 1023, 0)\n",
      "('Création de la personne qui part de', 899, 7, 'pour aller à', 0, 0)\n",
      "('Création de la personne qui part de', 213, 178, 'pour aller à', 1023, 1023)\n",
      "('Création de la personne qui part de', 436, 49, 'pour aller à', 0, 0)\n",
      "('Création de la personne qui part de', 820, 690, 'pour aller à', 0, 0)\n",
      "('Création de la personne qui part de', 58, 26, 'pour aller à', 0, 1023)\n",
      "('Création de la personne qui part de', 745, 599, 'pour aller à', 0, 0)\n",
      "('Création de la personne qui part de', 954, 304, 'pour aller à', 0, 1023)\n",
      "('Création de la personne qui part de', 783, 827, 'pour aller à', 1023, 0)\n",
      "('Création de la personne qui part de', 628, 301, 'pour aller à', 0, 1023)\n",
      "('Création de la personne qui part de', 17, 453, 'pour aller à', 1023, 0)\n",
      "('Création de la personne qui part de', 212, 940, 'pour aller à', 0, 1023)\n",
      "('Création de la personne qui part de', 599, 676, 'pour aller à', 0, 0)\n",
      "('Création de la personne qui part de', 731, 415, 'pour aller à', 1023, 1023)\n",
      "('Création de la personne qui part de', 1019, 401, 'pour aller à', 1023, 0)\n",
      "('Création de la personne qui part de', 561, 884, 'pour aller à', 1023, 0)\n",
      "('Création de la personne qui part de', 574, 403, 'pour aller à', 0, 1023)\n",
      "('Création de la personne qui part de', 226, 537, 'pour aller à', 0, 1023)\n",
      "('Création de la personne qui part de', 65, 474, 'pour aller à', 1023, 0)\n",
      "('Création de la personne qui part de', 32, 668, 'pour aller à', 0, 0)\n",
      "('Création de la personne qui part de', 981, 923, 'pour aller à', 0, 1023)\n",
      "('Création de la personne qui part de', 764, 613, 'pour aller à', 0, 0)\n",
      "('Création de la personne qui part de', 674, 101, 'pour aller à', 0, 1023)\n",
      "('Création de la personne qui part de', 323, 515, 'pour aller à', 0, 0)\n",
      "('Création de la personne qui part de', 344, 905, 'pour aller à', 0, 0)\n",
      "('Personne non créée, la place est occupée', 459, 543)\n",
      "('Création de la personne qui part de', 898, 184, 'pour aller à', 0, 1023)\n",
      "('Création de la personne qui part de', 581, 419, 'pour aller à', 1023, 1023)\n",
      "('Création de la personne qui part de', 171, 815, 'pour aller à', 1023, 0)\n",
      "('Création de la personne qui part de', 478, 721, 'pour aller à', 0, 0)\n",
      "('Création de la personne qui part de', 277, 384, 'pour aller à', 0, 0)\n",
      "('Création de la personne qui part de', 621, 90, 'pour aller à', 1023, 1023)\n",
      "('Création de la personne qui part de', 313, 282, 'pour aller à', 0, 0)\n",
      "('Création de la personne qui part de', 789, 233, 'pour aller à', 0, 1023)\n",
      "('Création de la personne qui part de', 1008, 139, 'pour aller à', 0, 0)\n",
      "('Création de la personne qui part de', 910, 448, 'pour aller à', 1023, 1023)\n",
      "('Création de la personne qui part de', 538, 57, 'pour aller à', 0, 1023)\n",
      "('Création de la personne qui part de', 93, 502, 'pour aller à', 0, 0)\n",
      "('Création de la personne qui part de', 491, 677, 'pour aller à', 0, 1023)\n",
      "('Création de la personne qui part de', 74, 1003, 'pour aller à', 1023, 0)\n",
      "('Création de la personne qui part de', 695, 914, 'pour aller à', 0, 0)\n",
      "('Création de la personne qui part de', 258, 760, 'pour aller à', 1023, 0)\n",
      "('Création de la personne qui part de', 437, 762, 'pour aller à', 0, 0)\n",
      "('Création de la personne qui part de', 360, 198, 'pour aller à', 0, 1023)\n",
      "('Création de la personne qui part de', 971, 133, 'pour aller à', 0, 0)\n",
      "('Création de la personne qui part de', 361, 150, 'pour aller à', 0, 1023)\n",
      "('Personne non créée, la place est occupée', 269, 293)\n",
      "('Création de la personne qui part de', 352, 483, 'pour aller à', 0, 0)\n",
      "('Création de la personne qui part de', 592, 75, 'pour aller à', 1023, 1023)\n",
      "('Création de la personne qui part de', 389, 521, 'pour aller à', 0, 1023)\n",
      "('Création de la personne qui part de', 544, 932, 'pour aller à', 0, 1023)\n",
      "('Création de la personne qui part de', 321, 954, 'pour aller à', 0, 1023)\n",
      "('Création de la personne qui part de', 769, 239, 'pour aller à', 0, 1023)\n",
      "('Création de la personne qui part de', 222, 841, 'pour aller à', 1023, 1023)\n",
      "('Création de la personne qui part de', 689, 767, 'pour aller à', 1023, 1023)\n",
      "('Création de la personne qui part de', 412, 143, 'pour aller à', 0, 0)\n",
      "('Création de la personne qui part de', 455, 111, 'pour aller à', 1023, 1023)\n",
      "('Création de la personne qui part de', 23, 593, 'pour aller à', 0, 1023)\n",
      "('Création de la personne qui part de', 221, 952, 'pour aller à', 1023, 1023)\n",
      "('Création de la personne qui part de', 376, 496, 'pour aller à', 0, 1023)\n",
      "('Création de la personne qui part de', 195, 987, 'pour aller à', 0, 0)\n",
      "('Création de la personne qui part de', 274, 161, 'pour aller à', 1023, 1023)\n",
      "('Création de la personne qui part de', 781, 814, 'pour aller à', 1023, 0)\n",
      "('Création de la personne qui part de', 424, 98, 'pour aller à', 1023, 1023)\n",
      "('Création de la personne qui part de', 299, 110, 'pour aller à', 1023, 0)\n",
      "('Création de la personne qui part de', 743, 29, 'pour aller à', 1023, 1023)\n",
      "('Création de la personne qui part de', 683, 72, 'pour aller à', 1023, 0)\n",
      "('Création de la personne qui part de', 244, 671, 'pour aller à', 0, 0)\n",
      "('Création de la personne qui part de', 100, 997, 'pour aller à', 0, 1023)\n",
      "('Création de la personne qui part de', 718, 921, 'pour aller à', 0, 1023)\n",
      "('Création de la personne qui part de', 16, 251, 'pour aller à', 1023, 0)\n",
      "('Création de la personne qui part de', 605, 278, 'pour aller à', 0, 1023)\n",
      "('Création de la personne qui part de', 532, 100, 'pour aller à', 0, 0)\n",
      "('Création de la personne qui part de', 290, 703, 'pour aller à', 0, 1023)\n",
      "('Personne non créée, la place est occupée', 408, 579)\n",
      "('Création de la personne qui part de', 249, 559, 'pour aller à', 1023, 1023)\n",
      "('Création de la personne qui part de', 476, 40, 'pour aller à', 0, 0)\n",
      "('Création de la personne qui part de', 995, 75, 'pour aller à', 0, 0)\n",
      "('Création de la personne qui part de', 767, 3, 'pour aller à', 1023, 1023)\n",
      "('Création de la personne qui part de', 112, 75, 'pour aller à', 0, 1023)\n",
      "('Création de la personne qui part de', 144, 721, 'pour aller à', 0, 1023)\n",
      "('Création de la personne qui part de', 539, 795, 'pour aller à', 1023, 1023)\n",
      "('Création de la personne qui part de', 180, 217, 'pour aller à', 0, 0)\n",
      "('Création de la personne qui part de', 889, 789, 'pour aller à', 1023, 0)\n",
      "('Création de la personne qui part de', 382, 224, 'pour aller à', 0, 1023)\n",
      "('Création de la personne qui part de', 683, 106, 'pour aller à', 0, 0)\n",
      "('Création de la personne qui part de', 893, 779, 'pour aller à', 1023, 0)\n",
      "('Création de la personne qui part de', 300, 640, 'pour aller à', 1023, 1023)\n",
      "('Création de la personne qui part de', 396, 470, 'pour aller à', 1023, 1023)\n",
      "('Création de la personne qui part de', 123, 557, 'pour aller à', 1023, 1023)\n",
      "('Création de la personne qui part de', 654, 231, 'pour aller à', 0, 0)\n",
      "('Création de la personne qui part de', 432, 585, 'pour aller à', 0, 0)\n",
      "('Création de la personne qui part de', 264, 440, 'pour aller à', 0, 0)\n",
      "('Création de la personne qui part de', 194, 528, 'pour aller à', 1023, 0)\n",
      "('Création de la personne qui part de', 569, 29, 'pour aller à', 1023, 1023)\n",
      "('Création de la personne qui part de', 722, 212, 'pour aller à', 1023, 0)\n",
      "('Création de la personne qui part de', 404, 728, 'pour aller à', 1023, 1023)\n",
      "('Création de la personne qui part de', 185, 794, 'pour aller à', 1023, 1023)\n",
      "('Création de la personne qui part de', 610, 394, 'pour aller à', 0, 1023)\n",
      "('Création de la personne qui part de', 693, 358, 'pour aller à', 0, 1023)\n",
      "('Création de la personne qui part de', 33, 257, 'pour aller à', 0, 1023)\n",
      "('Création de la personne qui part de', 768, 733, 'pour aller à', 1023, 0)\n",
      "('Création de la personne qui part de', 826, 336, 'pour aller à', 1023, 1023)\n",
      "('Création de la personne qui part de', 745, 96, 'pour aller à', 0, 0)\n",
      "('Création de la personne qui part de', 804, 982, 'pour aller à', 1023, 0)\n",
      "('Création de la personne qui part de', 889, 811, 'pour aller à', 0, 1023)\n",
      "('Création de la personne qui part de', 335, 834, 'pour aller à', 1023, 1023)\n",
      "('Création de la personne qui part de', 89, 381, 'pour aller à', 1023, 0)\n",
      "('Création de la personne qui part de', 862, 596, 'pour aller à', 1023, 1023)\n",
      "('Création de la personne qui part de', 765, 505, 'pour aller à', 0, 1023)\n",
      "('Création de la personne qui part de', 791, 511, 'pour aller à', 0, 0)\n",
      "('Création de la personne qui part de', 84, 179, 'pour aller à', 0, 1023)\n",
      "('Création de la personne qui part de', 907, 392, 'pour aller à', 1023, 0)\n",
      "('Création de la personne qui part de', 756, 689, 'pour aller à', 1023, 0)\n",
      "('Création de la personne qui part de', 177, 778, 'pour aller à', 0, 0)\n",
      "('Création de la personne qui part de', 590, 290, 'pour aller à', 1023, 1023)\n",
      "('Création de la personne qui part de', 15, 974, 'pour aller à', 0, 0)\n",
      "('Création de la personne qui part de', 698, 995, 'pour aller à', 0, 0)\n",
      "('Création de la personne qui part de', 633, 451, 'pour aller à', 1023, 1023)\n",
      "('Création de la personne qui part de', 307, 693, 'pour aller à', 1023, 1023)\n",
      "('Création de la personne qui part de', 485, 172, 'pour aller à', 0, 0)\n",
      "('Création de la personne qui part de', 82, 853, 'pour aller à', 1023, 0)\n",
      "('Création de la personne qui part de', 58, 781, 'pour aller à', 1023, 0)\n",
      "('Création de la personne qui part de', 217, 101, 'pour aller à', 0, 1023)\n",
      "('Création de la personne qui part de', 770, 818, 'pour aller à', 1023, 0)\n",
      "('Création de la personne qui part de', 369, 175, 'pour aller à', 0, 0)\n",
      "('Création de la personne qui part de', 456, 435, 'pour aller à', 1023, 0)\n",
      "('Création de la personne qui part de', 423, 149, 'pour aller à', 0, 1023)\n",
      "('Création de la personne qui part de', 667, 290, 'pour aller à', 0, 1023)\n",
      "('Création de la personne qui part de', 900, 575, 'pour aller à', 0, 1023)\n",
      "('Création de la personne qui part de', 65, 702, 'pour aller à', 1023, 1023)\n",
      "('Création de la personne qui part de', 603, 635, 'pour aller à', 0, 0)\n",
      "('Création de la personne qui part de', 548, 849, 'pour aller à', 0, 0)\n",
      "('Création de la personne qui part de', 972, 168, 'pour aller à', 1023, 1023)\n",
      "('Création de la personne qui part de', 4, 806, 'pour aller à', 0, 1023)\n",
      "('Création de la personne qui part de', 688, 859, 'pour aller à', 0, 0)\n",
      "('Création de la personne qui part de', 479, 451, 'pour aller à', 1023, 1023)\n",
      "('Création de la personne qui part de', 213, 692, 'pour aller à', 0, 1023)\n",
      "('Création de la personne qui part de', 334, 435, 'pour aller à', 0, 0)\n",
      "('Création de la personne qui part de', 416, 1008, 'pour aller à', 1023, 1023)\n",
      "('Création de la personne qui part de', 478, 288, 'pour aller à', 0, 1023)\n",
      "('Création de la personne qui part de', 830, 672, 'pour aller à', 0, 1023)\n",
      "('Création de la personne qui part de', 679, 755, 'pour aller à', 1023, 0)\n",
      "('Création de la personne qui part de', 1023, 888, 'pour aller à', 1023, 1023)\n",
      "('Création de la personne qui part de', 779, 48, 'pour aller à', 1023, 0)\n",
      "('Création de la personne qui part de', 985, 463, 'pour aller à', 0, 0)\n",
      "('Création de la personne qui part de', 922, 448, 'pour aller à', 1023, 0)\n",
      "('Création de la personne qui part de', 352, 935, 'pour aller à', 0, 1023)\n",
      "('Création de la personne qui part de', 524, 46, 'pour aller à', 1023, 0)\n",
      "('Création de la personne qui part de', 1008, 873, 'pour aller à', 1023, 0)\n",
      "('Création de la personne qui part de', 461, 815, 'pour aller à', 0, 0)\n",
      "('Création de la personne qui part de', 389, 504, 'pour aller à', 0, 0)\n",
      "('Création de la personne qui part de', 791, 331, 'pour aller à', 1023, 1023)\n",
      "('Création de la personne qui part de', 240, 7, 'pour aller à', 1023, 0)\n",
      "('Création de la personne qui part de', 585, 583, 'pour aller à', 0, 1023)\n",
      "('Création de la personne qui part de', 875, 915, 'pour aller à', 0, 1023)\n",
      "('Création de la personne qui part de', 111, 236, 'pour aller à', 0, 0)\n",
      "('Création de la personne qui part de', 817, 902, 'pour aller à', 0, 1023)\n",
      "('Création de la personne qui part de', 158, 1018, 'pour aller à', 0, 0)\n",
      "('Création de la personne qui part de', 765, 318, 'pour aller à', 0, 1023)\n",
      "('Création de la personne qui part de', 571, 40, 'pour aller à', 1023, 1023)\n",
      "('Création de la personne qui part de', 127, 448, 'pour aller à', 0, 0)\n",
      "('Création de la personne qui part de', 411, 966, 'pour aller à', 1023, 1023)\n",
      "('Création de la personne qui part de', 338, 292, 'pour aller à', 0, 1023)\n",
      "('Création de la personne qui part de', 440, 461, 'pour aller à', 1023, 0)\n",
      "('Création de la personne qui part de', 744, 466, 'pour aller à', 0, 0)\n",
      "('Création de la personne qui part de', 298, 982, 'pour aller à', 0, 1023)\n",
      "('Création de la personne qui part de', 431, 497, 'pour aller à', 0, 0)\n",
      "('Création de la personne qui part de', 937, 586, 'pour aller à', 0, 1023)\n",
      "('Création de la personne qui part de', 124, 706, 'pour aller à', 0, 1023)\n",
      "('Création de la personne qui part de', 339, 989, 'pour aller à', 0, 0)\n",
      "('Création de la personne qui part de', 325, 389, 'pour aller à', 0, 1023)\n",
      "('Création de la personne qui part de', 758, 528, 'pour aller à', 1023, 1023)\n",
      "('Création de la personne qui part de', 158, 632, 'pour aller à', 0, 0)\n",
      "('Création de la personne qui part de', 515, 28, 'pour aller à', 1023, 1023)\n",
      "('Création de la personne qui part de', 513, 730, 'pour aller à', 1023, 0)\n",
      "('Création de la personne qui part de', 945, 415, 'pour aller à', 0, 0)\n",
      "('Personne non créée, la place est occupée', 272, 298)\n",
      "('Création de la personne qui part de', 127, 389, 'pour aller à', 1023, 1023)\n",
      "('Création de la personne qui part de', 500, 654, 'pour aller à', 0, 1023)\n",
      "('Création de la personne qui part de', 731, 473, 'pour aller à', 0, 0)\n",
      "('Création de la personne qui part de', 10, 441, 'pour aller à', 0, 0)\n",
      "('Création de la personne qui part de', 572, 471, 'pour aller à', 1023, 1023)\n",
      "('Création de la personne qui part de', 923, 24, 'pour aller à', 1023, 0)\n",
      "('Création de la personne qui part de', 960, 760, 'pour aller à', 1023, 0)\n",
      "('Création de la personne qui part de', 560, 769, 'pour aller à', 0, 1023)\n",
      "('Création de la personne qui part de', 39, 703, 'pour aller à', 0, 1023)\n",
      "('Création de la personne qui part de', 433, 172, 'pour aller à', 1023, 0)\n",
      "('Création de la personne qui part de', 135, 621, 'pour aller à', 1023, 0)\n",
      "('Création de la personne qui part de', 976, 530, 'pour aller à', 1023, 1023)\n",
      "('Création de la personne qui part de', 615, 513, 'pour aller à', 0, 1023)\n",
      "('Création de la personne qui part de', 504, 962, 'pour aller à', 1023, 0)\n",
      "('Création de la personne qui part de', 395, 388, 'pour aller à', 0, 1023)\n",
      "('Création de la personne qui part de', 497, 70, 'pour aller à', 1023, 0)\n",
      "('Création de la personne qui part de', 423, 791, 'pour aller à', 1023, 0)\n",
      "('Création de la personne qui part de', 874, 239, 'pour aller à', 1023, 1023)\n",
      "('Création de la personne qui part de', 577, 298, 'pour aller à', 0, 1023)\n",
      "('Création de la personne qui part de', 638, 909, 'pour aller à', 0, 1023)\n",
      "('Création de la personne qui part de', 996, 346, 'pour aller à', 0, 1023)\n",
      "('Création de la personne qui part de', 528, 647, 'pour aller à', 0, 1023)\n",
      "('Création de la personne qui part de', 933, 21, 'pour aller à', 1023, 0)\n",
      "('Création de la personne qui part de', 40, 845, 'pour aller à', 1023, 1023)\n",
      "('Création de la personne qui part de', 302, 942, 'pour aller à', 1023, 1023)\n",
      "('Création de la personne qui part de', 803, 376, 'pour aller à', 1023, 1023)\n",
      "('Création de la personne qui part de', 687, 608, 'pour aller à', 1023, 0)\n",
      "('Création de la personne qui part de', 1012, 178, 'pour aller à', 0, 0)\n",
      "('Création de la personne qui part de', 942, 711, 'pour aller à', 0, 1023)\n",
      "('Création de la personne qui part de', 326, 132, 'pour aller à', 1023, 0)\n",
      "('Création de la personne qui part de', 251, 138, 'pour aller à', 1023, 1023)\n",
      "('Création de la personne qui part de', 772, 806, 'pour aller à', 1023, 1023)\n",
      "('Création de la personne qui part de', 311, 603, 'pour aller à', 1023, 0)\n",
      "('Création de la personne qui part de', 436, 368, 'pour aller à', 1023, 0)\n",
      "('Création de la personne qui part de', 733, 125, 'pour aller à', 0, 1023)\n",
      "('Création de la personne qui part de', 565, 259, 'pour aller à', 0, 1023)\n",
      "('Création de la personne qui part de', 271, 40, 'pour aller à', 0, 1023)\n",
      "('Création de la personne qui part de', 620, 177, 'pour aller à', 1023, 0)\n",
      "('Création de la personne qui part de', 636, 580, 'pour aller à', 1023, 0)\n",
      "('Création de la personne qui part de', 555, 415, 'pour aller à', 1023, 1023)\n",
      "('Création de la personne qui part de', 867, 672, 'pour aller à', 1023, 1023)\n",
      "('Création de la personne qui part de', 951, 399, 'pour aller à', 0, 1023)\n",
      "('Création de la personne qui part de', 143, 394, 'pour aller à', 1023, 0)\n",
      "('Création de la personne qui part de', 272, 775, 'pour aller à', 0, 1023)\n",
      "('Création de la personne qui part de', 465, 443, 'pour aller à', 1023, 1023)\n",
      "('Création de la personne qui part de', 202, 749, 'pour aller à', 1023, 1023)\n",
      "('Création de la personne qui part de', 849, 1005, 'pour aller à', 1023, 0)\n",
      "('Création de la personne qui part de', 951, 387, 'pour aller à', 0, 0)\n",
      "('Création de la personne qui part de', 975, 771, 'pour aller à', 1023, 1023)\n",
      "('Création de la personne qui part de', 234, 760, 'pour aller à', 0, 1023)\n",
      "('Création de la personne qui part de', 518, 836, 'pour aller à', 0, 1023)\n",
      "('Création de la personne qui part de', 686, 10, 'pour aller à', 0, 0)\n",
      "('Création de la personne qui part de', 783, 265, 'pour aller à', 0, 0)\n",
      "('Personne non créée, la place est occupée', 35, 57)\n",
      "('Création de la personne qui part de', 866, 350, 'pour aller à', 1023, 0)\n",
      "('Création de la personne qui part de', 66, 965, 'pour aller à', 1023, 1023)\n",
      "('Création de la personne qui part de', 361, 612, 'pour aller à', 0, 1023)\n",
      "('Création de la personne qui part de', 832, 464, 'pour aller à', 0, 1023)\n",
      "('Création de la personne qui part de', 192, 541, 'pour aller à', 1023, 1023)\n",
      "('Création de la personne qui part de', 711, 478, 'pour aller à', 1023, 1023)\n",
      "('Création de la personne qui part de', 852, 101, 'pour aller à', 0, 0)\n",
      "('Création de la personne qui part de', 648, 876, 'pour aller à', 1023, 1023)\n",
      "('Création de la personne qui part de', 96, 802, 'pour aller à', 0, 0)\n",
      "('Personne non créée, la place est occupée', 461, 549)\n",
      "('Création de la personne qui part de', 757, 951, 'pour aller à', 1023, 0)\n",
      "('Création de la personne qui part de', 802, 285, 'pour aller à', 0, 1023)\n",
      "('Création de la personne qui part de', 32, 799, 'pour aller à', 0, 1023)\n",
      "('Création de la personne qui part de', 824, 350, 'pour aller à', 0, 0)\n",
      "('Création de la personne qui part de', 993, 666, 'pour aller à', 1023, 0)\n",
      "('Création de la personne qui part de', 818, 546, 'pour aller à', 0, 1023)\n",
      "('Création de la personne qui part de', 99, 296, 'pour aller à', 1023, 0)\n",
      "('Création de la personne qui part de', 639, 912, 'pour aller à', 1023, 1023)\n",
      "('Création de la personne qui part de', 484, 273, 'pour aller à', 0, 0)\n",
      "('Création de la personne qui part de', 618, 967, 'pour aller à', 0, 0)\n",
      "('Création de la personne qui part de', 1008, 729, 'pour aller à', 0, 0)\n",
      "('Personne non créée, la place est occupée', 670, 722)\n",
      "('Création de la personne qui part de', 939, 357, 'pour aller à', 1023, 0)\n",
      "('Création de la personne qui part de', 888, 705, 'pour aller à', 0, 1023)\n",
      "('Création de la personne qui part de', 637, 633, 'pour aller à', 1023, 0)\n",
      "('Création de la personne qui part de', 347, 856, 'pour aller à', 1023, 0)\n",
      "('Création de la personne qui part de', 958, 252, 'pour aller à', 0, 0)\n",
      "('Création de la personne qui part de', 210, 299, 'pour aller à', 0, 0)\n",
      "('Création de la personne qui part de', 444, 980, 'pour aller à', 1023, 1023)\n",
      "('Création de la personne qui part de', 887, 72, 'pour aller à', 1023, 1023)\n",
      "('Création de la personne qui part de', 152, 902, 'pour aller à', 0, 0)\n",
      "('Création de la personne qui part de', 989, 951, 'pour aller à', 1023, 1023)\n",
      "('Création de la personne qui part de', 383, 518, 'pour aller à', 0, 0)\n",
      "('Création de la personne qui part de', 1010, 5, 'pour aller à', 1023, 1023)\n",
      "('Création de la personne qui part de', 696, 205, 'pour aller à', 0, 1023)\n",
      "('Création de la personne qui part de', 765, 425, 'pour aller à', 1023, 1023)\n",
      "('Création de la personne qui part de', 75, 912, 'pour aller à', 1023, 1023)\n",
      "('Création de la personne qui part de', 989, 834, 'pour aller à', 0, 0)\n",
      "('Création de la personne qui part de', 496, 369, 'pour aller à', 1023, 1023)\n",
      "('Création de la personne qui part de', 559, 713, 'pour aller à', 1023, 0)\n",
      "('Création de la personne qui part de', 215, 532, 'pour aller à', 0, 1023)\n",
      "('Création de la personne qui part de', 906, 685, 'pour aller à', 0, 1023)\n",
      "('Création de la personne qui part de', 369, 558, 'pour aller à', 0, 1023)\n",
      "('Création de la personne qui part de', 527, 805, 'pour aller à', 1023, 1023)\n",
      "('Création de la personne qui part de', 447, 809, 'pour aller à', 1023, 1023)\n",
      "('Création de la personne qui part de', 442, 351, 'pour aller à', 0, 0)\n",
      "('Création de la personne qui part de', 888, 294, 'pour aller à', 1023, 1023)\n",
      "('Création de la personne qui part de', 688, 153, 'pour aller à', 0, 0)\n",
      "('Création de la personne qui part de', 134, 679, 'pour aller à', 0, 0)\n",
      "('Création de la personne qui part de', 93, 382, 'pour aller à', 0, 1023)\n",
      "('Création de la personne qui part de', 157, 592, 'pour aller à', 1023, 0)\n",
      "('Création de la personne qui part de', 386, 510, 'pour aller à', 0, 0)\n",
      "('Création de la personne qui part de', 562, 896, 'pour aller à', 0, 0)\n",
      "('Création de la personne qui part de', 745, 917, 'pour aller à', 0, 1023)\n",
      "('Création de la personne qui part de', 469, 303, 'pour aller à', 0, 1023)\n",
      "('Création de la personne qui part de', 748, 287, 'pour aller à', 0, 1023)\n",
      "('Création de la personne qui part de', 351, 78, 'pour aller à', 1023, 1023)\n",
      "('Création de la personne qui part de', 828, 513, 'pour aller à', 0, 0)\n",
      "('Création de la personne qui part de', 355, 240, 'pour aller à', 1023, 0)\n",
      "('Création de la personne qui part de', 373, 783, 'pour aller à', 0, 0)\n",
      "('Création de la personne qui part de', 63, 964, 'pour aller à', 0, 0)\n",
      "('Création de la personne qui part de', 797, 695, 'pour aller à', 1023, 1023)\n",
      "('Création de la personne qui part de', 470, 75, 'pour aller à', 0, 1023)\n",
      "('Création de la personne qui part de', 634, 567, 'pour aller à', 0, 1023)\n",
      "('Création de la personne qui part de', 737, 653, 'pour aller à', 0, 1023)\n",
      "('Création de la personne qui part de', 521, 768, 'pour aller à', 1023, 1023)\n",
      "('Création de la personne qui part de', 527, 221, 'pour aller à', 1023, 1023)\n",
      "('Création de la personne qui part de', 7, 112, 'pour aller à', 0, 0)\n",
      "('Création de la personne qui part de', 835, 266, 'pour aller à', 1023, 0)\n",
      "('Création de la personne qui part de', 277, 744, 'pour aller à', 0, 1023)\n",
      "('Création de la personne qui part de', 670, 773, 'pour aller à', 1023, 0)\n",
      "('Création de la personne qui part de', 663, 880, 'pour aller à', 1023, 1023)\n",
      "('Création de la personne qui part de', 248, 172, 'pour aller à', 0, 1023)\n",
      "('Création de la personne qui part de', 502, 407, 'pour aller à', 1023, 0)\n",
      "('Création de la personne qui part de', 514, 691, 'pour aller à', 0, 1023)\n",
      "('Création de la personne qui part de', 495, 400, 'pour aller à', 0, 1023)\n",
      "('Création de la personne qui part de', 772, 896, 'pour aller à', 0, 1023)\n",
      "('Création de la personne qui part de', 715, 100, 'pour aller à', 0, 0)\n",
      "('Création de la personne qui part de', 606, 242, 'pour aller à', 1023, 0)\n",
      "('Création de la personne qui part de', 860, 397, 'pour aller à', 1023, 1023)\n",
      "('Création de la personne qui part de', 272, 86, 'pour aller à', 0, 0)\n",
      "('Création de la personne qui part de', 205, 618, 'pour aller à', 1023, 0)\n",
      "('Création de la personne qui part de', 225, 149, 'pour aller à', 0, 1023)\n",
      "('Création de la personne qui part de', 477, 296, 'pour aller à', 0, 0)\n",
      "('Création de la personne qui part de', 851, 543, 'pour aller à', 1023, 1023)\n",
      "('Création de la personne qui part de', 622, 102, 'pour aller à', 1023, 1023)\n",
      "('Création de la personne qui part de', 786, 1021, 'pour aller à', 0, 0)\n",
      "('Création de la personne qui part de', 59, 145, 'pour aller à', 1023, 1023)\n",
      "('Création de la personne qui part de', 481, 129, 'pour aller à', 0, 1023)\n",
      "('Création de la personne qui part de', 739, 927, 'pour aller à', 1023, 1023)\n",
      "('Création de la personne qui part de', 640, 1016, 'pour aller à', 0, 1023)\n",
      "('Création de la personne qui part de', 699, 835, 'pour aller à', 0, 0)\n",
      "('Création de la personne qui part de', 950, 34, 'pour aller à', 0, 1023)\n",
      "('Création de la personne qui part de', 881, 183, 'pour aller à', 1023, 1023)\n",
      "('Création de la personne qui part de', 434, 413, 'pour aller à', 1023, 1023)\n",
      "('Création de la personne qui part de', 398, 1006, 'pour aller à', 1023, 0)\n",
      "('Création de la personne qui part de', 559, 182, 'pour aller à', 1023, 0)\n",
      "('Création de la personne qui part de', 259, 202, 'pour aller à', 1023, 1023)\n",
      "('Création de la personne qui part de', 234, 448, 'pour aller à', 0, 0)\n",
      "('Création de la personne qui part de', 902, 232, 'pour aller à', 1023, 1023)\n",
      "('Création de la personne qui part de', 294, 883, 'pour aller à', 0, 0)\n",
      "('Création de la personne qui part de', 193, 405, 'pour aller à', 1023, 1023)\n",
      "('Création de la personne qui part de', 34, 345, 'pour aller à', 0, 1023)\n",
      "('Création de la personne qui part de', 295, 198, 'pour aller à', 1023, 1023)\n",
      "('Création de la personne qui part de', 394, 751, 'pour aller à', 1023, 0)\n",
      "('Création de la personne qui part de', 48, 952, 'pour aller à', 0, 0)\n",
      "('Création de la personne qui part de', 855, 450, 'pour aller à', 1023, 0)\n",
      "('Création de la personne qui part de', 894, 437, 'pour aller à', 1023, 1023)\n",
      "('Création de la personne qui part de', 769, 96, 'pour aller à', 1023, 1023)\n",
      "('Création de la personne qui part de', 688, 364, 'pour aller à', 0, 0)\n",
      "('Création de la personne qui part de', 581, 583, 'pour aller à', 0, 0)\n",
      "('Création de la personne qui part de', 593, 895, 'pour aller à', 1023, 0)\n",
      "('Création de la personne qui part de', 462, 651, 'pour aller à', 1023, 1023)\n",
      "('Création de la personne qui part de', 449, 482, 'pour aller à', 1023, 1023)\n",
      "('Création de la personne qui part de', 686, 1017, 'pour aller à', 1023, 0)\n",
      "('Création de la personne qui part de', 450, 317, 'pour aller à', 1023, 0)\n",
      "('Création de la personne qui part de', 18, 212, 'pour aller à', 1023, 1023)\n",
      "('Création de la personne qui part de', 759, 995, 'pour aller à', 0, 1023)\n",
      "('Création de la personne qui part de', 676, 652, 'pour aller à', 0, 0)\n",
      "('Création de la personne qui part de', 336, 851, 'pour aller à', 0, 1023)\n",
      "('Création de la personne qui part de', 62, 507, 'pour aller à', 0, 1023)\n",
      "('Création de la personne qui part de', 506, 1021, 'pour aller à', 1023, 1023)\n",
      "('Création de la personne qui part de', 193, 188, 'pour aller à', 1023, 1023)\n",
      "('Création de la personne qui part de', 731, 445, 'pour aller à', 1023, 0)\n",
      "('Création de la personne qui part de', 367, 285, 'pour aller à', 1023, 1023)\n",
      "('Création de la personne qui part de', 408, 229, 'pour aller à', 0, 0)\n",
      "('Création de la personne qui part de', 1009, 153, 'pour aller à', 0, 1023)\n",
      "('Création de la personne qui part de', 288, 183, 'pour aller à', 0, 0)\n",
      "('Création de la personne qui part de', 461, 877, 'pour aller à', 1023, 1023)\n",
      "('Création de la personne qui part de', 624, 519, 'pour aller à', 1023, 0)\n",
      "('Création de la personne qui part de', 160, 510, 'pour aller à', 0, 1023)\n",
      "('Création de la personne qui part de', 929, 661, 'pour aller à', 0, 1023)\n",
      "('Création de la personne qui part de', 153, 686, 'pour aller à', 0, 1023)\n",
      "('Création de la personne qui part de', 187, 851, 'pour aller à', 0, 0)\n",
      "('Création de la personne qui part de', 375, 1017, 'pour aller à', 0, 0)\n",
      "('Création de la personne qui part de', 217, 820, 'pour aller à', 1023, 0)\n",
      "('Création de la personne qui part de', 861, 783, 'pour aller à', 1023, 0)\n",
      "('Création de la personne qui part de', 810, 694, 'pour aller à', 1023, 1023)\n",
      "('Personne non créée, la place est occupée', 87, 293)\n",
      "('Création de la personne qui part de', 39, 904, 'pour aller à', 0, 1023)\n",
      "('Création de la personne qui part de', 42, 763, 'pour aller à', 0, 1023)\n",
      "('Création de la personne qui part de', 100, 654, 'pour aller à', 1023, 1023)\n",
      "('Création de la personne qui part de', 120, 866, 'pour aller à', 0, 0)\n",
      "('Création de la personne qui part de', 441, 525, 'pour aller à', 1023, 0)\n",
      "('Création de la personne qui part de', 61, 935, 'pour aller à', 1023, 0)\n",
      "('Création de la personne qui part de', 348, 93, 'pour aller à', 0, 0)\n",
      "('Création de la personne qui part de', 715, 912, 'pour aller à', 0, 0)\n",
      "('Création de la personne qui part de', 529, 277, 'pour aller à', 0, 0)\n",
      "('Création de la personne qui part de', 124, 93, 'pour aller à', 0, 0)\n",
      "('Création de la personne qui part de', 714, 951, 'pour aller à', 1023, 1023)\n",
      "('Création de la personne qui part de', 304, 897, 'pour aller à', 0, 0)\n",
      "('Création de la personne qui part de', 201, 773, 'pour aller à', 1023, 0)\n",
      "('Personne non créée, la place est occupée', 154, 371)\n",
      "('Création de la personne qui part de', 514, 254, 'pour aller à', 0, 1023)\n",
      "('Création de la personne qui part de', 534, 983, 'pour aller à', 1023, 1023)\n",
      "('Création de la personne qui part de', 492, 766, 'pour aller à', 1023, 0)\n",
      "('Création de la personne qui part de', 190, 171, 'pour aller à', 0, 1023)\n",
      "('Création de la personne qui part de', 282, 586, 'pour aller à', 1023, 0)\n",
      "('Personne non créée, la place est occupée', 624, 737)\n",
      "('Création de la personne qui part de', 373, 781, 'pour aller à', 0, 1023)\n",
      "('Création de la personne qui part de', 53, 544, 'pour aller à', 0, 0)\n",
      "('Création de la personne qui part de', 879, 162, 'pour aller à', 0, 0)\n",
      "('Création de la personne qui part de', 255, 574, 'pour aller à', 0, 1023)\n",
      "('Création de la personne qui part de', 932, 348, 'pour aller à', 0, 1023)\n",
      "('Création de la personne qui part de', 1009, 481, 'pour aller à', 1023, 1023)\n",
      "('Personne non créée, la place est occupée', 722, 902)\n",
      "('Création de la personne qui part de', 138, 356, 'pour aller à', 1023, 0)\n",
      "('Création de la personne qui part de', 96, 413, 'pour aller à', 1023, 0)\n",
      "('Création de la personne qui part de', 73, 850, 'pour aller à', 1023, 1023)\n",
      "('Création de la personne qui part de', 1015, 1014, 'pour aller à', 1023, 0)\n",
      "('Création de la personne qui part de', 294, 254, 'pour aller à', 0, 0)\n",
      "('Création de la personne qui part de', 240, 762, 'pour aller à', 0, 1023)\n",
      "('Création de la personne qui part de', 205, 44, 'pour aller à', 0, 1023)\n",
      "('Création de la personne qui part de', 848, 249, 'pour aller à', 0, 0)\n",
      "('Création de la personne qui part de', 897, 663, 'pour aller à', 1023, 0)\n",
      "('Création de la personne qui part de', 24, 395, 'pour aller à', 0, 1023)\n",
      "('Création de la personne qui part de', 592, 370, 'pour aller à', 1023, 1023)\n",
      "('Création de la personne qui part de', 251, 376, 'pour aller à', 1023, 1023)\n",
      "('Création de la personne qui part de', 583, 592, 'pour aller à', 1023, 1023)\n",
      "('Création de la personne qui part de', 130, 64, 'pour aller à', 1023, 1023)\n",
      "('Création de la personne qui part de', 498, 295, 'pour aller à', 0, 0)\n",
      "('Création de la personne qui part de', 843, 922, 'pour aller à', 0, 1023)\n",
      "('Création de la personne qui part de', 948, 302, 'pour aller à', 0, 1023)\n",
      "('Création de la personne qui part de', 261, 346, 'pour aller à', 0, 0)\n",
      "('Création de la personne qui part de', 741, 315, 'pour aller à', 0, 0)\n",
      "('Création de la personne qui part de', 835, 127, 'pour aller à', 1023, 0)\n",
      "('Création de la personne qui part de', 112, 247, 'pour aller à', 0, 0)\n",
      "('Création de la personne qui part de', 738, 221, 'pour aller à', 0, 1023)\n",
      "('Création de la personne qui part de', 414, 354, 'pour aller à', 0, 0)\n",
      "('Personne non créée, la place est occupée', 699, 706)\n",
      "('Création de la personne qui part de', 436, 256, 'pour aller à', 0, 0)\n",
      "('Création de la personne qui part de', 417, 971, 'pour aller à', 1023, 1023)\n",
      "('Création de la personne qui part de', 896, 951, 'pour aller à', 1023, 0)\n",
      "('Création de la personne qui part de', 561, 335, 'pour aller à', 0, 0)\n",
      "('Création de la personne qui part de', 179, 347, 'pour aller à', 0, 1023)\n",
      "('Création de la personne qui part de', 110, 278, 'pour aller à', 1023, 0)\n",
      "('Création de la personne qui part de', 904, 745, 'pour aller à', 0, 0)\n",
      "('Création de la personne qui part de', 444, 161, 'pour aller à', 1023, 0)\n",
      "('Création de la personne qui part de', 296, 588, 'pour aller à', 1023, 1023)\n",
      "('Création de la personne qui part de', 342, 569, 'pour aller à', 0, 0)\n",
      "('Création de la personne qui part de', 123, 789, 'pour aller à', 1023, 1023)\n",
      "('Création de la personne qui part de', 595, 659, 'pour aller à', 0, 0)\n",
      "('Création de la personne qui part de', 764, 590, 'pour aller à', 0, 0)\n",
      "('Création de la personne qui part de', 935, 1014, 'pour aller à', 0, 1023)\n",
      "('Création de la personne qui part de', 167, 597, 'pour aller à', 0, 0)\n",
      "('Création de la personne qui part de', 1020, 111, 'pour aller à', 1023, 1023)\n",
      "('Personne non créée, la place est occupée', 741, 827)\n",
      "('Création de la personne qui part de', 526, 15, 'pour aller à', 1023, 0)\n",
      "('Création de la personne qui part de', 19, 248, 'pour aller à', 0, 1023)\n",
      "('Création de la personne qui part de', 795, 209, 'pour aller à', 1023, 0)\n",
      "('Création de la personne qui part de', 408, 271, 'pour aller à', 0, 1023)\n",
      "('Création de la personne qui part de', 156, 824, 'pour aller à', 0, 0)\n",
      "('Création de la personne qui part de', 948, 74, 'pour aller à', 1023, 0)\n",
      "('Personne non créée, la place est occupée', 710, 818)\n",
      "('Création de la personne qui part de', 662, 793, 'pour aller à', 0, 1023)\n",
      "('Création de la personne qui part de', 142, 644, 'pour aller à', 1023, 1023)\n",
      "('Création de la personne qui part de', 882, 135, 'pour aller à', 0, 0)\n",
      "('Création de la personne qui part de', 157, 668, 'pour aller à', 0, 1023)\n",
      "('Création de la personne qui part de', 180, 685, 'pour aller à', 0, 1023)\n",
      "('Création de la personne qui part de', 67, 528, 'pour aller à', 1023, 1023)\n",
      "('Création de la personne qui part de', 145, 213, 'pour aller à', 0, 0)\n",
      "('Création de la personne qui part de', 753, 294, 'pour aller à', 1023, 0)\n",
      "('Création de la personne qui part de', 123, 286, 'pour aller à', 0, 0)\n",
      "('Création de la personne qui part de', 844, 179, 'pour aller à', 1023, 1023)\n",
      "('Création de la personne qui part de', 381, 666, 'pour aller à', 1023, 0)\n",
      "('Création de la personne qui part de', 140, 236, 'pour aller à', 1023, 0)\n",
      "('Création de la personne qui part de', 517, 796, 'pour aller à', 0, 0)\n",
      "('Création de la personne qui part de', 902, 273, 'pour aller à', 1023, 1023)\n",
      "('Création de la personne qui part de', 941, 468, 'pour aller à', 0, 0)\n",
      "('Création de la personne qui part de', 463, 225, 'pour aller à', 0, 1023)\n",
      "('Création de la personne qui part de', 331, 973, 'pour aller à', 1023, 1023)\n",
      "('Création de la personne qui part de', 73, 472, 'pour aller à', 0, 0)\n",
      "('Création de la personne qui part de', 88, 963, 'pour aller à', 1023, 1023)\n",
      "('Création de la personne qui part de', 717, 681, 'pour aller à', 0, 1023)\n",
      "('Création de la personne qui part de', 495, 339, 'pour aller à', 0, 0)\n",
      "('Création de la personne qui part de', 161, 198, 'pour aller à', 0, 0)\n",
      "('Création de la personne qui part de', 387, 604, 'pour aller à', 0, 0)\n",
      "('Création de la personne qui part de', 343, 500, 'pour aller à', 0, 0)\n",
      "('Création de la personne qui part de', 459, 75, 'pour aller à', 0, 1023)\n",
      "('Création de la personne qui part de', 256, 41, 'pour aller à', 0, 0)\n",
      "('Création de la personne qui part de', 90, 904, 'pour aller à', 0, 1023)\n",
      "('Création de la personne qui part de', 782, 800, 'pour aller à', 0, 0)\n",
      "('Création de la personne qui part de', 353, 215, 'pour aller à', 0, 0)\n",
      "('Création de la personne qui part de', 680, 789, 'pour aller à', 0, 0)\n",
      "('Création de la personne qui part de', 714, 912, 'pour aller à', 1023, 0)\n",
      "('Création de la personne qui part de', 357, 297, 'pour aller à', 1023, 0)\n",
      "('Création de la personne qui part de', 87, 724, 'pour aller à', 0, 1023)\n",
      "('Création de la personne qui part de', 487, 424, 'pour aller à', 1023, 1023)\n",
      "('Création de la personne qui part de', 195, 191, 'pour aller à', 0, 0)\n",
      "('Création de la personne qui part de', 29, 663, 'pour aller à', 0, 1023)\n",
      "('Création de la personne qui part de', 711, 672, 'pour aller à', 0, 1023)\n",
      "('Personne non créée, la place est occupée', 492, 567)\n",
      "('Création de la personne qui part de', 527, 439, 'pour aller à', 1023, 1023)\n",
      "('Création de la personne qui part de', 538, 159, 'pour aller à', 1023, 1023)\n",
      "('Création de la personne qui part de', 1001, 603, 'pour aller à', 0, 1023)\n",
      "('Création de la personne qui part de', 419, 866, 'pour aller à', 1023, 1023)\n",
      "('Création de la personne qui part de', 944, 819, 'pour aller à', 1023, 1023)\n",
      "('Création de la personne qui part de', 208, 771, 'pour aller à', 1023, 1023)\n",
      "('Personne non créée, la place est occupée', 472, 516)\n",
      "('Création de la personne qui part de', 6, 360, 'pour aller à', 0, 0)\n",
      "('Création de la personne qui part de', 142, 62, 'pour aller à', 1023, 1023)\n",
      "('Création de la personne qui part de', 974, 410, 'pour aller à', 0, 1023)\n",
      "('Création de la personne qui part de', 807, 742, 'pour aller à', 0, 0)\n",
      "('Création de la personne qui part de', 108, 505, 'pour aller à', 0, 0)\n",
      "('Création de la personne qui part de', 375, 566, 'pour aller à', 1023, 1023)\n",
      "('Création de la personne qui part de', 370, 712, 'pour aller à', 1023, 1023)\n",
      "('Création de la personne qui part de', 458, 320, 'pour aller à', 1023, 1023)\n",
      "('Création de la personne qui part de', 827, 303, 'pour aller à', 1023, 0)\n",
      "('Création de la personne qui part de', 505, 876, 'pour aller à', 1023, 0)\n",
      "('Création de la personne qui part de', 44, 443, 'pour aller à', 1023, 0)\n",
      "('Création de la personne qui part de', 181, 720, 'pour aller à', 0, 1023)\n",
      "('Création de la personne qui part de', 191, 20, 'pour aller à', 1023, 0)\n",
      "('Création de la personne qui part de', 559, 47, 'pour aller à', 0, 1023)\n"
     ]
    },
    {
     "name": "stdout",
     "output_type": "stream",
     "text": [
      "('Création de la personne qui part de', 22, 982, 'pour aller à', 1023, 1023)\n",
      "('Création de la personne qui part de', 905, 93, 'pour aller à', 1023, 1023)\n",
      "('Création de la personne qui part de', 367, 754, 'pour aller à', 1023, 0)\n",
      "('Création de la personne qui part de', 402, 381, 'pour aller à', 0, 1023)\n",
      "('Création de la personne qui part de', 553, 650, 'pour aller à', 0, 0)\n",
      "('Création de la personne qui part de', 711, 946, 'pour aller à', 1023, 0)\n",
      "('Création de la personne qui part de', 127, 825, 'pour aller à', 0, 1023)\n",
      "('Création de la personne qui part de', 904, 286, 'pour aller à', 0, 1023)\n",
      "('Création de la personne qui part de', 75, 688, 'pour aller à', 1023, 1023)\n",
      "('Création de la personne qui part de', 510, 24, 'pour aller à', 1023, 0)\n",
      "('Création de la personne qui part de', 83, 400, 'pour aller à', 1023, 1023)\n",
      "('Création de la personne qui part de', 622, 984, 'pour aller à', 1023, 0)\n",
      "('Création de la personne qui part de', 921, 685, 'pour aller à', 1023, 1023)\n",
      "('Création de la personne qui part de', 434, 151, 'pour aller à', 0, 1023)\n",
      "('Création de la personne qui part de', 310, 31, 'pour aller à', 1023, 0)\n",
      "('Création de la personne qui part de', 19, 429, 'pour aller à', 1023, 1023)\n",
      "('Création de la personne qui part de', 118, 501, 'pour aller à', 0, 0)\n",
      "('Création de la personne qui part de', 22, 800, 'pour aller à', 0, 0)\n",
      "('Création de la personne qui part de', 709, 499, 'pour aller à', 1023, 0)\n",
      "('Création de la personne qui part de', 433, 825, 'pour aller à', 1023, 1023)\n",
      "('Création de la personne qui part de', 510, 955, 'pour aller à', 1023, 0)\n",
      "('Création de la personne qui part de', 1010, 820, 'pour aller à', 0, 0)\n",
      "('Création de la personne qui part de', 376, 517, 'pour aller à', 0, 0)\n",
      "('Création de la personne qui part de', 299, 443, 'pour aller à', 1023, 1023)\n",
      "('Création de la personne qui part de', 214, 103, 'pour aller à', 1023, 0)\n",
      "('Création de la personne qui part de', 685, 398, 'pour aller à', 1023, 1023)\n",
      "('Création de la personne qui part de', 523, 805, 'pour aller à', 0, 0)\n",
      "('Création de la personne qui part de', 630, 17, 'pour aller à', 0, 1023)\n",
      "('Création de la personne qui part de', 977, 378, 'pour aller à', 1023, 1023)\n",
      "('Création de la personne qui part de', 751, 861, 'pour aller à', 0, 1023)\n",
      "('Création de la personne qui part de', 501, 71, 'pour aller à', 0, 0)\n",
      "('Création de la personne qui part de', 410, 943, 'pour aller à', 0, 1023)\n",
      "('Création de la personne qui part de', 892, 726, 'pour aller à', 1023, 0)\n",
      "('Création de la personne qui part de', 610, 456, 'pour aller à', 1023, 0)\n",
      "('Création de la personne qui part de', 626, 231, 'pour aller à', 1023, 0)\n",
      "('Création de la personne qui part de', 1018, 258, 'pour aller à', 0, 0)\n",
      "('Création de la personne qui part de', 110, 726, 'pour aller à', 0, 1023)\n",
      "('Création de la personne qui part de', 18, 322, 'pour aller à', 1023, 1023)\n",
      "('Création de la personne qui part de', 683, 729, 'pour aller à', 0, 0)\n",
      "('Création de la personne qui part de', 1002, 15, 'pour aller à', 1023, 0)\n",
      "('Création de la personne qui part de', 64, 686, 'pour aller à', 0, 0)\n",
      "('Création de la personne qui part de', 32, 137, 'pour aller à', 1023, 1023)\n",
      "('Création de la personne qui part de', 213, 496, 'pour aller à', 0, 0)\n",
      "('Création de la personne qui part de', 1006, 98, 'pour aller à', 0, 1023)\n",
      "('Création de la personne qui part de', 95, 182, 'pour aller à', 0, 0)\n",
      "('Création de la personne qui part de', 94, 373, 'pour aller à', 1023, 0)\n",
      "('Création de la personne qui part de', 1003, 18, 'pour aller à', 1023, 0)\n",
      "('Création de la personne qui part de', 6, 673, 'pour aller à', 0, 1023)\n",
      "('Création de la personne qui part de', 364, 775, 'pour aller à', 1023, 0)\n",
      "('Création de la personne qui part de', 629, 837, 'pour aller à', 1023, 1023)\n",
      "('Création de la personne qui part de', 133, 950, 'pour aller à', 0, 1023)\n",
      "('Création de la personne qui part de', 887, 222, 'pour aller à', 0, 0)\n",
      "('Création de la personne qui part de', 26, 551, 'pour aller à', 0, 0)\n",
      "('Création de la personne qui part de', 499, 651, 'pour aller à', 1023, 0)\n",
      "('Création de la personne qui part de', 836, 36, 'pour aller à', 1023, 0)\n",
      "('Création de la personne qui part de', 739, 659, 'pour aller à', 0, 1023)\n",
      "('Création de la personne qui part de', 912, 686, 'pour aller à', 0, 0)\n",
      "('Création de la personne qui part de', 832, 816, 'pour aller à', 1023, 1023)\n",
      "('Création de la personne qui part de', 283, 615, 'pour aller à', 1023, 0)\n",
      "('Création de la personne qui part de', 538, 261, 'pour aller à', 1023, 0)\n",
      "('Création de la personne qui part de', 974, 977, 'pour aller à', 1023, 1023)\n",
      "('Création de la personne qui part de', 454, 974, 'pour aller à', 0, 1023)\n",
      "('Création de la personne qui part de', 506, 670, 'pour aller à', 0, 0)\n",
      "('Création de la personne qui part de', 717, 208, 'pour aller à', 1023, 1023)\n",
      "('Création de la personne qui part de', 335, 241, 'pour aller à', 0, 1023)\n",
      "('Création de la personne qui part de', 917, 814, 'pour aller à', 0, 0)\n",
      "('Création de la personne qui part de', 706, 462, 'pour aller à', 1023, 1023)\n",
      "('Création de la personne qui part de', 965, 179, 'pour aller à', 0, 1023)\n",
      "('Création de la personne qui part de', 724, 165, 'pour aller à', 1023, 1023)\n",
      "('Création de la personne qui part de', 426, 358, 'pour aller à', 0, 0)\n",
      "('Création de la personne qui part de', 745, 712, 'pour aller à', 0, 1023)\n",
      "('Création de la personne qui part de', 63, 421, 'pour aller à', 0, 1023)\n",
      "('Création de la personne qui part de', 987, 470, 'pour aller à', 1023, 1023)\n",
      "('Création de la personne qui part de', 556, 459, 'pour aller à', 1023, 1023)\n",
      "('Création de la personne qui part de', 884, 905, 'pour aller à', 1023, 0)\n",
      "('Création de la personne qui part de', 315, 225, 'pour aller à', 0, 1023)\n",
      "('Création de la personne qui part de', 69, 589, 'pour aller à', 1023, 0)\n",
      "('Création de la personne qui part de', 2, 371, 'pour aller à', 1023, 1023)\n",
      "('Création de la personne qui part de', 367, 524, 'pour aller à', 0, 1023)\n",
      "('Création de la personne qui part de', 816, 404, 'pour aller à', 1023, 1023)\n",
      "('Création de la personne qui part de', 941, 832, 'pour aller à', 1023, 1023)\n",
      "('Création de la personne qui part de', 565, 117, 'pour aller à', 1023, 0)\n",
      "('Création de la personne qui part de', 895, 939, 'pour aller à', 1023, 0)\n",
      "('Création de la personne qui part de', 195, 243, 'pour aller à', 0, 0)\n",
      "('Personne non créée, la place est occupée', 83, 313)\n",
      "('Création de la personne qui part de', 443, 985, 'pour aller à', 1023, 1023)\n",
      "('Création de la personne qui part de', 611, 252, 'pour aller à', 0, 1023)\n",
      "('Création de la personne qui part de', 397, 90, 'pour aller à', 0, 0)\n",
      "('Création de la personne qui part de', 926, 279, 'pour aller à', 1023, 1023)\n",
      "('Création de la personne qui part de', 568, 807, 'pour aller à', 1023, 1023)\n",
      "('Création de la personne qui part de', 350, 211, 'pour aller à', 0, 0)\n",
      "('Création de la personne qui part de', 464, 326, 'pour aller à', 0, 0)\n",
      "('Création de la personne qui part de', 171, 361, 'pour aller à', 1023, 0)\n",
      "('Création de la personne qui part de', 525, 678, 'pour aller à', 1023, 1023)\n",
      "('Création de la personne qui part de', 832, 928, 'pour aller à', 0, 0)\n",
      "('Création de la personne qui part de', 418, 954, 'pour aller à', 1023, 0)\n",
      "('Création de la personne qui part de', 352, 846, 'pour aller à', 1023, 1023)\n",
      "('Création de la personne qui part de', 875, 131, 'pour aller à', 1023, 1023)\n",
      "('Création de la personne qui part de', 611, 788, 'pour aller à', 0, 1023)\n",
      "('Création de la personne qui part de', 181, 84, 'pour aller à', 1023, 0)\n",
      "('Création de la personne qui part de', 34, 739, 'pour aller à', 0, 0)\n",
      "('Création de la personne qui part de', 324, 938, 'pour aller à', 0, 1023)\n",
      "('Création de la personne qui part de', 244, 278, 'pour aller à', 0, 0)\n",
      "('Création de la personne qui part de', 636, 9, 'pour aller à', 1023, 0)\n",
      "('Création de la personne qui part de', 691, 715, 'pour aller à', 0, 0)\n",
      "('Création de la personne qui part de', 866, 141, 'pour aller à', 1023, 0)\n",
      "('Création de la personne qui part de', 416, 852, 'pour aller à', 0, 0)\n",
      "('Création de la personne qui part de', 117, 338, 'pour aller à', 0, 0)\n",
      "('Création de la personne qui part de', 318, 64, 'pour aller à', 1023, 1023)\n",
      "('Création de la personne qui part de', 246, 94, 'pour aller à', 1023, 0)\n",
      "('Création de la personne qui part de', 784, 499, 'pour aller à', 1023, 0)\n",
      "('Création de la personne qui part de', 686, 425, 'pour aller à', 1023, 0)\n",
      "('Création de la personne qui part de', 127, 420, 'pour aller à', 0, 1023)\n",
      "('Création de la personne qui part de', 129, 754, 'pour aller à', 0, 0)\n",
      "('Création de la personne qui part de', 756, 696, 'pour aller à', 0, 0)\n",
      "('Création de la personne qui part de', 981, 153, 'pour aller à', 0, 0)\n",
      "('Création de la personne qui part de', 250, 333, 'pour aller à', 0, 1023)\n",
      "('Création de la personne qui part de', 733, 153, 'pour aller à', 0, 0)\n",
      "('Création de la personne qui part de', 350, 174, 'pour aller à', 1023, 0)\n",
      "('Personne non créée, la place est occupée', 474, 528)\n",
      "('Création de la personne qui part de', 430, 659, 'pour aller à', 1023, 0)\n",
      "('Création de la personne qui part de', 378, 211, 'pour aller à', 0, 1023)\n",
      "('Création de la personne qui part de', 338, 449, 'pour aller à', 0, 1023)\n",
      "('Création de la personne qui part de', 527, 574, 'pour aller à', 0, 1023)\n",
      "('Création de la personne qui part de', 731, 630, 'pour aller à', 1023, 1023)\n",
      "('Création de la personne qui part de', 26, 316, 'pour aller à', 1023, 0)\n",
      "('Création de la personne qui part de', 454, 104, 'pour aller à', 0, 1023)\n",
      "('Création de la personne qui part de', 223, 650, 'pour aller à', 1023, 0)\n",
      "('Création de la personne qui part de', 618, 129, 'pour aller à', 1023, 0)\n",
      "('Création de la personne qui part de', 400, 42, 'pour aller à', 0, 1023)\n",
      "('Création de la personne qui part de', 622, 632, 'pour aller à', 1023, 1023)\n",
      "('Création de la personne qui part de', 1007, 50, 'pour aller à', 1023, 0)\n",
      "('Création de la personne qui part de', 83, 450, 'pour aller à', 1023, 1023)\n",
      "('Création de la personne qui part de', 1013, 234, 'pour aller à', 0, 0)\n",
      "('Personne non créée, la place est occupée', 725, 854)\n",
      "('Création de la personne qui part de', 996, 899, 'pour aller à', 0, 0)\n",
      "('Création de la personne qui part de', 10, 678, 'pour aller à', 0, 1023)\n",
      "('Personne non créée, la place est occupée', 713, 815)\n",
      "('Création de la personne qui part de', 782, 928, 'pour aller à', 1023, 1023)\n",
      "('Création de la personne qui part de', 795, 483, 'pour aller à', 0, 0)\n",
      "('Création de la personne qui part de', 176, 272, 'pour aller à', 0, 0)\n",
      "('Création de la personne qui part de', 320, 722, 'pour aller à', 0, 0)\n",
      "('Création de la personne qui part de', 322, 411, 'pour aller à', 1023, 0)\n",
      "('Création de la personne qui part de', 742, 651, 'pour aller à', 1023, 0)\n",
      "('Création de la personne qui part de', 1016, 894, 'pour aller à', 1023, 0)\n",
      "('Création de la personne qui part de', 882, 673, 'pour aller à', 1023, 0)\n",
      "('Création de la personne qui part de', 519, 354, 'pour aller à', 1023, 0)\n",
      "('Création de la personne qui part de', 278, 957, 'pour aller à', 1023, 1023)\n",
      "('Création de la personne qui part de', 889, 939, 'pour aller à', 1023, 1023)\n",
      "('Création de la personne qui part de', 771, 551, 'pour aller à', 0, 1023)\n",
      "('Création de la personne qui part de', 549, 174, 'pour aller à', 0, 0)\n",
      "('Création de la personne qui part de', 223, 874, 'pour aller à', 1023, 0)\n",
      "('Création de la personne qui part de', 112, 683, 'pour aller à', 1023, 1023)\n",
      "('Création de la personne qui part de', 434, 1019, 'pour aller à', 0, 0)\n",
      "('Création de la personne qui part de', 520, 408, 'pour aller à', 1023, 1023)\n",
      "('Personne non créée, la place est occupée', 269, 284)\n",
      "('Création de la personne qui part de', 263, 904, 'pour aller à', 1023, 0)\n",
      "('Création de la personne qui part de', 321, 133, 'pour aller à', 0, 1023)\n",
      "('Création de la personne qui part de', 883, 877, 'pour aller à', 1023, 0)\n",
      "('Création de la personne qui part de', 22, 340, 'pour aller à', 1023, 0)\n",
      "('Création de la personne qui part de', 646, 1002, 'pour aller à', 0, 1023)\n",
      "('Création de la personne qui part de', 665, 680, 'pour aller à', 0, 1023)\n",
      "('Création de la personne qui part de', 552, 10, 'pour aller à', 1023, 1023)\n",
      "('Création de la personne qui part de', 398, 111, 'pour aller à', 1023, 0)\n",
      "('Création de la personne qui part de', 342, 919, 'pour aller à', 1023, 1023)\n",
      "('Création de la personne qui part de', 129, 339, 'pour aller à', 0, 1023)\n",
      "('Création de la personne qui part de', 785, 327, 'pour aller à', 1023, 0)\n",
      "('Création de la personne qui part de', 926, 264, 'pour aller à', 0, 1023)\n",
      "('Création de la personne qui part de', 261, 170, 'pour aller à', 0, 0)\n",
      "('Création de la personne qui part de', 153, 837, 'pour aller à', 1023, 1023)\n",
      "('Création de la personne qui part de', 587, 75, 'pour aller à', 0, 1023)\n",
      "('Création de la personne qui part de', 708, 995, 'pour aller à', 0, 1023)\n",
      "('Création de la personne qui part de', 522, 423, 'pour aller à', 0, 1023)\n",
      "('Création de la personne qui part de', 776, 630, 'pour aller à', 1023, 0)\n",
      "('Création de la personne qui part de', 939, 605, 'pour aller à', 0, 0)\n",
      "('Création de la personne qui part de', 678, 52, 'pour aller à', 1023, 1023)\n",
      "('Création de la personne qui part de', 636, 446, 'pour aller à', 1023, 0)\n",
      "('Création de la personne qui part de', 333, 35, 'pour aller à', 1023, 0)\n",
      "('Création de la personne qui part de', 99, 858, 'pour aller à', 0, 1023)\n",
      "('Création de la personne qui part de', 353, 287, 'pour aller à', 1023, 1023)\n",
      "('Création de la personne qui part de', 442, 914, 'pour aller à', 0, 0)\n",
      "('Création de la personne qui part de', 99, 942, 'pour aller à', 1023, 1023)\n",
      "('Création de la personne qui part de', 101, 380, 'pour aller à', 1023, 0)\n",
      "('Création de la personne qui part de', 609, 272, 'pour aller à', 0, 0)\n",
      "('Création de la personne qui part de', 980, 573, 'pour aller à', 0, 1023)\n",
      "('Création de la personne qui part de', 150, 659, 'pour aller à', 0, 1023)\n",
      "('Création de la personne qui part de', 1006, 1018, 'pour aller à', 1023, 0)\n",
      "('Création de la personne qui part de', 804, 146, 'pour aller à', 1023, 0)\n",
      "('Création de la personne qui part de', 973, 908, 'pour aller à', 0, 0)\n",
      "('Personne non créée, la place est occupée', 226, 537)\n",
      "('Création de la personne qui part de', 153, 705, 'pour aller à', 0, 0)\n",
      "('Création de la personne qui part de', 473, 953, 'pour aller à', 0, 0)\n",
      "('Création de la personne qui part de', 209, 142, 'pour aller à', 1023, 0)\n",
      "('Création de la personne qui part de', 280, 713, 'pour aller à', 1023, 0)\n",
      "('Création de la personne qui part de', 850, 482, 'pour aller à', 0, 0)\n",
      "('Création de la personne qui part de', 551, 444, 'pour aller à', 1023, 0)\n",
      "('Création de la personne qui part de', 319, 416, 'pour aller à', 0, 1023)\n",
      "('Création de la personne qui part de', 442, 437, 'pour aller à', 1023, 1023)\n",
      "('Création de la personne qui part de', 192, 437, 'pour aller à', 0, 0)\n",
      "('Création de la personne qui part de', 999, 280, 'pour aller à', 1023, 1023)\n",
      "('Création de la personne qui part de', 359, 131, 'pour aller à', 1023, 0)\n",
      "('Création de la personne qui part de', 911, 85, 'pour aller à', 0, 0)\n",
      "('Personne non créée, la place est occupée', 710, 893)\n",
      "('Création de la personne qui part de', 806, 281, 'pour aller à', 1023, 0)\n",
      "('Création de la personne qui part de', 708, 592, 'pour aller à', 0, 0)\n",
      "('Création de la personne qui part de', 841, 606, 'pour aller à', 1023, 0)\n",
      "('Création de la personne qui part de', 778, 525, 'pour aller à', 0, 1023)\n",
      "('Création de la personne qui part de', 794, 674, 'pour aller à', 1023, 0)\n",
      "('Création de la personne qui part de', 577, 399, 'pour aller à', 0, 0)\n",
      "('Création de la personne qui part de', 428, 698, 'pour aller à', 0, 0)\n",
      "('Création de la personne qui part de', 546, 235, 'pour aller à', 0, 0)\n",
      "('Création de la personne qui part de', 497, 402, 'pour aller à', 1023, 0)\n",
      "('Création de la personne qui part de', 991, 287, 'pour aller à', 0, 0)\n",
      "('Création de la personne qui part de', 566, 13, 'pour aller à', 1023, 0)\n",
      "('Création de la personne qui part de', 648, 928, 'pour aller à', 1023, 1023)\n",
      "('Création de la personne qui part de', 606, 599, 'pour aller à', 0, 0)\n",
      "('Création de la personne qui part de', 798, 819, 'pour aller à', 0, 1023)\n",
      "('Création de la personne qui part de', 612, 243, 'pour aller à', 0, 1023)\n",
      "('Création de la personne qui part de', 327, 768, 'pour aller à', 0, 0)\n",
      "('Création de la personne qui part de', 278, 773, 'pour aller à', 0, 1023)\n",
      "('Création de la personne qui part de', 266, 633, 'pour aller à', 1023, 0)\n",
      "('Création de la personne qui part de', 43, 652, 'pour aller à', 0, 0)\n",
      "('Création de la personne qui part de', 646, 252, 'pour aller à', 0, 0)\n",
      "('Personne non créée, la place est occupée', 494, 556)\n",
      "('Création de la personne qui part de', 223, 314, 'pour aller à', 0, 1023)\n",
      "('Création de la personne qui part de', 119, 287, 'pour aller à', 0, 0)\n",
      "('Création de la personne qui part de', 173, 421, 'pour aller à', 0, 0)\n",
      "('Création de la personne qui part de', 547, 994, 'pour aller à', 1023, 0)\n",
      "('Création de la personne qui part de', 636, 187, 'pour aller à', 0, 0)\n",
      "('Création de la personne qui part de', 603, 842, 'pour aller à', 1023, 0)\n",
      "('Création de la personne qui part de', 312, 396, 'pour aller à', 1023, 1023)\n",
      "('Création de la personne qui part de', 741, 408, 'pour aller à', 1023, 1023)\n",
      "('Création de la personne qui part de', 115, 17, 'pour aller à', 1023, 1023)\n",
      "('Création de la personne qui part de', 678, 790, 'pour aller à', 0, 0)\n",
      "('Création de la personne qui part de', 778, 737, 'pour aller à', 1023, 1023)\n",
      "('Création de la personne qui part de', 184, 956, 'pour aller à', 0, 1023)\n",
      "('Création de la personne qui part de', 979, 1010, 'pour aller à', 1023, 0)\n",
      "('Création de la personne qui part de', 245, 270, 'pour aller à', 0, 0)\n",
      "('Création de la personne qui part de', 426, 354, 'pour aller à', 0, 0)\n",
      "('Création de la personne qui part de', 87, 660, 'pour aller à', 1023, 1023)\n",
      "('Création de la personne qui part de', 964, 122, 'pour aller à', 0, 1023)\n",
      "('Création de la personne qui part de', 970, 625, 'pour aller à', 0, 1023)\n",
      "('Création de la personne qui part de', 429, 85, 'pour aller à', 0, 1023)\n",
      "('Création de la personne qui part de', 1001, 515, 'pour aller à', 0, 1023)\n",
      "('Création de la personne qui part de', 368, 414, 'pour aller à', 0, 0)\n",
      "('Création de la personne qui part de', 514, 990, 'pour aller à', 0, 0)\n",
      "('Création de la personne qui part de', 971, 534, 'pour aller à', 1023, 0)\n",
      "('Création de la personne qui part de', 882, 306, 'pour aller à', 1023, 0)\n",
      "('Création de la personne qui part de', 392, 574, 'pour aller à', 0, 1023)\n",
      "('Création de la personne qui part de', 251, 802, 'pour aller à', 0, 0)\n",
      "('Création de la personne qui part de', 214, 852, 'pour aller à', 1023, 1023)\n",
      "('Création de la personne qui part de', 346, 538, 'pour aller à', 0, 1023)\n",
      "('Création de la personne qui part de', 148, 256, 'pour aller à', 1023, 1023)\n",
      "('Création de la personne qui part de', 5, 850, 'pour aller à', 1023, 0)\n",
      "('Création de la personne qui part de', 82, 158, 'pour aller à', 0, 0)\n",
      "('Création de la personne qui part de', 255, 241, 'pour aller à', 1023, 0)\n",
      "('Création de la personne qui part de', 673, 94, 'pour aller à', 0, 0)\n",
      "('Création de la personne qui part de', 330, 399, 'pour aller à', 0, 1023)\n",
      "('Création de la personne qui part de', 778, 113, 'pour aller à', 1023, 0)\n",
      "('Création de la personne qui part de', 323, 463, 'pour aller à', 0, 0)\n",
      "('Création de la personne qui part de', 142, 373, 'pour aller à', 1023, 0)\n",
      "('Création de la personne qui part de', 45, 189, 'pour aller à', 1023, 0)\n",
      "('Création de la personne qui part de', 343, 816, 'pour aller à', 0, 0)\n",
      "('Création de la personne qui part de', 659, 841, 'pour aller à', 1023, 0)\n",
      "('Création de la personne qui part de', 550, 613, 'pour aller à', 1023, 1023)\n",
      "('Création de la personne qui part de', 895, 471, 'pour aller à', 1023, 0)\n",
      "('Création de la personne qui part de', 63, 583, 'pour aller à', 1023, 0)\n",
      "('Création de la personne qui part de', 557, 808, 'pour aller à', 1023, 0)\n",
      "('Création de la personne qui part de', 632, 309, 'pour aller à', 0, 0)\n",
      "('Création de la personne qui part de', 817, 609, 'pour aller à', 1023, 0)\n",
      "('Création de la personne qui part de', 879, 103, 'pour aller à', 1023, 0)\n",
      "('Création de la personne qui part de', 339, 123, 'pour aller à', 1023, 0)\n",
      "('Création de la personne qui part de', 540, 494, 'pour aller à', 1023, 0)\n",
      "('Création de la personne qui part de', 221, 249, 'pour aller à', 0, 0)\n",
      "('Création de la personne qui part de', 242, 518, 'pour aller à', 0, 1023)\n",
      "('Création de la personne qui part de', 10, 429, 'pour aller à', 1023, 0)\n",
      "('Création de la personne qui part de', 513, 905, 'pour aller à', 1023, 1023)\n",
      "('Création de la personne qui part de', 37, 966, 'pour aller à', 0, 0)\n",
      "('Création de la personne qui part de', 480, 193, 'pour aller à', 0, 0)\n",
      "('Création de la personne qui part de', 101, 882, 'pour aller à', 1023, 1023)\n",
      "('Création de la personne qui part de', 363, 619, 'pour aller à', 1023, 1023)\n",
      "('Création de la personne qui part de', 868, 844, 'pour aller à', 1023, 1023)\n",
      "('Création de la personne qui part de', 325, 717, 'pour aller à', 1023, 0)\n",
      "('Création de la personne qui part de', 250, 556, 'pour aller à', 1023, 1023)\n",
      "('Création de la personne qui part de', 443, 320, 'pour aller à', 1023, 1023)\n",
      "('Création de la personne qui part de', 973, 919, 'pour aller à', 0, 0)\n",
      "('Création de la personne qui part de', 632, 657, 'pour aller à', 1023, 1023)\n",
      "('Création de la personne qui part de', 96, 629, 'pour aller à', 1023, 1023)\n",
      "('Création de la personne qui part de', 400, 603, 'pour aller à', 0, 1023)\n",
      "('Création de la personne qui part de', 992, 506, 'pour aller à', 1023, 0)\n",
      "('Création de la personne qui part de', 121, 859, 'pour aller à', 1023, 1023)\n",
      "('Création de la personne qui part de', 485, 466, 'pour aller à', 1023, 0)\n",
      "('Création de la personne qui part de', 371, 197, 'pour aller à', 0, 0)\n",
      "('Création de la personne qui part de', 798, 51, 'pour aller à', 0, 0)\n",
      "('Création de la personne qui part de', 441, 229, 'pour aller à', 0, 1023)\n",
      "('Création de la personne qui part de', 322, 972, 'pour aller à', 0, 0)\n",
      "('Création de la personne qui part de', 532, 627, 'pour aller à', 1023, 0)\n",
      "('Création de la personne qui part de', 181, 436, 'pour aller à', 0, 0)\n",
      "('Création de la personne qui part de', 647, 80, 'pour aller à', 0, 1023)\n",
      "('Création de la personne qui part de', 842, 444, 'pour aller à', 1023, 1023)\n",
      "('Création de la personne qui part de', 832, 860, 'pour aller à', 0, 0)\n",
      "('Création de la personne qui part de', 847, 473, 'pour aller à', 0, 0)\n",
      "('Création de la personne qui part de', 15, 611, 'pour aller à', 1023, 1023)\n",
      "('Personne non créée, la place est occupée', 155, 321)\n",
      "('Création de la personne qui part de', 792, 991, 'pour aller à', 1023, 0)\n",
      "('Création de la personne qui part de', 66, 128, 'pour aller à', 0, 1023)\n",
      "('Création de la personne qui part de', 514, 31, 'pour aller à', 0, 0)\n",
      "('Création de la personne qui part de', 1020, 387, 'pour aller à', 1023, 0)\n",
      "('Création de la personne qui part de', 417, 821, 'pour aller à', 1023, 1023)\n",
      "('Création de la personne qui part de', 646, 675, 'pour aller à', 1023, 1023)\n",
      "('Création de la personne qui part de', 830, 345, 'pour aller à', 0, 1023)\n",
      "('Création de la personne qui part de', 380, 820, 'pour aller à', 0, 1023)\n",
      "('Création de la personne qui part de', 1023, 626, 'pour aller à', 0, 0)\n",
      "('Création de la personne qui part de', 116, 818, 'pour aller à', 0, 1023)\n",
      "('Création de la personne qui part de', 741, 467, 'pour aller à', 1023, 0)\n",
      "('Création de la personne qui part de', 769, 13, 'pour aller à', 0, 1023)\n",
      "('Création de la personne qui part de', 818, 650, 'pour aller à', 0, 1023)\n",
      "('Création de la personne qui part de', 43, 767, 'pour aller à', 0, 0)\n",
      "('Personne non créée, la place est occupée', 610, 698)\n",
      "('Création de la personne qui part de', 834, 377, 'pour aller à', 0, 0)\n",
      "('Création de la personne qui part de', 276, 147, 'pour aller à', 1023, 0)\n",
      "('Création de la personne qui part de', 615, 78, 'pour aller à', 1023, 0)\n",
      "('Création de la personne qui part de', 144, 868, 'pour aller à', 1023, 0)\n",
      "('Création de la personne qui part de', 863, 960, 'pour aller à', 0, 1023)\n",
      "('Création de la personne qui part de', 278, 467, 'pour aller à', 0, 1023)\n",
      "('Création de la personne qui part de', 340, 804, 'pour aller à', 1023, 1023)\n",
      "('Création de la personne qui part de', 437, 809, 'pour aller à', 0, 0)\n",
      "('Création de la personne qui part de', 640, 843, 'pour aller à', 1023, 0)\n",
      "('Création de la personne qui part de', 89, 691, 'pour aller à', 1023, 1023)\n",
      "('Création de la personne qui part de', 863, 947, 'pour aller à', 0, 0)\n",
      "('Création de la personne qui part de', 491, 213, 'pour aller à', 1023, 1023)\n",
      "('Création de la personne qui part de', 303, 570, 'pour aller à', 1023, 1023)\n",
      "('Création de la personne qui part de', 939, 916, 'pour aller à', 0, 1023)\n",
      "('Création de la personne qui part de', 755, 608, 'pour aller à', 1023, 0)\n",
      "('Création de la personne qui part de', 880, 360, 'pour aller à', 1023, 0)\n",
      "('Création de la personne qui part de', 103, 157, 'pour aller à', 1023, 0)\n",
      "('Création de la personne qui part de', 172, 30, 'pour aller à', 0, 0)\n",
      "('Création de la personne qui part de', 433, 325, 'pour aller à', 1023, 0)\n",
      "('Création de la personne qui part de', 1006, 496, 'pour aller à', 1023, 1023)\n",
      "('Création de la personne qui part de', 794, 851, 'pour aller à', 1023, 0)\n",
      "('Création de la personne qui part de', 764, 795, 'pour aller à', 1023, 1023)\n",
      "('Création de la personne qui part de', 651, 181, 'pour aller à', 0, 0)\n",
      "('Création de la personne qui part de', 878, 660, 'pour aller à', 1023, 1023)\n",
      "('Création de la personne qui part de', 430, 967, 'pour aller à', 0, 1023)\n",
      "('Création de la personne qui part de', 680, 466, 'pour aller à', 0, 0)\n",
      "('Création de la personne qui part de', 292, 878, 'pour aller à', 1023, 0)\n",
      "('Création de la personne qui part de', 702, 536, 'pour aller à', 1023, 0)\n",
      "('Création de la personne qui part de', 772, 669, 'pour aller à', 0, 1023)\n",
      "('Création de la personne qui part de', 51, 183, 'pour aller à', 0, 0)\n",
      "('Création de la personne qui part de', 529, 648, 'pour aller à', 1023, 0)\n",
      "('Création de la personne qui part de', 515, 55, 'pour aller à', 1023, 0)\n",
      "('Création de la personne qui part de', 755, 99, 'pour aller à', 0, 1023)\n",
      "('Création de la personne qui part de', 333, 965, 'pour aller à', 1023, 1023)\n",
      "('Création de la personne qui part de', 634, 324, 'pour aller à', 1023, 1023)\n",
      "('Création de la personne qui part de', 1001, 778, 'pour aller à', 1023, 1023)\n",
      "('Création de la personne qui part de', 484, 191, 'pour aller à', 1023, 0)\n",
      "('Création de la personne qui part de', 677, 102, 'pour aller à', 0, 0)\n",
      "('Création de la personne qui part de', 655, 991, 'pour aller à', 1023, 1023)\n",
      "('Création de la personne qui part de', 729, 660, 'pour aller à', 1023, 1023)\n",
      "('Création de la personne qui part de', 641, 543, 'pour aller à', 1023, 1023)\n",
      "('Création de la personne qui part de', 904, 507, 'pour aller à', 1023, 1023)\n",
      "('Création de la personne qui part de', 470, 681, 'pour aller à', 0, 0)\n",
      "('Création de la personne qui part de', 135, 1005, 'pour aller à', 1023, 1023)\n",
      "('Création de la personne qui part de', 311, 789, 'pour aller à', 0, 1023)\n",
      "('Création de la personne qui part de', 74, 666, 'pour aller à', 1023, 1023)\n",
      "('Création de la personne qui part de', 819, 779, 'pour aller à', 0, 1023)\n",
      "('Création de la personne qui part de', 378, 482, 'pour aller à', 1023, 0)\n",
      "('Création de la personne qui part de', 760, 837, 'pour aller à', 0, 1023)\n",
      "('Création de la personne qui part de', 986, 402, 'pour aller à', 1023, 1023)\n",
      "('Création de la personne qui part de', 505, 179, 'pour aller à', 1023, 1023)\n",
      "('Création de la personne qui part de', 396, 901, 'pour aller à', 0, 0)\n",
      "('Création de la personne qui part de', 405, 851, 'pour aller à', 1023, 1023)\n",
      "('Création de la personne qui part de', 791, 372, 'pour aller à', 0, 0)\n",
      "('Création de la personne qui part de', 780, 456, 'pour aller à', 1023, 1023)\n",
      "('Création de la personne qui part de', 43, 840, 'pour aller à', 1023, 0)\n",
      "('Création de la personne qui part de', 489, 438, 'pour aller à', 1023, 0)\n",
      "('Création de la personne qui part de', 628, 633, 'pour aller à', 1023, 0)\n",
      "('Personne non créée, la place est occupée', 715, 818)\n",
      "('Création de la personne qui part de', 151, 658, 'pour aller à', 0, 0)\n",
      "('Création de la personne qui part de', 209, 18, 'pour aller à', 0, 0)\n",
      "('Création de la personne qui part de', 981, 444, 'pour aller à', 1023, 0)\n",
      "('Création de la personne qui part de', 468, 363, 'pour aller à', 0, 0)\n",
      "('Création de la personne qui part de', 560, 588, 'pour aller à', 0, 1023)\n",
      "('Création de la personne qui part de', 596, 903, 'pour aller à', 0, 1023)\n",
      "('Création de la personne qui part de', 593, 3, 'pour aller à', 0, 1023)\n",
      "('Création de la personne qui part de', 641, 505, 'pour aller à', 1023, 0)\n",
      "('Création de la personne qui part de', 353, 288, 'pour aller à', 0, 0)\n",
      "('Création de la personne qui part de', 374, 417, 'pour aller à', 1023, 1023)\n",
      "('Création de la personne qui part de', 927, 801, 'pour aller à', 0, 1023)\n",
      "('Création de la personne qui part de', 889, 1009, 'pour aller à', 1023, 1023)\n",
      "('Création de la personne qui part de', 1001, 876, 'pour aller à', 0, 0)\n",
      "('Création de la personne qui part de', 271, 676, 'pour aller à', 1023, 0)\n",
      "('Création de la personne qui part de', 883, 234, 'pour aller à', 0, 1023)\n",
      "('Création de la personne qui part de', 578, 296, 'pour aller à', 0, 0)\n",
      "('Création de la personne qui part de', 685, 193, 'pour aller à', 1023, 0)\n",
      "('Création de la personne qui part de', 281, 750, 'pour aller à', 1023, 0)\n",
      "('Création de la personne qui part de', 179, 120, 'pour aller à', 0, 1023)\n",
      "('Création de la personne qui part de', 20, 131, 'pour aller à', 0, 0)\n",
      "('Création de la personne qui part de', 55, 809, 'pour aller à', 0, 0)\n",
      "('Création de la personne qui part de', 469, 420, 'pour aller à', 0, 1023)\n",
      "('Création de la personne qui part de', 665, 67, 'pour aller à', 1023, 1023)\n",
      "('Création de la personne qui part de', 788, 562, 'pour aller à', 1023, 1023)\n",
      "('Création de la personne qui part de', 181, 417, 'pour aller à', 0, 1023)\n",
      "('Création de la personne qui part de', 487, 721, 'pour aller à', 0, 0)\n",
      "('Création de la personne qui part de', 47, 887, 'pour aller à', 0, 1023)\n",
      "('Création de la personne qui part de', 767, 391, 'pour aller à', 1023, 1023)\n",
      "('Création de la personne qui part de', 685, 794, 'pour aller à', 1023, 0)\n",
      "('Création de la personne qui part de', 780, 277, 'pour aller à', 0, 1023)\n",
      "('Création de la personne qui part de', 890, 194, 'pour aller à', 0, 1023)\n",
      "('Création de la personne qui part de', 454, 963, 'pour aller à', 0, 1023)\n",
      "('Création de la personne qui part de', 747, 820, 'pour aller à', 0, 1023)\n",
      "('Création de la personne qui part de', 366, 118, 'pour aller à', 1023, 0)\n",
      "('Création de la personne qui part de', 988, 135, 'pour aller à', 1023, 0)\n",
      "('Création de la personne qui part de', 457, 153, 'pour aller à', 1023, 1023)\n",
      "('Création de la personne qui part de', 414, 12, 'pour aller à', 0, 0)\n",
      "('Création de la personne qui part de', 686, 627, 'pour aller à', 0, 1023)\n",
      "('Création de la personne qui part de', 580, 11, 'pour aller à', 0, 0)\n",
      "('Création de la personne qui part de', 699, 261, 'pour aller à', 0, 0)\n",
      "('Création de la personne qui part de', 315, 704, 'pour aller à', 0, 0)\n",
      "('Création de la personne qui part de', 849, 975, 'pour aller à', 0, 0)\n",
      "('Création de la personne qui part de', 654, 994, 'pour aller à', 0, 0)\n",
      "('Création de la personne qui part de', 1018, 567, 'pour aller à', 0, 1023)\n",
      "('Création de la personne qui part de', 940, 338, 'pour aller à', 1023, 0)\n",
      "('Création de la personne qui part de', 220, 345, 'pour aller à', 1023, 0)\n",
      "('Création de la personne qui part de', 556, 250, 'pour aller à', 1023, 1023)\n",
      "('Création de la personne qui part de', 657, 35, 'pour aller à', 0, 1023)\n",
      "('Création de la personne qui part de', 495, 841, 'pour aller à', 0, 0)\n",
      "('Création de la personne qui part de', 506, 753, 'pour aller à', 1023, 1023)\n",
      "('Création de la personne qui part de', 641, 116, 'pour aller à', 1023, 1023)\n",
      "('Création de la personne qui part de', 852, 742, 'pour aller à', 0, 0)\n",
      "('Création de la personne qui part de', 940, 904, 'pour aller à', 0, 0)\n",
      "('Création de la personne qui part de', 484, 75, 'pour aller à', 1023, 1023)\n",
      "('Création de la personne qui part de', 575, 496, 'pour aller à', 0, 1023)\n",
      "('Création de la personne qui part de', 718, 481, 'pour aller à', 0, 1023)\n",
      "('Création de la personne qui part de', 99, 934, 'pour aller à', 0, 0)\n",
      "('Création de la personne qui part de', 588, 996, 'pour aller à', 1023, 1023)\n",
      "('Création de la personne qui part de', 450, 169, 'pour aller à', 0, 1023)\n",
      "('Création de la personne qui part de', 568, 852, 'pour aller à', 1023, 0)\n",
      "('Création de la personne qui part de', 57, 853, 'pour aller à', 1023, 0)\n",
      "('Création de la personne qui part de', 872, 300, 'pour aller à', 0, 1023)\n",
      "('Création de la personne qui part de', 857, 916, 'pour aller à', 1023, 0)\n",
      "('Création de la personne qui part de', 409, 249, 'pour aller à', 1023, 1023)\n",
      "('Création de la personne qui part de', 57, 799, 'pour aller à', 0, 0)\n",
      "('Création de la personne qui part de', 764, 289, 'pour aller à', 0, 1023)\n",
      "('Création de la personne qui part de', 346, 334, 'pour aller à', 0, 1023)\n",
      "('Création de la personne qui part de', 889, 456, 'pour aller à', 1023, 1023)\n",
      "('Création de la personne qui part de', 118, 846, 'pour aller à', 0, 1023)\n",
      "('Création de la personne qui part de', 666, 791, 'pour aller à', 0, 1023)\n",
      "('Création de la personne qui part de', 921, 965, 'pour aller à', 1023, 0)\n",
      "('Création de la personne qui part de', 152, 563, 'pour aller à', 0, 0)\n",
      "('Création de la personne qui part de', 25, 830, 'pour aller à', 0, 0)\n",
      "('Création de la personne qui part de', 353, 988, 'pour aller à', 1023, 1023)\n",
      "('Création de la personne qui part de', 742, 915, 'pour aller à', 1023, 1023)\n",
      "('Création de la personne qui part de', 273, 362, 'pour aller à', 1023, 1023)\n",
      "('Création de la personne qui part de', 864, 274, 'pour aller à', 1023, 1023)\n",
      "('Création de la personne qui part de', 948, 858, 'pour aller à', 1023, 1023)\n",
      "('Création de la personne qui part de', 878, 102, 'pour aller à', 1023, 0)\n",
      "('Création de la personne qui part de', 312, 40, 'pour aller à', 0, 0)\n",
      "('Création de la personne qui part de', 222, 432, 'pour aller à', 1023, 1023)\n",
      "('Création de la personne qui part de', 11, 837, 'pour aller à', 1023, 0)\n",
      "('Création de la personne qui part de', 54, 717, 'pour aller à', 0, 1023)\n",
      "('Création de la personne qui part de', 901, 621, 'pour aller à', 1023, 1023)\n",
      "('Création de la personne qui part de', 841, 707, 'pour aller à', 0, 0)\n",
      "('Création de la personne qui part de', 824, 124, 'pour aller à', 1023, 0)\n",
      "('Création de la personne qui part de', 987, 480, 'pour aller à', 0, 0)\n",
      "('Création de la personne qui part de', 169, 614, 'pour aller à', 0, 0)\n",
      "('Création de la personne qui part de', 812, 603, 'pour aller à', 1023, 1023)\n",
      "('Création de la personne qui part de', 543, 364, 'pour aller à', 0, 0)\n",
      "('Création de la personne qui part de', 41, 301, 'pour aller à', 0, 0)\n",
      "('Création de la personne qui part de', 293, 512, 'pour aller à', 1023, 1023)\n",
      "('Création de la personne qui part de', 814, 722, 'pour aller à', 1023, 0)\n",
      "('Création de la personne qui part de', 193, 953, 'pour aller à', 1023, 0)\n",
      "('Création de la personne qui part de', 1007, 357, 'pour aller à', 0, 0)\n",
      "('Création de la personne qui part de', 587, 801, 'pour aller à', 0, 1023)\n",
      "('Création de la personne qui part de', 13, 826, 'pour aller à', 1023, 0)\n",
      "('Création de la personne qui part de', 966, 438, 'pour aller à', 0, 1023)\n",
      "('Création de la personne qui part de', 542, 785, 'pour aller à', 1023, 1023)\n",
      "('Création de la personne qui part de', 1022, 532, 'pour aller à', 0, 0)\n",
      "('Création de la personne qui part de', 592, 888, 'pour aller à', 0, 1023)\n",
      "('Création de la personne qui part de', 839, 600, 'pour aller à', 0, 0)\n",
      "('Création de la personne qui part de', 894, 226, 'pour aller à', 1023, 0)\n",
      "('Création de la personne qui part de', 909, 948, 'pour aller à', 0, 1023)\n",
      "('Création de la personne qui part de', 961, 324, 'pour aller à', 0, 1023)\n",
      "('Création de la personne qui part de', 874, 433, 'pour aller à', 0, 0)\n",
      "('Création de la personne qui part de', 803, 349, 'pour aller à', 1023, 0)\n",
      "('Création de la personne qui part de', 342, 520, 'pour aller à', 1023, 0)\n",
      "('Création de la personne qui part de', 783, 753, 'pour aller à', 0, 0)\n",
      "('Création de la personne qui part de', 369, 962, 'pour aller à', 0, 0)\n",
      "('Création de la personne qui part de', 612, 236, 'pour aller à', 1023, 0)\n",
      "('Création de la personne qui part de', 837, 681, 'pour aller à', 0, 0)\n",
      "('Création de la personne qui part de', 374, 112, 'pour aller à', 0, 1023)\n",
      "('Création de la personne qui part de', 230, 190, 'pour aller à', 0, 0)\n",
      "('Création de la personne qui part de', 620, 169, 'pour aller à', 0, 1023)\n",
      "('Création de la personne qui part de', 869, 55, 'pour aller à', 0, 1023)\n",
      "('Création de la personne qui part de', 252, 366, 'pour aller à', 0, 1023)\n",
      "('Création de la personne qui part de', 428, 385, 'pour aller à', 1023, 0)\n",
      "('Création de la personne qui part de', 970, 444, 'pour aller à', 0, 0)\n",
      "('Création de la personne qui part de', 422, 944, 'pour aller à', 1023, 0)\n",
      "('Création de la personne qui part de', 786, 24, 'pour aller à', 0, 1023)\n",
      "('Création de la personne qui part de', 68, 791, 'pour aller à', 1023, 1023)\n",
      "('Création de la personne qui part de', 636, 445, 'pour aller à', 1023, 1023)\n",
      "(1024, 'personnes ont été créées')\n"
     ]
    }
   ],
   "source": [
    "# La grille contient 2^10 personnes\n",
    "nb_person = np.power(2,10)\n",
    "\n",
    "coordonnee = np.zeros((2,1), dtype=np.int)\n",
    "sortie = np.zeros((2,1), dtype=np.int)\n",
    "while len(grid.personneList)<nb_person:\n",
    "    coordonnee[0] = np.random.randint(1,X)\n",
    "    coordonnee[1] = np.random.randint(1,Y)\n",
    "    sortie[0] = (X-1)*np.random.randint(2)\n",
    "    sortie[1] = (Y-1)*np.random.randint(2)\n",
    "    Personne(grid, int(coordonnee[0]), int(coordonnee[1]), int(sortie[0]), int(sortie[1]), debug)\n",
    "    \n",
    "debug.affiche(len(grid.personneList), \"personnes ont été créées\")"
   ]
  },
  {
   "cell_type": "code",
   "execution_count": 32,
   "metadata": {
    "pycharm": {
     "is_executing": false
    }
   },
   "outputs": [],
   "source": [
    "# Sauvegarde de l'objet grille\n",
    "grid.Save(grande_grille)"
   ]
  },
  {
   "cell_type": "code",
   "execution_count": 33,
   "metadata": {
    "pycharm": {
     "is_executing": false
    }
   },
   "outputs": [],
   "source": [
    "# Affichage de la grille créée\n",
    "if UI==affichage.OpenCV:\n",
    "    cv2.imshow(\"img\", createImage(grid.map))\n",
    "    cv2.waitKey(5000) # Affichage pendant 5 secondes\n",
    "    cv2.destroyAllWindows()"
   ]
  },
  {
   "cell_type": "markdown",
   "metadata": {},
   "source": [
    "## Solution itérative\n",
    "\n",
    "Chaque personne doit rejoindre sa case de sortie. Le code est fourni à titre d'exemple. Il est malheureusement incomplet car si une personne ne peut pas rejoindre sa case de sortie alors la simulation ne s'arrête pas.\n",
    "\n",
    "Si vous avez besoin de modifier les classes proposées. Il suffit de construire par héritage la nouvelle classe qui doit porter le même nom que la classe parente suffixé par \\_1 ou \\_2 ou \\_3 selon l'étape du projet, et de surcharger les méthodes qui doivent l'être.\n",
    "\n",
    "Les cellules suivantes donnent des exemples d'utilisation des primitives précédemment écrites."
   ]
  },
  {
   "cell_type": "markdown",
   "metadata": {},
   "source": [
    "### Avec trace mais sans visualisation"
   ]
  },
  {
   "cell_type": "code",
   "execution_count": 34,
   "metadata": {
    "ExecuteTime": {
     "end_time": "2020-09-09T14:57:23.812307Z",
     "start_time": "2020-09-09T14:57:23.802324Z"
    },
    "pycharm": {
     "is_executing": false
    }
   },
   "outputs": [
    {
     "name": "stdout",
     "output_type": "stream",
     "text": [
      "('Ouverture du fichier', 'maps/map-initial.txt')\n",
      "('Simulation pour une grille:', 10, '*', 10)\n",
      "(\"Initilisation de l'objet grille\",)\n",
      "('obstacle non créé', ['-1', '-1', '-1', '-1'])\n",
      "(\"Création de l'obstacle (\", 1, 1, ') - (', 2, 7, ')')\n",
      "(\"Création de l'obstacle (\", 1, 7, ') - (', 8, 8, ')')\n",
      "(2, 'obstacles ont été créés')\n",
      "('Création de la personne qui part de', 2, 2, 'pour aller à', 0, 0)\n",
      "(1, 'personnes ont été créées')\n",
      "********************\n",
      "Début de la simulation\n",
      "('La personne (', 2, 2, ') peut se déplacer sur :', [(3, 2, 1)])\n",
      "('Déplacement de la personne de (', 2, 2, ') à (', 2, 1, ')')\n",
      "('La personne (', 2, 1, ') peut se déplacer sur :', [(2, 1, 1), (2, 2, 0)])\n",
      "('Déplacement de la personne de (', 2, 1, ') à (', 1, 1, ')')\n",
      "('La personne (', 1, 1, ') peut se déplacer sur :', [(1, 0, 1), (1, 1, 0)])\n",
      "('Déplacement de la personne de (', 1, 1, ') à (', 0, 1, ')')\n",
      "('La personne (', 0, 1, ') peut se déplacer sur :', [(0, 0, 0)])\n",
      "('Déplacement de la personne de (', 0, 1, ') à (', 0, 0, ')')\n",
      "('Une personne vient de sortir, il reste', 0, 'personnes')\n"
     ]
    }
   ],
   "source": [
    "# En mode debug avec 1 personne, sans UI\n",
    "debug = Debug(True)\n",
    "\n",
    "file = open_file(petite_grille, debug)  # On ouvre le fichier\n",
    "X, Y = read_grid_size(file, debug) # On lit la taille\n",
    "grid = Grille(X, Y, affichage.Aucun, debug)     # On créée l'objet grille\n",
    "read_obstacles(file, grid, Obstacle, debug)  # On lit et positionne les obstacles\n",
    "read_personnes(file, grid, Personne, 1, debug) # On lit et positionne une seule personne\n",
    "print(\"*\"*20)\n",
    "print(\"Début de la simulation\")\n",
    "grid.Simulation()"
   ]
  },
  {
   "cell_type": "markdown",
   "metadata": {},
   "source": [
    "### Visualisation de chacune des itérations avec Matplotlib"
   ]
  },
  {
   "cell_type": "code",
   "execution_count": 35,
   "metadata": {
    "ExecuteTime": {
     "end_time": "2020-09-09T14:49:25.241960Z",
     "start_time": "2020-09-09T14:49:24.715633Z"
    },
    "pycharm": {
     "is_executing": false
    },
    "scrolled": true
   },
   "outputs": [
    {
     "data": {
      "image/png": "[encoded data removed]",
      "text/plain": [
       "<Figure size 432x288 with 1 Axes>"
      ]
     },
     "metadata": {
      "needs_background": "light"
     },
     "output_type": "display_data"
    },
    {
     "data": {
      "image/png": "[encoded data removed]",
      "text/plain": [
       "<Figure size 432x288 with 1 Axes>"
      ]
     },
     "metadata": {
      "needs_background": "light"
     },
     "output_type": "display_data"
    },
    {
     "data": {
      "image/png": "[encoded data removed]",
      "text/plain": [
       "<Figure size 432x288 with 1 Axes>"
      ]
     },
     "metadata": {
      "needs_background": "light"
     },
     "output_type": "display_data"
    },
    {
     "data": {
      "image/png": "[encoded data removed]",
      "text/plain": [
       "<Figure size 432x288 with 1 Axes>"
      ]
     },
     "metadata": {
      "needs_background": "light"
     },
     "output_type": "display_data"
    },
    {
     "data": {
      "image/png": "[encoded data removed]",
      "text/plain": [
       "<Figure size 432x288 with 1 Axes>"
      ]
     },
     "metadata": {
      "needs_background": "light"
     },
     "output_type": "display_data"
    },
    {
     "data": {
      "image/png": "[encoded data removed]",
      "text/plain": [
       "<Figure size 432x288 with 1 Axes>"
      ]
     },
     "metadata": {
      "needs_background": "light"
     },
     "output_type": "display_data"
    }
   ],
   "source": [
    "for img in grid.mapList:\n",
    "    plt.imshow(img, cmap='Paired', vmin=0, vmax=5)\n",
    "    plt.show()"
   ]
  },
  {
   "cell_type": "markdown",
   "metadata": {},
   "source": [
    "### Visualisation de chacune des itérations avec OpenCV"
   ]
  },
  {
   "cell_type": "code",
   "execution_count": 36,
   "metadata": {
    "ExecuteTime": {
     "end_time": "2020-09-09T14:49:37.845993Z",
     "start_time": "2020-09-09T14:49:25.860666Z"
    },
    "pycharm": {
     "is_executing": false
    }
   },
   "outputs": [],
   "source": [
    "if UI==affichage.OpenCV:\n",
    "    for image in grid.mapList:\n",
    "        cv2.imshow(\"img\", createImage(image))\n",
    "        cv2.waitKey(500) # Wait for 0.5 second\n",
    "    cv2.destroyAllWindows()"
   ]
  },
  {
   "cell_type": "markdown",
   "metadata": {},
   "source": [
    "### Sans trace mais avec visualisation"
   ]
  },
  {
   "cell_type": "code",
   "execution_count": 37,
   "metadata": {
    "ExecuteTime": {
     "end_time": "2020-09-09T14:49:49.836016Z",
     "start_time": "2020-09-09T14:49:37.849761Z"
    },
    "pycharm": {
     "is_executing": false
    }
   },
   "outputs": [],
   "source": [
    "# En mode sans trace avec 1 personne mais avec UI\n",
    "if UI==affichage.OpenCV:\n",
    "    debug = Debug(False)\n",
    "    file = open_file(petite_grille, debug)  # On ouvre le fichier\n",
    "    X, Y = read_grid_size(file, debug) # On lit la taille\n",
    "    grid = Grille(X, Y, affichage.OpenCV, debug)     # On créée l'objet grille\n",
    "    read_obstacles(file, grid, Obstacle, debug)  # On lit et positionne les obstacles\n",
    "    read_personnes(file, grid, Personne, 1, debug) # On lit et positionne une seule personne\n",
    "    grid.Simulation()"
   ]
  },
  {
   "cell_type": "markdown",
   "metadata": {},
   "source": [
    "## Notre travail\n",
    "\n",
    "Mettre en oeuvre plusieurs version du simulateur :\n",
    "1. Version itérative : un seul flot d'exécution. Celui-ci est presque terminé, il faut reste à trouver une manière la plus judicieuse possible pour résoudre le problème des personnes bloquées par un obsatacle sans modifier le comportement d'une personne.\n",
    "1. Version un flot d'exécution par personne. Attention a bien protéger par une section critique tout accès à une ressource concurrente que ce soit une trace d'exécution en mode debug ou une ressource partagée. On fera attention a reduire dans la mesure du possible la portée d'une section critique\n",
    "1. Version un flot d'exécution pour un quard de la grille. Une personne de coordonnée X, Y sera gérée par le flot d'exécution numéro $i = 2* (Y//(Ymax//2)) + X//(Xmax//2)$.\n",
    "\n",
    "Vous construirez ces différentes versions en créant si nécessaire des sous-classes aux classes existantes.\n",
    "\n"
   ]
  },
  {
   "cell_type": "markdown",
   "metadata": {
    "ExecuteTime": {
     "end_time": "2020-09-01T14:38:38.843007Z",
     "start_time": "2020-09-01T14:38:19.214514Z"
    },
    "scrolled": true
   },
   "source": [
    "Bien évidemment, on attend une étude comparative des différentes approches. Pour vous aider dans l'analyse des solutions qui doivent être décrites vous utiliserez un nombre variable de personnes. Pour cela, vous adapterez le code suivant afin de pouvoir mesurer l'évolution du temps d'exécution en fonction du nombre de personnes présentes sur la grille et comparer les temps d'exécution entre les scénarios\n",
    "<code>\n",
    "debug = Debug(False)\n",
    "\n",
    "duration_i = []  # i est le numéro du scénario\n",
    "nb_personnes = []\n",
    "for i in range(11):\n",
    "    nb_personnes += [np.power(2, i)]\n",
    "    print(\"*\"*30)\n",
    "    print(\"pour\", nb_personnes[-1], \"personnes\")\n",
    "\n",
    "    file = open_file(grande_grille, debug)  # On ouvre le fichier\n",
    "    X, Y = read_grid_size(file, debug) # On lit la taille\n",
    "    debug.affiche(\"simulation pour une grille:\", X, Y)\n",
    "    grid = Grille(X, Y, debug)     # On créée l'objet grille\n",
    "    read_obstacles(file, grid, Obstacle, debug)  # On lit et positionne les obstacles\n",
    "    read_personnes(file, grid, Personne, nb_personnes[-1], debug) # On lit et positionne le nombre de personne souhaité seule personne\n",
    "    debug.affiche(\"nbre de personnes\", len(grid.personneList))\n",
    "    \n",
    "    start = time.time()\n",
    "    grid.Simulation(debug)\n",
    "    end = time.time()\n",
    "    duration_i += [end-start]\n",
    "    print(\"La simulation a duré\", duration1[-1], \"secondes\")\n",
    "    print(\"Il restait\", XXXXX, \"personnes immobiles\")<code>"
   ]
  },
  {
   "cell_type": "markdown",
   "metadata": {},
   "source": [
    "Vous ferez un plot de l'évolution des temps d'exécution\n",
    "<code>\n",
    "plt.plot(nb_personnes, duration_1, label=\"Une seule thread\")\n",
    "plt.plot(nb_personnes, duration_2, label=\"Une thread par personne\")\n",
    "plt.plot(nb_personnes, duration_2, label=\"Une thread par quard de terrain\")\n",
    "plt.xlabel(\"nombre de personnes\")\n",
    "plt.ylabel(\"temps en secondes\")\n",
    "plt.legend()\n",
    "plt.show()<code>"
   ]
  },
  {
   "cell_type": "markdown",
   "metadata": {
    "ExecuteTime": {
     "end_time": "2020-09-01T15:08:57.408399Z",
     "start_time": "2020-09-01T15:08:57.304373Z"
    },
    "scrolled": true
   },
   "source": [
    "Vous calculerez les ratios entre les scénarios\n",
    "<code>\n",
    "ratio_2 = []\n",
    "ratio_3 = []\n",
    "for i,j,k in zip(duration_1, duration_2, duration_3):\n",
    "    ratio_2 += [j/i]\n",
    "    ratio_3 += [k/i]\n",
    "plt.plot(nb_personnes, ratio_2, label=\"...\")\n",
    "plt.plot(nb_personnes, ratio_3, label=\"...\")\n",
    "plt.xlabel(\"nombre de personnes\")\n",
    "plt.ylabel(\"...\")\n",
    "plt.legend()\n",
    "plt.show()<code>"
   ]
  },
  {
   "cell_type": "markdown",
   "metadata": {
    "ExecuteTime": {
     "end_time": "2020-09-09T14:49:56.668475Z",
     "start_time": "2020-09-09T14:49:56.663438Z"
    }
   },
   "source": [
    "Vous calculerez aussi le speedup (inverse du ratio précédent) et ferez un plot de celui-ci"
   ]
  },
  {
   "cell_type": "code",
   "execution_count": 38,
   "metadata": {},
   "outputs": [],
   "source": [
    "NB_OF_THREADS = 11"
   ]
  },
  {
   "cell_type": "code",
   "execution_count": 39,
   "metadata": {
    "pycharm": {
     "is_executing": false,
     "name": "#%%\n"
    }
   },
   "outputs": [],
   "source": [
    "run_scenar1 = True\n",
    "run_scenar2 = True\n",
    "run_scenar3 = True\n"
   ]
  },
  {
   "cell_type": "markdown",
   "metadata": {},
   "source": [
    "## Scénario 1 - version itérative"
   ]
  },
  {
   "cell_type": "code",
   "execution_count": 40,
   "metadata": {
    "pycharm": {
     "is_executing": false
    }
   },
   "outputs": [],
   "source": [
    "class Grille_1(Grille):\n",
    "    waitersCount = 0\n",
    "    \n",
    "    # Crée un objet list\n",
    "    def __init__(self, Xmax, Ymax, UI, debug):\n",
    "        Grille.__init__(self, Xmax, Ymax, UI, debug)\n",
    "    \n",
    "    def Simulation(self):\n",
    "        if self.debug.debug or self.UI==affichage.OpenCV:\n",
    "            self.mapList.append(copy.copy(self.map))\n",
    "        if self.UI==affichage.OpenCV:\n",
    "            cv2.imshow(\"img\", createImage(self.map))\n",
    "            cv2.waitKey(500)\n",
    "            \n",
    "        moveMade = True\n",
    "        while moveMade : # il y a encore une personne dans la liste qui peut bouger\n",
    "            moveMade = False;\n",
    "            self.waitersCount = 0\n",
    "            for personne in self.personneList:\n",
    "                end, immobile = personne.deplacePersonne(self, self.debug)\n",
    "                if immobile==False:\n",
    "                    moveMade = True\n",
    "                else :\n",
    "                    self.waitersCount+=1\n",
    "                if end:\n",
    "                    self.debug.affiche(\"Une personne vient de sortir, il reste\", len(self.personneList), \"personnes\")\n",
    "            if self.debug.debug or self.UI==affichage.OpenCV:\n",
    "                self.mapList.append(copy.copy(self.map))\n",
    "                if self.UI==affichage.OpenCV:\n",
    "                    cv2.imshow(\"img\", createImage(self.map))\n",
    "                    cv2.waitKey(500)\n",
    "    \n",
    "        if self.UI==affichage.OpenCV:\n",
    "            cv2.destroyAllWindows()"
   ]
  },
  {
   "cell_type": "code",
   "execution_count": 43,
   "metadata": {
    "pycharm": {
     "is_executing": false
    }
   },
   "outputs": [
    {
     "name": "stdout",
     "output_type": "stream",
     "text": [
      "******************************\n",
      "pour 1 personnes\n",
      "La simulation a duré 0.028034448623657227 secondes\n",
      "Il restait 0 personnes immobiles\n",
      "******************************\n",
      "pour 2 personnes\n",
      "La simulation a duré 0.06799864768981934 secondes\n",
      "Il restait 0 personnes immobiles\n",
      "******************************\n",
      "pour 4 personnes\n",
      "La simulation a duré 0.13717007637023926 secondes\n",
      "Il restait 0 personnes immobiles\n",
      "******************************\n",
      "pour 8 personnes\n",
      "La simulation a duré 0.2169637680053711 secondes\n",
      "Il restait 0 personnes immobiles\n",
      "******************************\n",
      "pour 16 personnes\n",
      "La simulation a duré 0.3380401134490967 secondes\n",
      "Il restait 0 personnes immobiles\n",
      "******************************\n",
      "pour 32 personnes\n",
      "La simulation a duré 0.7047438621520996 secondes\n",
      "Il restait 6 personnes immobiles\n",
      "******************************\n",
      "pour 64 personnes\n",
      "La simulation a duré 1.807934045791626 secondes\n",
      "Il restait 29 personnes immobiles\n",
      "******************************\n",
      "pour 128 personnes\n",
      "La simulation a duré 5.089993715286255 secondes\n",
      "Il restait 76 personnes immobiles\n",
      "******************************\n",
      "pour 256 personnes\n",
      "La simulation a duré 8.597490549087524 secondes\n",
      "Il restait 136 personnes immobiles\n",
      "******************************\n",
      "pour 512 personnes\n",
      "La simulation a duré 14.244473695755005 secondes\n",
      "Il restait 417 personnes immobiles\n",
      "******************************\n",
      "pour 1024 personnes\n",
      "La simulation a duré 23.308382749557495 secondes\n",
      "Il restait 878 personnes immobiles\n"
     ]
    },
    {
     "data": {
      "image/png": "[encoded data removed]",
      "text/plain": [
       "<Figure size 432x288 with 1 Axes>"
      ]
     },
     "metadata": {
      "needs_background": "light"
     },
     "output_type": "display_data"
    }
   ],
   "source": [
    "''' plot du temps d'exécution en fonction du nombre de personnes '''\n",
    "if run_scenar1:\n",
    "    debug = Debug(False)\n",
    "    \n",
    "    duration_1 = []  # i est le numéro du scénario\n",
    "    nb_personnes = []\n",
    "    for i in range(NB_OF_THREADS):\n",
    "        nb_personnes += [np.power(2, i)]\n",
    "        print(\"*\"*30)\n",
    "        print(\"pour\", nb_personnes[-1], \"personnes\")\n",
    "    \n",
    "        file = open_file(grande_grille, debug)  # On ouvre le fichier\n",
    "        X, Y = read_grid_size(file, debug) # On lit la taille\n",
    "        debug.affiche(\"simulation pour une grille:\", X, Y)\n",
    "        grid = Grille_1(X, Y,affichage.Aucun, debug)     # On créée l'objet grille\n",
    "        read_obstacles(file, grid, Obstacle, debug)  # On lit et positionne les obstacles\n",
    "        read_personnes(file, grid, Personne, nb_personnes[-1], debug) # On lit et positionne le nombre de personne souhaité seule personne\n",
    "        debug.affiche(\"nbre de personnes\", len(grid.personneList))\n",
    "    \n",
    "        start = time.time()\n",
    "        grid.Simulation()\n",
    "        end = time.time()\n",
    "        duration_1 += [end-start]\n",
    "        print(\"La simulation a duré\", duration_1[-1], \"secondes\")\n",
    "        print(\"Il restait\", grid.waitersCount, \"personnes immobiles\")\n",
    "    \n",
    "    # Vous ferez un plot de l'évolution des temps d'exécution\n",
    "    plt.plot(nb_personnes, duration_1, label=\"Une seule thread\")\n",
    "    #plt.plot(nb_personnes, duration_2, label=\"Une thread par personne\")\n",
    "    #plt.plot(nb_personnes, duration_2, label=\"Une thread par quard de terrain\")\n",
    "    plt.xlabel(\"nombre de personnes\")\n",
    "    plt.ylabel(\"temps en secondes\")\n",
    "    plt.legend()\n",
    "    plt.show()  \n"
   ]
  },
  {
   "cell_type": "markdown",
   "metadata": {},
   "source": [
    "Notre analyse du scénario 1 :\n",
    "\n",
    "Pour ce scénario nous avons proposé une solution qui permet la vérification d'un mouvement effectué durant ce tour. Si tel est le cas, la simulation continue, sinon elle s'arrête. \n",
    "\n",
    "On peut voir sur le graph que le temps d'execution de cette solution augmente de façon approximativement linéaire."
   ]
  },
  {
   "cell_type": "markdown",
   "metadata": {},
   "source": [
    "## Scénario 2 - version 1 thread par personne"
   ]
  },
  {
   "cell_type": "code",
   "execution_count": 44,
   "metadata": {
    "pycharm": {
     "is_executing": false
    }
   },
   "outputs": [],
   "source": [
    "import sys\n",
    "\n",
    "class Grille_2(Grille):\n",
    "    waiters = 0\n",
    "    threads = []\n",
    "    \n",
    "    # Crée un objet list\n",
    "    def __init__(self, Xmax, Ymax, UI, debug):\n",
    "        Grille.__init__(self, Xmax, Ymax, UI, debug)\n",
    "        self.waitersLock = threading.Lock();\n",
    "        self.mapLock = threading.Lock();\n",
    "        self.useAvailable = threading.Condition(self.mapLock)\n",
    "        \n",
    "    def addWaiter(self):\n",
    "        with self.waitersLock :\n",
    "            self.waiters+=1\n",
    "            \n",
    "            # si c'est la dernière personne encore en mouvement, \n",
    "            # arrete la thread courante après avoir\n",
    "            # reveilé les autre en attente pour qu'ils se terminent à leur tour\n",
    "            if self.waiters>=len(self.personneList):\n",
    "                if self.mapLock.locked() :\n",
    "                    self.useAvailable.notifyAll()\n",
    "                sys.exit(1)\n",
    "        \n",
    "    def removeWaiter(self):\n",
    "        with self.waitersLock :\n",
    "            self.waiters-=1\n",
    "    \n",
    "    def removePersonne(self, personne):\n",
    "        with self.waitersLock :\n",
    "            Grille.removePersonne(self, personne)\n",
    "        \n",
    "        \n",
    "    def isCellEmpty(self, x, y):\n",
    "        # les personne ne se considère plus comme des obstacles les unes des autres\n",
    "        return self.Get(x,y)!=const.OBSTACLE\n",
    "    \n",
    "    def Get(self, x, y):\n",
    "        return self.map[x][y]\n",
    "    \n",
    "    def Set(self, x, y, status):\n",
    "        with self.mapLock :\n",
    "            if status == const.EMPTY:\n",
    "                # place est libéré\n",
    "                Grille.Set(self, x, y, status)\n",
    "                self.useAvailable.notifyAll()\n",
    "            else :\n",
    "                if status == const.PERSONNE:\n",
    "                    # une personne convoite une place\n",
    "                    while self.Get(x,y) != const.EMPTY:\n",
    "                        # la place est prise \n",
    "                        # je me met en attente et m'enregistre en tant que tel\n",
    "                        self.addWaiter()\n",
    "                        self.useAvailable.wait()\n",
    "                        self.removeWaiter()\n",
    "                Grille.Set(self, x, y, status)\n",
    "            \n",
    "    # lance la simulation de la personne sur une nouvelle thread\n",
    "    def RunThread(self, personne):\n",
    "        x = threading.Thread(target=self.PersonneSimulation, args=(personne,))\n",
    "        self.threads.append(x)\n",
    "        x.start()\n",
    "            \n",
    "    # simulation d'une seul personne\n",
    "    def PersonneSimulation(self, personne):\n",
    "        self.debug.affiche(\"Une personne vient de se mettre a marcher\")\n",
    "        while(True):\n",
    "            try :\n",
    "                end, immobile = personne.deplacePersonne(self, self.debug)\n",
    "            except Exception as e:\n",
    "                self.debug.affiche(bcolors.BOLD,\"ERROR APPEND HERE\",bcolors.ENDC)\n",
    "                raise e\n",
    "\n",
    "            if immobile:\n",
    "                self.debug.affiche(\"Une personne vient de se bloquer\") # face à un mur\n",
    "                self.addWaiter()\n",
    "                break\n",
    "            if end:\n",
    "                self.debug.affiche(\"Une personne vient de sortir, il reste\", len(self.personneList), \"personnes\")\n",
    "                break\n",
    "\n",
    "\n",
    "    def Simulation(self):\n",
    "        if self.debug.debug or self.UI==affichage.OpenCV:\n",
    "            self.mapList.append(copy.copy(self.map))\n",
    "        if self.UI==affichage.OpenCV:\n",
    "            cv2.imshow(\"img\", createImage(self.map))\n",
    "            cv2.waitKey(500)\n",
    "\n",
    "        # run all thread\n",
    "        personneListCopy = self.personneList.copy()\n",
    "        for personne in personneListCopy:                \n",
    "            self.RunThread(personne)\n",
    "        # wait for all thread\n",
    "        while len(self.threads)>0: \n",
    "            self.threads.pop(0).join()\n",
    "\n",
    "        if self.debug.debug or self.UI==affichage.OpenCV:\n",
    "                self.mapList.append(copy.copy(self.map))\n",
    "                if self.UI==affichage.OpenCV:\n",
    "                    cv2.imshow(\"img\", createImage(self.map))\n",
    "                    cv2.waitKey(500)\n",
    "\n",
    "        if self.UI==affichage.OpenCV:\n",
    "            cv2.destroyAllWindows()"
   ]
  },
  {
   "cell_type": "code",
   "execution_count": 45,
   "metadata": {
    "pycharm": {
     "is_executing": false
    }
   },
   "outputs": [],
   "source": [
    "class Personne_2(Personne):\n",
    "    def __init__(self, grid, Xinit, Yinit, Xsortie, Ysortie, debug):\n",
    "        Personne.__init__(self, grid, Xinit, Yinit, Xsortie, Ysortie, debug)\n",
    "\n",
    "    def Move(self, grid, depl):\n",
    "        # place la personne sur la nouvelle case AVANT de liberer l'ancienne\n",
    "        debug.affiche(\"Déplacement de la personne de (\", self.X, self.Y, \") à (\", depl[1], depl[2], \")\")\n",
    "        grid.Set(depl[1], depl[2], const.PERSONNE)\n",
    "        grid.Set(self.X, self.Y, const.EMPTY)\n",
    "        self.X = depl[1]\n",
    "        self.Y = depl[2]"
   ]
  },
  {
   "cell_type": "code",
   "execution_count": 48,
   "metadata": {
    "pycharm": {
     "is_executing": false
    },
    "scrolled": false
   },
   "outputs": [
    {
     "name": "stdout",
     "output_type": "stream",
     "text": [
      "******************************\n",
      "pour 1 personnes\n",
      "La simulation a duré 0.03300046920776367 secondes\n",
      "Il restait 0 personnes immobiles\n",
      "******************************\n",
      "pour 2 personnes\n",
      "La simulation a duré 0.07700109481811523 secondes\n",
      "Il restait 0 personnes immobiles\n",
      "******************************\n",
      "pour 4 personnes\n",
      "La simulation a duré 0.15702414512634277 secondes\n",
      "Il restait 0 personnes immobiles\n",
      "******************************\n",
      "pour 8 personnes\n",
      "La simulation a duré 0.2492814064025879 secondes\n",
      "Il restait 0 personnes immobiles\n",
      "******************************\n",
      "pour 16 personnes\n",
      "La simulation a duré 0.40693187713623047 secondes\n",
      "Il restait 0 personnes immobiles\n",
      "******************************\n",
      "pour 32 personnes\n",
      "La simulation a duré 1.2166121006011963 secondes\n",
      "Il restait 0 personnes immobiles\n",
      "******************************\n",
      "pour 64 personnes\n",
      "La simulation a duré 3.9540016651153564 secondes\n",
      "Il restait 29 personnes immobiles\n",
      "******************************\n",
      "pour 128 personnes\n",
      "La simulation a duré 8.271004676818848 secondes\n",
      "Il restait 67 personnes immobiles\n",
      "******************************\n",
      "pour 256 personnes\n",
      "La simulation a duré 16.321519374847412 secondes\n",
      "Il restait 133 personnes immobiles\n",
      "******************************\n",
      "pour 512 personnes\n",
      "La simulation a duré 36.01100397109985 secondes\n",
      "Il restait 293 personnes immobiles\n",
      "******************************\n",
      "pour 1024 personnes\n",
      "La simulation a duré 74.00295162200928 secondes\n",
      "Il restait 624 personnes immobiles\n"
     ]
    },
    {
     "data": {
      "image/png": "[encoded data removed]",
      "text/plain": [
       "<Figure size 432x288 with 1 Axes>"
      ]
     },
     "metadata": {
      "needs_background": "light"
     },
     "output_type": "display_data"
    }
   ],
   "source": [
    "if run_scenar2:\n",
    "    ''' plot du temps d'exécution en fonction du nombre de personnes '''\n",
    "    \n",
    "    debug = Debug(False)\n",
    "    \n",
    "    duration_2 = []  # i est le numéro du scénario\n",
    "    nb_personnes = []\n",
    "    for i in range(NB_OF_THREADS):\n",
    "        nb_personnes += [np.power(2, i)]\n",
    "        if nb_personnes[-1] != 8 and False:\n",
    "            continue\n",
    "        print(\"*\"*30)\n",
    "        print(\"pour\", nb_personnes[-1], \"personnes\")\n",
    "    \n",
    "        file = open_file(grande_grille, debug)  # On ouvre le fichier\n",
    "        X, Y = read_grid_size(file, debug) # On lit la taille\n",
    "        debug.affiche(\"simulation pour une grille:\", X, Y)\n",
    "        grid = Grille_2(X, Y,affichage.Aucun, debug)     # On créée l'objet grille\n",
    "        read_obstacles(file, grid, Obstacle, debug)  # On lit et positionne les obstacles\n",
    "        read_personnes(file, grid, Personne_2, nb_personnes[-1], debug) # On lit et positionne le nombre de personne souhaité seule personne\n",
    "        debug.affiche(\"nbre de personnes\", len(grid.personneList))\n",
    "    \n",
    "        start = time.time()\n",
    "        grid.Simulation()\n",
    "        end = time.time()\n",
    "        duration_2 += [end-start]\n",
    "        print(\"La simulation a duré\", duration_2[-1], \"secondes\")\n",
    "        print(\"Il restait\", grid.waiters, \"personnes immobiles\")\n",
    "    \n",
    "    #Vous ferez un plot de l'évolution des temps d'exécution\n",
    "    #plt.plot(nb_personnes, duration_1, label=\"Une seule thread\")\n",
    "    plt.plot(nb_personnes, duration_2, label=\"Une thread par personne\")\n",
    "    #plt.plot(nb_personnes, duration_2, label=\"Une thread par quard de terrain\")\n",
    "    plt.xlabel(\"nombre de personnes\")\n",
    "    plt.ylabel(\"temps en secondes\")\n",
    "    plt.legend()\n",
    "    plt.show()"
   ]
  },
  {
   "cell_type": "markdown",
   "metadata": {},
   "source": [
    "Dans ce scénario nous avons simulé le mouvement d'une foule, en utilisant 1 thread par personne\n",
    "\n",
    "Pour cela nous avons surchargé la classe Grille en Grille_2 et la class Personne en Personne_2.\n",
    "Afin de gérer les différents conflits entre les personnes dû à leurs déplacements parallèles, nous avons transformé la grille en équivalent de monitor. De plus, afin de pouvoir exécuter en parallèles les résonnements et déplacements des personnes, nous avons fait en sorte que les personnes ne se considèrent plus comme obstacle l'un l'autre.\n",
    "Si A rencontre une autre personne B sur la case qu'elle convoite, elle va attendre (avec wait()) tant que la personne B n'a pas bougé. \n",
    "Et ainsi Si B bouge, A pourra se déplacer à son tour sur la case dans laquelle se trouvait B. (à noter que A est réveillé par un notifyAll a chaque déplacement d'une personne).\n",
    "Pendant son temps d'attente, A est compté comme personne en attente.\n",
    "Si A se retrouve être la dernière personne qui était encore en mouvement, elle arrête son exécution et utilise notifyAll(), afin de réveiller les thread en attente, pour qu'ils arrêtent leur exécution à leur tour."
   ]
  },
  {
   "cell_type": "markdown",
   "metadata": {},
   "source": [
    "En conclusion, on peut voir sur le graph que le temps d'exécution de cette solution augmente de façon approximativement linéaire. Cependant, on observe que la version 2 a tendance à être un peu plus efficace pour peu de personnes (nombre de personnes < 32). \n",
    "Néanmoins, pour 1024 personnes, le scénario 2 à un temps d'exécution environ 3 fois plus grand que dans le scénario 1.\n",
    "*(Attention ! Ces affirmations peuvent varier d'une simulation à l'autre)*"
   ]
  },
  {
   "cell_type": "markdown",
   "metadata": {},
   "source": [
    "## Scénario 3 - version 1 thread pour 1/4 de la grille"
   ]
  },
  {
   "cell_type": "code",
   "execution_count": 50,
   "metadata": {
    "pycharm": {
     "is_executing": false
    }
   },
   "outputs": [],
   "source": [
    "class Grille_3(Grille):\n",
    "    waitersCount = 0\n",
    "    nbListByLine = 2\n",
    "\n",
    "    \n",
    "    # Crée un objet list\n",
    "    def __init__(self, Xmax, Ymax, UI, debug):\n",
    "        Grille.__init__(self, Xmax, Ymax, UI, debug)\n",
    "        \n",
    "        self.waitersCounts = []\n",
    "        self.personneLists = []\n",
    "        self.threads = []\n",
    "        self.partLocks = []\n",
    "        self.threadCreationLock = threading.Lock()\n",
    "        self.listAccessLock = threading.Lock()\n",
    "        \n",
    "    def initLists(self):\n",
    "        self.personneLists.clear()\n",
    "        self.partLocks.clear()\n",
    "        self.waitersCounts.clear()\n",
    "        for i in range(0, self.nbListByLine):\n",
    "            for j in range(0, self.nbListByLine):\n",
    "                self.personneLists.append([])  \n",
    "                self.partLocks.append(threading.Lock())\n",
    "                self.waitersCounts.append(0)\n",
    "        for personne in self.personneList:\n",
    "            index = self.getListIndexOf(personne.X, personne.Y)\n",
    "            self.personneLists[index].append(personne)  \n",
    "        \n",
    "    def removePersonne(self,personne):\n",
    "        with self.listAccessLock:\n",
    "            self.personneList.remove(personne) \n",
    "            part = self.getListIndexOf(personne.X,personne.Y)\n",
    "            self.personneLists[part].remove(personne)\n",
    "\n",
    "        \n",
    "    def getListIndexOf(self, x, y):\n",
    "        numCol = min(x//(self.Xmax/self.nbListByLine),self.nbListByLine-1)\n",
    "        numLine = min(y//(self.Ymax/self.nbListByLine),self.nbListByLine-1)\n",
    "        return (int)(numCol+numLine*self.nbListByLine)\n",
    "    \n",
    "    def changeGridPart(self, personne, ancient_index,new_index):\n",
    "        with self.listAccessLock:\n",
    "            self.personneLists[ancient_index].remove(personne)\n",
    "            self.personneLists[new_index].append(personne)\n",
    "        self.runThread(new_index)\n",
    "        \n",
    "        \n",
    "    def SimulationPart(self, part_number):\n",
    "        self.debug.affiche(\"Reprise de la simulation de la partie \", part_number)\n",
    "        moveMade = True\n",
    "        while moveMade : # il y a encore une personne dans la liste qui peut bouger\n",
    "            moveMade = False;\n",
    "            self.waitersCounts[part_number] = 0\n",
    "            with self.listAccessLock:\n",
    "                myList = self.personneLists[part_number].copy()\n",
    "            for personne in myList:\n",
    "                with self.partLocks[part_number]:\n",
    "                    end, immobile = personne.deplacePersonne(self, self.debug)\n",
    "                    if immobile==False:\n",
    "                        moveMade = True\n",
    "                    else :\n",
    "                        self.waitersCounts[part_number]+=1\n",
    "                    if end:\n",
    "                        self.debug.affiche(\"Une personne vient de sortir depuis la zone \",part_number,\", il reste\", len(self.personneList), \"personnes au total et \",len(self.personneLists[part_number]),\"personnes dans cette zone\")\n",
    "        self.debug.affiche(\"Fin de la simulation de la partie \", part_number)\n",
    "    \n",
    "    def runThread(self, part_number):\n",
    "        with self.threadCreationLock:\n",
    "            if self.threads[part_number].is_alive():\n",
    "                return\n",
    "            x = threading.Thread(target=self.SimulationPart, args=(part_number,))\n",
    "            self.threads[part_number] = x\n",
    "            x.start()\n",
    "    \n",
    "    def Simulation(self):\n",
    "        self.initLists()\n",
    "        self.threads.clear()\n",
    "        if self.debug.debug or self.UI==affichage.OpenCV:\n",
    "            self.mapList.append(copy.copy(self.map))\n",
    "        if self.UI==affichage.OpenCV:\n",
    "            cv2.imshow(\"img\", createImage(self.map))\n",
    "            cv2.waitKey(500)\n",
    "        \n",
    "        # create all thread\n",
    "        with self.threadCreationLock:\n",
    "            for i in range(0,self.nbListByLine*self.nbListByLine): \n",
    "                x = threading.Thread(target=self.SimulationPart, args=(i,))\n",
    "                self.threads.append(x)\n",
    "            # run all thread\n",
    "            for thread in self.threads:\n",
    "                thread.start()\n",
    "        # wait all thread\n",
    "        someOneAlive = True\n",
    "        while someOneAlive :\n",
    "            someOneAlive = False\n",
    "            for i in range(0,self.nbListByLine*self.nbListByLine):\n",
    "                if self.threads[i].is_alive():\n",
    "                    self.threads[i].join()\n",
    "                    someOneAlive = True\n",
    "        \n",
    "        self.waitersCount = sum(self.waitersCounts)\n",
    "                    \n",
    "        if self.debug.debug or self.UI==affichage.OpenCV:\n",
    "            self.mapList.append(copy.copy(self.map))\n",
    "            if self.UI==affichage.OpenCV:\n",
    "                cv2.imshow(\"img\", createImage(self.map))\n",
    "                cv2.waitKey(500)\n",
    "    \n",
    "        if self.UI==affichage.OpenCV:\n",
    "            cv2.destroyAllWindows()"
   ]
  },
  {
   "cell_type": "code",
   "execution_count": 51,
   "metadata": {
    "pycharm": {
     "is_executing": false
    }
   },
   "outputs": [],
   "source": [
    "class Personne_3(Personne):\n",
    "    \n",
    "    def __init__(self, grid, Xinit, Yinit, Xsortie, Ysortie, debug):\n",
    "        Personne.__init__(self, grid, Xinit, Yinit, Xsortie, Ysortie, debug)\n",
    "\n",
    "        \n",
    "        \n",
    "    def deplacePersonne(self, grid, debug):\n",
    "        if self.X==self.Xsortie and self.Y==self.Ysortie:\n",
    "            # la personne est arrivée à la sortie\n",
    "            # on retire la personne de la liste\n",
    "            grid.removePersonne(self)\n",
    "            # on libere la case de sortie\n",
    "            grid.Set(self.X, self.Y, const.EMPTY)\n",
    "            return True, False\n",
    "    \n",
    "        # sinon on recherche les déplacements possibles\n",
    "        availableMove = self.getAvailableMove(grid)\n",
    "        debug.affiche(\"La personne (\", self.X, self.Y, \") peut se déplacer sur :\", availableMove)\n",
    "            \n",
    "        if len(availableMove)>0:\n",
    "            deplacementChoisi = availableMove[0]\n",
    "            ancient_index = grid.getListIndexOf(self.X, self.Y)\n",
    "            new_index = grid.getListIndexOf(deplacementChoisi[1], deplacementChoisi[2])\n",
    "            if ancient_index == new_index :\n",
    "                self.Move(grid, deplacementChoisi) \n",
    "                return False, False\n",
    "            else :\n",
    "                if grid.partLocks[new_index].acquire(True, 0.1):\n",
    "                    if grid.isCellEmpty(deplacementChoisi[1], deplacementChoisi[2]):\n",
    "                        self.Move(grid, deplacementChoisi) \n",
    "                        grid.changeGridPart(self, ancient_index, new_index)\n",
    "                        grid.partLocks[new_index].release()\n",
    "                        return False, False\n",
    "                    grid.partLocks[new_index].release()\n",
    "        \n",
    "        # sinon aucun d\"éplacement n'est possible\n",
    "        if grid.UI==affichage.OpenCV:\n",
    "            grid.Set(self.X, self.Y, const.IMMOBILE)\n",
    "        debug.affiche(\"La personne (\", self.X, self.Y, \"ne peut pas se déplacer\")\n",
    "        return False, True"
   ]
  },
  {
   "cell_type": "code",
   "execution_count": 55,
   "metadata": {},
   "outputs": [
    {
     "name": "stdout",
     "output_type": "stream",
     "text": [
      "******************************\n",
      "pour 1 personnes\n",
      "La simulation a duré 0.04200029373168945 secondes\n",
      "Il restait 0 personnes immobiles\n",
      "******************************\n",
      "pour 2 personnes\n",
      "La simulation a duré 0.07999825477600098 secondes\n",
      "Il restait 0 personnes immobiles\n",
      "******************************\n",
      "pour 4 personnes\n",
      "La simulation a duré 0.15201044082641602 secondes\n",
      "Il restait 1 personnes immobiles\n",
      "******************************\n",
      "pour 8 personnes\n",
      "La simulation a duré 0.26400089263916016 secondes\n",
      "Il restait 1 personnes immobiles\n",
      "******************************\n",
      "pour 16 personnes\n",
      "La simulation a duré 0.41699838638305664 secondes\n",
      "Il restait 2 personnes immobiles\n",
      "******************************\n",
      "pour 32 personnes\n",
      "La simulation a duré 1.2332520484924316 secondes\n",
      "Il restait 7 personnes immobiles\n",
      "******************************\n",
      "pour 64 personnes\n",
      "La simulation a duré 2.3308634757995605 secondes\n",
      "Il restait 28 personnes immobiles\n",
      "******************************\n",
      "pour 128 personnes\n",
      "La simulation a duré 4.724027156829834 secondes\n",
      "Il restait 70 personnes immobiles\n",
      "******************************\n",
      "pour 256 personnes\n",
      "La simulation a duré 8.448053359985352 secondes\n",
      "Il restait 160 personnes immobiles\n",
      "******************************\n",
      "pour 512 personnes\n",
      "La simulation a duré 14.101837158203125 secondes\n",
      "Il restait 419 personnes immobiles\n",
      "******************************\n",
      "pour 1024 personnes\n",
      "La simulation a duré 26.554482460021973 secondes\n",
      "Il restait 835 personnes immobiles\n"
     ]
    },
    {
     "data": {
      "image/png": "[encoded data removed]",
      "text/plain": [
       "<Figure size 432x288 with 1 Axes>"
      ]
     },
     "metadata": {
      "needs_background": "light"
     },
     "output_type": "display_data"
    }
   ],
   "source": [
    "if run_scenar3:\n",
    "    ''' plot du temps d'exécution en fonction du nombre de personnes '''\n",
    "    \n",
    "    debug = Debug(False)\n",
    "    \n",
    "    duration_3 = []  # i est le numéro du scénario\n",
    "    nb_personnes = []\n",
    "    for i in range(NB_OF_THREADS):\n",
    "        nb_personnes += [np.power(2, i)]\n",
    "        if nb_personnes[-1] != 8 and False:\n",
    "            continue\n",
    "        print(\"*\"*30)\n",
    "        print(\"pour\", nb_personnes[-1], \"personnes\")\n",
    "    \n",
    "        file = open_file(grande_grille, debug)  # On ouvre le fichier\n",
    "        X, Y = read_grid_size(file, debug) # On lit la taille\n",
    "        debug.affiche(\"simulation pour une grille:\", X, Y)\n",
    "        grid = Grille_3(X, Y,affichage.Aucun, debug)     # On créée l'objet grille\n",
    "        read_obstacles(file, grid, Obstacle, debug)  # On lit et positionne les obstacles\n",
    "        read_personnes(file, grid, Personne_3, nb_personnes[-1], debug) # On lit et positionne le nombre de personne souhaité seule personne\n",
    "        debug.affiche(\"nbre de personnes\", len(grid.personneList))\n",
    "    \n",
    "    \n",
    "        start = time.time()\n",
    "        grid.Simulation()\n",
    "        end = time.time()\n",
    "        duration_3 += [end-start]\n",
    "        print(\"La simulation a duré\", duration_3[-1], \"secondes\")\n",
    "        print(\"Il restait\", grid.waitersCount, \"personnes immobiles\")\n",
    "    \n",
    "    #Vous ferez un plot de l'évolution des temps d'exécution\n",
    "    #plt.plot(nb_personnes, duration_1, label=\"Une seule thread\")\n",
    "    #plt.plot(nb_personnes, duration_2, label=\"Une thread par personne\")\n",
    "    plt.plot(nb_personnes, duration_3, label=\"Une thread par quard de terrain\")\n",
    "    plt.xlabel(\"nombre de personnes\")\n",
    "    plt.ylabel(\"temps en secondes\")\n",
    "    plt.legend()\n",
    "    plt.show()\n"
   ]
  },
  {
   "cell_type": "markdown",
   "metadata": {},
   "source": [
    "<h2>Explication du scénario 3 :</h2>\n",
    "\n",
    "Dans cette solution nous avons surchargé la classe Personne_3 et Grille_3 afin de résoudre le problème de division de la grille nous avons utilisé une liste de liste de personne, la taille de cette liste étant 4 (nombre des sous grille) et chaque case, contient tous les personnes (donc une liste de personne) qui se trouvent dans ce quart de la grille. Afin, de gérer le problème d'interblocage nous avons initialisé un tableau de locks qui va bloquer le quart de la grille quand une personne s'y déplace ou quand une personne veut se déplacer d'un autre quart à celui-ci.\n"
   ]
  },
  {
   "cell_type": "markdown",
   "metadata": {},
   "source": [
    "En Conclusion, la solution du scénario 3 est la solution la plus optimale, car elle permet de déplacer la foule (en même temps), sans consommer beaucoup de ressource de la mémoire. "
   ]
  },
  {
   "cell_type": "code",
   "execution_count": 67,
   "metadata": {},
   "outputs": [
    {
     "data": {
      "image/png": "[encoded data removed]",
      "text/plain": [
       "<Figure size 432x288 with 1 Axes>"
      ]
     },
     "metadata": {
      "needs_background": "light"
     },
     "output_type": "display_data"
    }
   ],
   "source": [
    "ratio_2 = []\n",
    "ratio_3 = []\n",
    "ratio_4 = []\n",
    "for i,j,k in zip(duration_1, duration_2, duration_3):\n",
    "    ratio_2 += [j/i]\n",
    "    ratio_3 += [k/i]\n",
    "    ratio_4 += [k/j]\n",
    "plt.plot(nb_personnes, ratio_2, label=\"rapport r2/r1\")\n",
    "plt.plot(nb_personnes, ratio_3, label=\"rapport r3/r1\")\n",
    "plt.plot(nb_personnes, ratio_4, label=\"rapport r3/r2\")\n",
    "plt.xlabel(\"nombre de personnes\")\n",
    "plt.ylabel(\"ratio\")\n",
    "plt.legend()\n",
    "plt.show()"
   ]
  },
  {
   "cell_type": "markdown",
   "metadata": {},
   "source": [
    "## Comparaison des trois approches\n",
    "\n",
    "<span style=\"color:red\">On attend ici une comparaison argumentée permettant de mettre en évidence les points forts et les points faibles des différentes solutions</span><br>\n",
    "\n",
    "\n",
    "<table style = \"border: 2px solid black; border-collapse: collapse;\">\n",
    "    <tr>\n",
    "        <th>Scénarios</th>\n",
    "        <th style =\"border:solid; text-align: center\">Points forts</th>\n",
    "        <th style =\"border:solid; text-align: center\">Points faibles</th>\n",
    "    </tr>\n",
    "    <tr>\n",
    "        <th style =\"border:solid; text-align: center\">1</th>\n",
    "        <th style =\"border:solid; text-align: center\">Solution simple, naif et directe. Cette solution a un avantage d'être très rapide à programmer et à comprendre.</th>\n",
    "        <th style =\"border:solid; text-align: center\">Certes cette solution est rapide à programmer, par contre on ne donne pas la chance au programme de diviser son travail.</th>\n",
    "    </tr>\n",
    "    <tr>\n",
    "        <th style =\"border:solid; text-align: center\">2</th>\n",
    "        <th style =\"border:solid; text-align: center\">Permet la distribution du travail entre plusieurs threads.</th>\n",
    "        <th style =\"border:solid; text-align: center\">Dans cette solution nous utilisons un thread par personne, cela peut être coûteux car trop de thread peut être gourmand en termes de ressource.</th>\n",
    "    </tr>\n",
    "    <tr>\n",
    "        <th style =\"border:solid; text-align: center\">3</th>\n",
    "        <th style =\"border:solid; text-align: center\">Garde l'avantage du scénario 2 sans avec une gestion plus propre et efficace en termes de ressource. Cette solution permet de donner la chance à une personne de pouvoir se déplacer sur la grille sans pour autant surcharger le processus de threads.</th>\n",
    "        <th style =\"border:solid; text-align: center\">Risque d'interblocage dans le cas où deux personne de quarts différent A et B souhaite se rendre respectivement dans les quarts B et A au même moment. Cet interblocage a été résolu par un timeout ce qui peut conduire à des variations de temps d'exécution selon le placement des personnes.</th>\n",
    "    </tr>\n",
    "</table>"
   ]
  },
  {
   "cell_type": "markdown",
   "metadata": {},
   "source": [
    "## Export du notebook dans un fichier python"
   ]
  },
  {
   "cell_type": "code",
   "execution_count": null,
   "metadata": {
    "ExecuteTime": {
     "end_time": "2020-09-09T14:49:56.670691Z",
     "start_time": "2020-09-09T14:49:41.283Z"
    },
    "pycharm": {
     "is_executing": false
    }
   },
   "outputs": [],
   "source": [
    "import sys,json\n",
    "import ipyparams\n",
    "\n",
    "def convertNotebook(notebookPath, modulePath):\n",
    "    f = open(notebookPath, 'r') #input.ipynb\n",
    "    j = json.load(f)\n",
    "\n",
    "    of = open(modulePath, 'w') #output.py\n",
    "\n",
    "    if j[\"nbformat\"] >=4:\n",
    "        for i,cell in enumerate(j[\"cells\"]):\n",
    "            if cell['cell_type']=='code':\n",
    "                of.write(\"#cell \"+str(i+1)+\"\\n\")\n",
    "                for line in cell[\"source\"]:\n",
    "                    of.write(line)\n",
    "                of.write('\\n\\n')\n",
    "    else:\n",
    "        print(\"not implemented\")\n",
    "\n",
    "    of.close()"
   ]
  },
  {
   "cell_type": "code",
   "execution_count": null,
   "metadata": {
    "ExecuteTime": {
     "end_time": "2020-09-09T14:49:56.671833Z",
     "start_time": "2020-09-09T14:49:46.226Z"
    },
    "pycharm": {
     "is_executing": false
    }
   },
   "outputs": [],
   "source": [
    "''' Remarks: it is necessary to put the import code in a separate cell above the call of function.\n",
    "Otherwise Jupyter will try to run the code before the library is fully loaded,\n",
    "so the currentNotebook variable is still blank.\n",
    "\n",
    "Putting the import in its own cell forces it to load before moving to the next cell.\n",
    "'''\n",
    "if is_running_from_ipython():\n",
    "    currentNotebook = ipyparams.notebook_name\n",
    "    pythonName = currentNotebook.split(\".\")[0]+\".py\"\n",
    "\n",
    "    convertNotebook(currentNotebook, pythonName)"
   ]
  },
  {
   "cell_type": "code",
   "execution_count": null,
   "metadata": {
    "pycharm": {
     "is_executing": false
    }
   },
   "outputs": [],
   "source": []
  }
 ],
 "metadata": {
  "kernelspec": {
   "display_name": "Python 3",
   "language": "python",
   "name": "python3"
  },
  "language_info": {
   "codemirror_mode": {
    "name": "ipython",
    "version": 3
   },
   "file_extension": ".py",
   "mimetype": "text/x-python",
   "name": "python",
   "nbconvert_exporter": "python",
   "pygments_lexer": "ipython3",
   "version": "3.6.5"
  },
  "pycharm": {
   "stem_cell": {
    "cell_type": "raw",
    "metadata": {
     "collapsed": false
    },
    "source": []
   }
  }
 },
 "nbformat": 4,
 "nbformat_minor": 4
}
