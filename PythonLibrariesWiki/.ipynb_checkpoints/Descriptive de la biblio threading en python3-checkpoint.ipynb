{
 "cells": [
  {
   "cell_type": "markdown",
   "metadata": {},
   "source": [
    "# Attention : Ce fichier est majoritairement du copier/coller sur le site <https://realpython.com/intro-to-python-threading/> donc il sera changer ultérieument."
   ]
  },
  {
   "cell_type": "raw",
   "metadata": {},
   "source": [
    "\n",
    "\n",
    "Thread library in python is static (no need to download) \n",
    "\n",
    "The threading module builds on the low-level features of thread to make working with threads even easier and more pythonic. Using threads allows a program to run multiple operations concurrently in the same process space. \n",
    "\n",
    "We need a function to create a thread, the arguments of that functions are given in the threading.Thread function. (see details) \n",
    "\n",
    ".start() starts the thread \n",
    "\n",
    "When you create a Thread, you pass it a function and a list containing the arguments to that function. In this case, you’re telling the Thread to run your_function() and to pass it 0 or n arguments. \n",
    "\n",
    "your_function() : is the function needed to create a thread. \n",
    "\n",
    "Daemon Threads : \n",
    "\n",
    "A daemon thread will shut down immediately when the program exits. One way to think about these definitions is to consider the daemon thread a thread that runs in the background without worrying about shutting it down. \n",
    "\n",
    "Your program waits to exit because the thread itself is waiting in a sleep. As soon as it has completed and printed the message, .join() will return and the program can exit. Adding the daemon=True flag to the thread constructor to use the daemon  \n",
    "\n",
    "join() a Thread : \n",
    "\n",
    "To tell one thread to wait for another thread to finish, you call .join(). The main thread will pause and wait for the thread x to complete running. \n",
    "\n",
    "Race Conditions: \n",
    "\n",
    "A race condition arises in software when a computer program, to operate properly, depends on the sequence or timing of the program's processes or threads. Critical race conditions cause invalid execution and software bugs. Critical race conditions often happen when the processes or threads depend on some shared state. Operations upon shared states are done in critical sections that must be mutually exclusive. Failure to obey this rule can corrupt the shared state. \n",
    "\n",
    "Basic Synchronization Using Lock :  \n",
    "\n",
    "Multiprocessing in python : \n",
    "\n",
    "multiprocessing is a package that supports spawning processes using an API similar to the threading module. The multiprocessing package offers both local and remote concurrency, effectively side-stepping the Global Interpreter Lock by using subprocesses instead of threads. Due to this, the multiprocessing module allows the programmer to fully leverage multiple processors on a given machine. It runs on both Unix and Windows. "
   ]
  }
 ],
 "metadata": {
  "kernelspec": {
   "display_name": "Python 3",
   "language": "python",
   "name": "python3"
  },
  "language_info": {
   "codemirror_mode": {
    "name": "ipython",
    "version": 3
   },
   "file_extension": ".py",
   "mimetype": "text/x-python",
   "name": "python",
   "nbconvert_exporter": "python",
   "pygments_lexer": "ipython3",
   "version": "3.8.5"
  }
 },
 "nbformat": 4,
 "nbformat_minor": 4
}
