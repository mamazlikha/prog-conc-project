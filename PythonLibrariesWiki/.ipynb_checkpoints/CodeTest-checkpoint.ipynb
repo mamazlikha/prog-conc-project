{
 "cells": [
  {
   "cell_type": "markdown",
   "metadata": {},
   "source": [
    "## Exemple simple d'utilisation de thread"
   ]
  },
  {
   "cell_type": "code",
   "execution_count": null,
   "metadata": {},
   "outputs": [],
   "source": [
    "#!/usr/bin/python\n",
    "import threading\n",
    "import time\n",
    "\n",
    "# thread function to start\n",
    "\n",
    "def print_function():\n",
    "    print(\"Hello world!\\n\")\n",
    "\n",
    "\n",
    "if __name__ == \"__main__\":\n",
    "     x = threading.Thread(target=print_function, ) # creating and initializing thread\n",
    "     x.start() \n",
    "     x.join() # launch the thread"
   ]
  },
  {
   "cell_type": "raw",
   "metadata": {},
   "source": [
    "Ici, la thread est definie avec threading.Thread(...) et est créer avec le x.start(). La fonction utilisé par celle ci sera print_function."
   ]
  },
  {
   "cell_type": "markdown",
   "metadata": {},
   "source": [
    "## Mise en évidence du flot d'execution de plusieur thread"
   ]
  },
  {
   "cell_type": "code",
   "execution_count": 1,
   "metadata": {
    "scrolled": true
   },
   "outputs": [
    {
     "name": "stdout",
     "output_type": "stream",
     "text": [
      "Lancement de  10  threads :\n",
      "12345678910"
     ]
    }
   ],
   "source": [
    "import threading\n",
    "import time\n",
    "\n",
    "N = 10;\n",
    "\n",
    "def thread_function(i):\n",
    "    time.sleep(2)\n",
    "    print(i, sep='', end='')\n",
    "\n",
    "if __name__ == \"__main__\":\n",
    "    print(\"Lancement de \", N ,\" threads :\")\n",
    "    \n",
    "    i=0\n",
    "    while i<N :\n",
    "        i=i+1\n",
    "        x = threading.Thread(target=thread_function, args=(i,))\n",
    "        x.start()"
   ]
  },
  {
   "cell_type": "markdown",
   "metadata": {},
   "source": [
    "On peut observer ici que les affichages des différentes thread ne se feront pas dans l'ordre bien que leur création le furent."
   ]
  },
  {
   "cell_type": "code",
   "execution_count": null,
   "metadata": {},
   "outputs": [],
   "source": [
    "import threading \n",
    "import time\n",
    "\n",
    "i = 0\n",
    "\n",
    "def my_func1():\n",
    "    i += 1\n",
    "    \n",
    "def my_func2():\n",
    "    i += 1\n",
    "    \n",
    "if __name__ == \"__main__\":\n",
    "     x = threading.Thread(target=print_function, )\n",
    "     x.start() \n",
    "     \n",
    "     y = threading.Thread(target=print_function, )\n",
    "     y.start() \n",
    "     "
   ]
  }
 ],
 "metadata": {
  "kernelspec": {
   "display_name": "Python 3",
   "language": "python",
   "name": "python3"
  },
  "language_info": {
   "codemirror_mode": {
    "name": "ipython",
    "version": 3
   },
   "file_extension": ".py",
   "mimetype": "text/x-python",
   "name": "python",
   "nbconvert_exporter": "python",
   "pygments_lexer": "ipython3",
   "version": "3.8.5"
  }
 },
 "nbformat": 4,
 "nbformat_minor": 4
}
