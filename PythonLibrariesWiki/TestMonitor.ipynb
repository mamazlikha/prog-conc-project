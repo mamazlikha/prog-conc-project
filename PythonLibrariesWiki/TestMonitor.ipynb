{
 "cells": [
  {
   "cell_type": "markdown",
   "metadata": {},
   "source": [
    "# Test monitor"
   ]
  },
  {
   "cell_type": "code",
   "execution_count": 5,
   "metadata": {},
   "outputs": [
    {
     "name": "stdout",
     "output_type": "stream",
     "text": [
      "1 parked\n",
      "2 parked\n",
      "3 parked\n",
      "11 is waiting to leave\n",
      "12 is waiting to leave\n",
      "11 leaved\n",
      "8 parked\n",
      "12 leaved\n",
      "6 parked\n",
      "13 is waiting to leave\n",
      "13 leaved\n",
      "14 is waiting to leave\n",
      "14 leaved\n",
      "5 parked\n",
      "4 parked\n",
      "15 is waiting to leave\n",
      "15 leaved\n",
      "17 is waiting to leave\n",
      "17 leaved\n",
      "16 is waiting to leave\n",
      "7 parked\n",
      "18 is waiting to leave\n",
      "18 leaved\n",
      "19 is waiting to leave\n",
      "16 leaved\n",
      "9 parked\n",
      "19 leaved\n"
     ]
    }
   ],
   "source": [
    "import threading\n",
    "\n",
    "class CarParkingMonitor :\n",
    "    def __init__(self, capacity) :\n",
    "        self.capacity = capacity\n",
    "        #self.free = threading.Semaphore(capacity)\n",
    "        #self.toEmpty = threading.Semaphore(0)\n",
    "        self.freePlaces = capacity\n",
    "        self.useLock = threading.Lock()\n",
    "        self.useAvailable = threading.Condition(self.useLock)\n",
    "    \n",
    "    def takePlace(self) :\n",
    "        with self.useLock :\n",
    "            while self.freePlaces <=0 :\n",
    "                self.useAvailable.wait()\n",
    "            self.freePlaces=self.freePlaces-1\n",
    "            self.useAvailable.notifyAll()\n",
    "        \n",
    "    def freePlace(self) :\n",
    "        with self.useLock :\n",
    "            while self.freePlaces >= self.capacity :\n",
    "                self.useAvailable.wait()\n",
    "            self.freePlaces=self.freePlaces+1\n",
    "            self.useAvailable.notifyAll()\n",
    "\n",
    "monitor = CarParkingMonitor(3)\n",
    "printLock = threading.Lock()\n",
    "\n",
    "def whoArrive(i) :\n",
    "    global monitor\n",
    "    global printLock\n",
    "    printLock.acquire()\n",
    "    if monitor.capacity==0 : \n",
    "        print(i,\"is waiting to park\")\n",
    "    printLock.release()\n",
    "    monitor.takePlace()\n",
    "    printLock.acquire()\n",
    "    print(i,\"parked\")\n",
    "    printLock.release()\n",
    "    \n",
    "    \n",
    "def whoLeave(i) :\n",
    "    global monitor\n",
    "    global printLock\n",
    "    printLock.acquire()\n",
    "    if monitor.capacity!=0 : \n",
    "        print(i,\"is waiting to leave\")\n",
    "    printLock.release()\n",
    "    monitor.freePlace()\n",
    "    printLock.acquire()\n",
    "    print(i,\"leaved\")\n",
    "    printLock.release()\n",
    "    \n",
    "for i in range(1,10) :\n",
    "    t1 = threading.Thread(target = whoArrive, args=(i,))\n",
    "    t1.start()\n",
    "    \n",
    "for i in range(1,10) :\n",
    "    t2 = threading.Thread(target = whoLeave, args=(10+i,))\n",
    "    t2.start()\n",
    "    "
   ]
  },
  {
   "cell_type": "code",
   "execution_count": null,
   "metadata": {},
   "outputs": [],
   "source": []
  }
 ],
 "metadata": {
  "kernelspec": {
   "display_name": "Python 3",
   "language": "python",
   "name": "python3"
  },
  "language_info": {
   "codemirror_mode": {
    "name": "ipython",
    "version": 3
   },
   "file_extension": ".py",
   "mimetype": "text/x-python",
   "name": "python",
   "nbconvert_exporter": "python",
   "pygments_lexer": "ipython3",
   "version": "3.8.5"
  }
 },
 "nbformat": 4,
 "nbformat_minor": 4
}
