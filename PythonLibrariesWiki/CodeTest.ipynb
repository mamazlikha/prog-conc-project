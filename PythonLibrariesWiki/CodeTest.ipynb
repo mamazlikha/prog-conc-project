{
 "cells": [
  {
   "cell_type": "markdown",
   "metadata": {},
   "source": [
    "## Exemple simple d'utilisation de thread"
   ]
  },
  {
   "cell_type": "code",
   "execution_count": null,
   "metadata": {},
   "outputs": [],
   "source": [
    "#!/usr/bin/python\n",
    "import threading\n",
    "import time\n",
    "\n",
    "# thread function to start\n",
    "\n",
    "def print_function():\n",
    "    print(\"Hello world!\\n\")\n",
    "\n",
    "\n",
    "if __name__ == \"__main__\":\n",
    "     x = threading.Thread(target=print_function, ) # creating and initializing thread\n",
    "     x.start() \n",
    "     x.join() # launch the thread"
   ]
  },
  {
   "cell_type": "raw",
   "metadata": {},
   "source": [
    "Ici, la thread est definie avec threading.Thread(...) et est créer avec le x.start(). La fonction utilisé par celle ci sera print_function."
   ]
  },
  {
   "cell_type": "markdown",
   "metadata": {},
   "source": [
    "## Mise en évidence du flot d'execution de plusieur thread"
   ]
  },
  {
   "cell_type": "code",
   "execution_count": 1,
   "metadata": {
    "scrolled": true
   },
   "outputs": [
    {
     "name": "stdout",
     "output_type": "stream",
     "text": [
      "Lancement de  10  threads :\n",
      "12345678910"
     ]
    }
   ],
   "source": [
    "import threading\n",
    "import time\n",
    "\n",
    "N = 10;\n",
    "\n",
    "def thread_function(i):\n",
    "    time.sleep(2)\n",
    "    print(i, sep='', end='')\n",
    "\n",
    "if __name__ == \"__main__\":\n",
    "    print(\"Lancement de \", N ,\" threads :\")\n",
    "    \n",
    "    i=0\n",
    "    while i<N :\n",
    "        i=i+1\n",
    "        x = threading.Thread(target=thread_function, args=(i,))\n",
    "        x.start()"
   ]
  },
  {
   "cell_type": "markdown",
   "metadata": {},
   "source": [
    "On peut observer ici que les affichages des différentes thread ne se feront pas dans l'ordre bien que leur création le furent."
   ]
  },
  {
   "cell_type": "code",
   "execution_count": 63,
   "metadata": {
    "scrolled": false
   },
   "outputs": [
    {
     "name": "stdout",
     "output_type": "stream",
     "text": [
      "fun1 starting\n",
      "Fun1 Working 1\n",
      "Fun1 Working 2\n",
      "fun1 finished\n",
      "fun2 startingAll Threads done Exiting\n",
      "\n",
      "\n",
      " fun2() Got Semphore \n",
      "\n",
      "Fun2 Working 1\n",
      "Fun2 Working 2\n"
     ]
    }
   ],
   "source": [
    "import threading\n",
    "\n",
    "sem = threading.Semaphore(1)\n",
    "\n",
    "def fun1():\n",
    "    print(\"fun1 starting\")\n",
    "    sem.acquire()\n",
    "    for loop in range(1,3):\n",
    "        print(\"Fun1 Working {}\".format(loop))\n",
    "\n",
    "    sem.release()\n",
    "    print(\"fun1 finished\")\n",
    "\n",
    "\n",
    "\n",
    "def fun2():\n",
    "    print(\"fun2 starting\")\n",
    "    while not sem.acquire(blocking=False): \n",
    "        print(\"Fun2 No Semaphore available\") # on fait un affichage tant que la semaphore n'est pas libérer par la fun1() si \n",
    "        # fun()1 prend la semaphore avant fun2(). Dans l'autre cas on n'aura pas à entrer dans cette boucle quasi-infinie\n",
    "        \n",
    "    else:\n",
    "        print(\"\\n fun2() Got Semphore \\n\")\n",
    "        for loop in range(1, 3):\n",
    "            print(\"Fun2 Working {}\".format(loop))\n",
    "            \n",
    "    sem.release()\n",
    "\n",
    "t1 = threading.Thread(target = fun1)\n",
    "t2 = threading.Thread(target = fun2)\n",
    "t1.start()\n",
    "t2.start()\n",
    "\n",
    "print(\"All Threads done Exiting\")\n"
   ]
  },
  {
   "cell_type": "code",
   "execution_count": null,
   "metadata": {},
   "outputs": [],
   "source": []
  },
  {
   "cell_type": "code",
   "execution_count": null,
   "metadata": {},
   "outputs": [],
   "source": []
  },
  {
   "cell_type": "code",
   "execution_count": null,
   "metadata": {},
   "outputs": [],
   "source": []
  },
  {
   "cell_type": "code",
   "execution_count": null,
   "metadata": {},
   "outputs": [],
   "source": []
  },
  {
   "cell_type": "code",
   "execution_count": null,
   "metadata": {},
   "outputs": [],
   "source": []
  },
  {
   "cell_type": "code",
   "execution_count": null,
   "metadata": {},
   "outputs": [],
   "source": []
  }
 ],
 "metadata": {
  "kernelspec": {
   "display_name": "Python 3",
   "language": "python",
   "name": "python3"
  },
  "language_info": {
   "codemirror_mode": {
    "name": "ipython",
    "version": 3
   },
   "file_extension": ".py",
   "mimetype": "text/x-python",
   "name": "python",
   "nbconvert_exporter": "python",
   "pygments_lexer": "ipython3",
   "version": "3.6.5"
  }
 },
 "nbformat": 4,
 "nbformat_minor": 4
}
